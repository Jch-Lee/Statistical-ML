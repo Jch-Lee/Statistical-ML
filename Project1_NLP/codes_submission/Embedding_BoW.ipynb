{
 "cells": [
  {
   "cell_type": "code",
   "execution_count": 1,
   "metadata": {},
   "outputs": [],
   "source": [
    "import nltk\n",
    "from nltk.tokenize import TweetTokenizer\n",
    "from sklearn.feature_extraction.text import CountVectorizer\n",
    "\n",
    "import pandas as pd"
   ]
  },
  {
   "cell_type": "code",
   "execution_count": 2,
   "metadata": {},
   "outputs": [
    {
     "data": {
      "text/html": [
       "<div>\n",
       "<style scoped>\n",
       "    .dataframe tbody tr th:only-of-type {\n",
       "        vertical-align: middle;\n",
       "    }\n",
       "\n",
       "    .dataframe tbody tr th {\n",
       "        vertical-align: top;\n",
       "    }\n",
       "\n",
       "    .dataframe thead th {\n",
       "        text-align: right;\n",
       "    }\n",
       "</style>\n",
       "<table border=\"1\" class=\"dataframe\">\n",
       "  <thead>\n",
       "    <tr style=\"text-align: right;\">\n",
       "      <th></th>\n",
       "      <th>id</th>\n",
       "      <th>combined_str</th>\n",
       "      <th>target</th>\n",
       "    </tr>\n",
       "  </thead>\n",
       "  <tbody>\n",
       "    <tr>\n",
       "      <th>0</th>\n",
       "      <td>1</td>\n",
       "      <td>deed reason #earthquake may allah forgive</td>\n",
       "      <td>1</td>\n",
       "    </tr>\n",
       "    <tr>\n",
       "      <th>1</th>\n",
       "      <td>4</td>\n",
       "      <td>forest fire near ronge sask canada</td>\n",
       "      <td>1</td>\n",
       "    </tr>\n",
       "    <tr>\n",
       "      <th>2</th>\n",
       "      <td>5</td>\n",
       "      <td>resident ask shelter place notify officer evac...</td>\n",
       "      <td>1</td>\n",
       "    </tr>\n",
       "    <tr>\n",
       "      <th>3</th>\n",
       "      <td>6</td>\n",
       "      <td>13000 people receive #wildfires evacuation ord...</td>\n",
       "      <td>1</td>\n",
       "    </tr>\n",
       "    <tr>\n",
       "      <th>4</th>\n",
       "      <td>7</td>\n",
       "      <td>get sent photo ruby #alaska smoke #wildfires p...</td>\n",
       "      <td>1</td>\n",
       "    </tr>\n",
       "  </tbody>\n",
       "</table>\n",
       "</div>"
      ],
      "text/plain": [
       "   id                                       combined_str  target\n",
       "0   1          deed reason #earthquake may allah forgive       1\n",
       "1   4                 forest fire near ronge sask canada       1\n",
       "2   5  resident ask shelter place notify officer evac...       1\n",
       "3   6  13000 people receive #wildfires evacuation ord...       1\n",
       "4   7  get sent photo ruby #alaska smoke #wildfires p...       1"
      ]
     },
     "execution_count": 2,
     "metadata": {},
     "output_type": "execute_result"
    }
   ],
   "source": [
    "train = pd.read_csv(\"train_for_NLP.csv\")\n",
    "train.head()"
   ]
  },
  {
   "cell_type": "code",
   "execution_count": 3,
   "metadata": {},
   "outputs": [],
   "source": [
    "# TweetTokenizer 초기화\n",
    "tokenizer = TweetTokenizer()\n",
    "\n",
    "# 데이터프레임 생성\n",
    "import pandas as pd\n",
    "df = pd.DataFrame(train)\n",
    "\n",
    "# combined_str 컬럼에 대해 토큰화 수행\n",
    "df['tokens'] = df['combined_str'].apply(lambda x: tokenizer.tokenize(x))"
   ]
  },
  {
   "cell_type": "code",
   "execution_count": 4,
   "metadata": {},
   "outputs": [
    {
     "name": "stderr",
     "output_type": "stream",
     "text": [
      "c:\\Users\\jongcheol\\AppData\\Local\\Programs\\Python\\Python310\\lib\\site-packages\\sklearn\\feature_extraction\\text.py:525: UserWarning: The parameter 'token_pattern' will not be used since 'tokenizer' is not None'\n",
      "  warnings.warn(\n"
     ]
    },
    {
     "name": "stdout",
     "output_type": "stream",
     "text": [
      "      ##book  ##fukushima  ##youtube  #0215  #034  #039  #039monster  #06  \\\n",
      "0          0            0          0      0     0     0            0    0   \n",
      "1          0            0          0      0     0     0            0    0   \n",
      "2          0            0          0      0     0     0            0    0   \n",
      "3          0            0          0      0     0     0            0    0   \n",
      "4          0            0          0      0     0     0            0    0   \n",
      "...      ...          ...        ...    ...   ...   ...          ...  ...   \n",
      "7608       0            0          0      0     0     0            0    0   \n",
      "7609       0            0          0      0     0     0            0    0   \n",
      "7610       0            0          0      0     0     0            0    0   \n",
      "7611       0            0          0      0     0     0            0    0   \n",
      "7612       0            0          0      0     0     0            0    0   \n",
      "\n",
      "      #09  #1008pla  ...  zonesthank  zonewolf  zoom  zotar  zouma  zrnf  \\\n",
      "0       0         0  ...           0         0     0      0      0     0   \n",
      "1       0         0  ...           0         0     0      0      0     0   \n",
      "2       0         0  ...           0         0     0      0      0     0   \n",
      "3       0         0  ...           0         0     0      0      0     0   \n",
      "4       0         0  ...           0         0     0      0      0     0   \n",
      "...   ...       ...  ...         ...       ...   ...    ...    ...   ...   \n",
      "7608    0         0  ...           0         0     0      0      0     0   \n",
      "7609    0         0  ...           0         0     0      0      0     0   \n",
      "7610    0         0  ...           0         0     0      0      0     0   \n",
      "7611    0         0  ...           0         0     0      0      0     0   \n",
      "7612    0         0  ...           0         0     0      0      0     0   \n",
      "\n",
      "      zumiez  zurich  zzz  ª93  \n",
      "0          0       0    0    0  \n",
      "1          0       0    0    0  \n",
      "2          0       0    0    0  \n",
      "3          0       0    0    0  \n",
      "4          0       0    0    0  \n",
      "...      ...     ...  ...  ...  \n",
      "7608       0       0    0    0  \n",
      "7609       0       0    0    0  \n",
      "7610       0       0    0    0  \n",
      "7611       0       0    0    0  \n",
      "7612       0       0    0    0  \n",
      "\n",
      "[7613 rows x 16131 columns]\n"
     ]
    }
   ],
   "source": [
    "# CountVectorizer 초기화\n",
    "vectorizer = CountVectorizer(tokenizer=lambda x: x, preprocessor=lambda x: x)\n",
    "\n",
    "# BoW 임베딩 수행\n",
    "bow_matrix = vectorizer.fit_transform(df['tokens'])\n",
    "\n",
    "# BoW 결과를 DataFrame으로 변환\n",
    "bow_df = pd.DataFrame(bow_matrix.toarray(), columns=vectorizer.get_feature_names_out())\n",
    "\n",
    "print(bow_df)"
   ]
  }
 ],
 "metadata": {
  "kernelspec": {
   "display_name": "Python 3",
   "language": "python",
   "name": "python3"
  },
  "language_info": {
   "codemirror_mode": {
    "name": "ipython",
    "version": 3
   },
   "file_extension": ".py",
   "mimetype": "text/x-python",
   "name": "python",
   "nbconvert_exporter": "python",
   "pygments_lexer": "ipython3",
   "version": "3.10.1"
  }
 },
 "nbformat": 4,
 "nbformat_minor": 2
}
