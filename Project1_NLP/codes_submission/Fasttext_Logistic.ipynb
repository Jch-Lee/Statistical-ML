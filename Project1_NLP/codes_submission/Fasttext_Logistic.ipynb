{
 "cells": [
  {
   "cell_type": "code",
   "execution_count": 1,
   "metadata": {},
   "outputs": [
    {
     "name": "stdout",
     "output_type": "stream",
     "text": [
      "Fitting 5 folds for each of 8 candidates, totalling 40 fits\n",
      "FastText - Best Parameters: {'C': 0.01, 'penalty': 'l2', 'solver': 'liblinear'}\n",
      "FastText - Best CV Log Loss: 0.5930340905021328\n"
     ]
    }
   ],
   "source": [
    "# 필요한 패키지 불러오기\n",
    "import pandas as pd\n",
    "import numpy as np\n",
    "from sklearn.linear_model import LogisticRegression\n",
    "from sklearn.model_selection import GridSearchCV\n",
    "from sklearn.preprocessing import StandardScaler\n",
    "from gensim.models import FastText\n",
    "\n",
    "# 데이터 로드\n",
    "train_df = pd.read_csv('train_for_NLP.csv')\n",
    "test_df = pd.read_csv('test_cleaned.csv')\n",
    "\n",
    "# train 데이터에서 특성과 레이블 분리\n",
    "X_train = train_df['combined_str']\n",
    "y_train = train_df['target']\n",
    "\n",
    "# test 데이터의 특성\n",
    "X_test = test_df['combined_str']\n",
    "\n",
    "# 하이퍼파라미터 그리드 설정\n",
    "param_grid = {\n",
    "    'C': [0.01, 0.1, 1, 3],  # 규제 강도\n",
    "    'penalty': ['l1', 'l2'],  # 규제 유형\n",
    "    'solver': ['liblinear']   # 최적화 알고리즘\n",
    "}\n",
    "\n",
    "# 문장을 단어 리스트로 분리\n",
    "sentences = [text.split() for text in X_train]\n",
    "\n",
    "# FastText 모델 학습 (Skipgram 사용)\n",
    "fasttext_model = FastText(sentences, vector_size=100, window=5, sg=1, workers=4)\n",
    "\n",
    "# FastText로 문서 벡터화\n",
    "def vectorize_fasttext(text, model):\n",
    "    words = text.split()\n",
    "    # 각 문서 내 단어 벡터의 평균 계산\n",
    "    word_vectors = [model.wv[word] for word in words if word in model.wv]\n",
    "    \n",
    "    # 단어 벡터가 없는 경우에는 0으로 채운 벡터 반환\n",
    "    if len(word_vectors) > 0:\n",
    "        return np.mean(word_vectors, axis=0)\n",
    "    else:\n",
    "        return np.zeros(model.vector_size)\n",
    "\n",
    "# FastText로 변환된 데이터를 고정된 크기의 벡터로 변환\n",
    "X_train_fasttext = np.array([vectorize_fasttext(text, fasttext_model) for text in X_train])\n",
    "X_test_fasttext = np.array([vectorize_fasttext(text, fasttext_model) for text in X_test])\n",
    "\n",
    "# 스케일링\n",
    "scaler = StandardScaler()\n",
    "X_train_fasttext_scaled = scaler.fit_transform(X_train_fasttext)\n",
    "X_test_fasttext_scaled = scaler.transform(X_test_fasttext)\n",
    "\n",
    "# GridSearchCV 적용\n",
    "grid_search = GridSearchCV(LogisticRegression(max_iter=1000), param_grid, cv=5, scoring='neg_log_loss', verbose=1)\n",
    "grid_search.fit(X_train_fasttext_scaled, y_train)\n",
    "\n",
    "# 최적 파라미터 및 성능 출력\n",
    "print(\"FastText - Best Parameters:\", grid_search.best_params_)\n",
    "print(\"FastText - Best CV Log Loss:\", -grid_search.best_score_)\n",
    "\n",
    "# 테스트 데이터 예측\n",
    "best_model = grid_search.best_estimator_\n",
    "y_test_pred_prob_fasttext = best_model.predict_proba(X_test_fasttext_scaled)[:, 1]\n",
    "y_test_pred_fasttext = (y_test_pred_prob_fasttext >= 0.5).astype(int)\n",
    "\n",
    "# 제출 파일 생성\n",
    "submission_df = pd.read_csv(\"sample_submission.csv\")\n",
    "submission_df['target'] = y_test_pred_fasttext\n",
    "submission_df.to_csv(\"submit_FastText_Logistic.csv\", index=False)\n"
   ]
  }
 ],
 "metadata": {
  "kernelspec": {
   "display_name": "Python 3",
   "language": "python",
   "name": "python3"
  },
  "language_info": {
   "codemirror_mode": {
    "name": "ipython",
    "version": 3
   },
   "file_extension": ".py",
   "mimetype": "text/x-python",
   "name": "python",
   "nbconvert_exporter": "python",
   "pygments_lexer": "ipython3",
   "version": "3.10.1"
  }
 },
 "nbformat": 4,
 "nbformat_minor": 2
}
