{
 "cells": [
  {
   "cell_type": "code",
   "execution_count": 1,
   "metadata": {},
   "outputs": [],
   "source": [
    "# 필요한 패키지 불러오기\n",
    "import pandas as pd\n",
    "import numpy as np\n",
    "from gensim.models import Word2Vec\n",
    "from sklearn.naive_bayes import GaussianNB\n",
    "from sklearn.preprocessing import StandardScaler\n",
    "\n",
    "# 데이터 로드\n",
    "train_df = pd.read_csv('train_for_NLP.csv')\n",
    "test_df = pd.read_csv('test_cleaned.csv')\n",
    "\n",
    "# train 데이터에서 특성과 레이블 분리\n",
    "X_train = train_df['combined_str']\n",
    "y_train = train_df['target']\n",
    "X_test = test_df['combined_str']\n",
    "\n",
    "# Word2Vec 모델 학습 (Skipgram 사용)\n",
    "sentences = [text.split() for text in X_train]\n",
    "w2v_model = Word2Vec(sentences, vector_size=100, window=5, sg=1, workers=4)\n",
    "\n",
    "# Word2Vec으로 문서 벡터화\n",
    "def vectorize_w2v(text, model):\n",
    "    words = text.split()\n",
    "    word_vectors = [model.wv[word] for word in words if word in model.wv]\n",
    "    \n",
    "    # 단어 벡터가 없는 경우를 대비해 예외 처리 (np.zeros로 채움)\n",
    "    if len(word_vectors) > 0:\n",
    "        return np.mean(word_vectors, axis=0)\n",
    "    else:\n",
    "        return np.zeros(100)  # Word2Vec 벡터 크기(100차원)\n",
    "\n",
    "# 문장을 Word2Vec으로 벡터화\n",
    "X_train_w2v = np.array([vectorize_w2v(text, w2v_model) for text in X_train])\n",
    "X_test_w2v = np.array([vectorize_w2v(text, w2v_model) for text in X_test])\n",
    "\n",
    "# 스케일링\n",
    "scaler = StandardScaler()\n",
    "X_train_w2v_scaled = scaler.fit_transform(X_train_w2v)\n",
    "X_test_w2v_scaled = scaler.transform(X_test_w2v)\n",
    "\n",
    "# Gaussian Naive Bayes 모델 학습\n",
    "gnb_model = GaussianNB()\n",
    "gnb_model.fit(X_train_w2v_scaled, y_train)\n",
    "\n",
    "# 테스트 데이터 예측\n",
    "y_test_pred = gnb_model.predict(X_test_w2v_scaled)\n",
    "\n",
    "# 결과 출력\n",
    "submission_df = pd.read_csv(\"sample_submission.csv\")\n",
    "submission_df['target'] = y_test_pred\n",
    "submission_df.to_csv(\"submit_Word2Vec_NaiveBayes.csv\", index=False)\n"
   ]
  }
 ],
 "metadata": {
  "kernelspec": {
   "display_name": "Python 3",
   "language": "python",
   "name": "python3"
  },
  "language_info": {
   "codemirror_mode": {
    "name": "ipython",
    "version": 3
   },
   "file_extension": ".py",
   "mimetype": "text/x-python",
   "name": "python",
   "nbconvert_exporter": "python",
   "pygments_lexer": "ipython3",
   "version": "3.10.1"
  }
 },
 "nbformat": 4,
 "nbformat_minor": 2
}
