{
  "nbformat": 4,
  "nbformat_minor": 0,
  "metadata": {
    "colab": {
      "provenance": [],
      "gpuType": "T4"
    },
    "kernelspec": {
      "name": "python3",
      "display_name": "Python 3"
    },
    "language_info": {
      "name": "python"
    },
    "accelerator": "GPU"
  },
  "cells": [
    {
      "cell_type": "code",
      "source": [
        "from google.colab import drive\n",
        "drive.mount('/content/drive')"
      ],
      "metadata": {
        "colab": {
          "base_uri": "https://localhost:8080/"
        },
        "id": "SbQeAJyTzMOA",
        "outputId": "0354ab49-bad1-4f84-f091-a025ca672a92"
      },
      "execution_count": 1,
      "outputs": [
        {
          "output_type": "stream",
          "name": "stdout",
          "text": [
            "Mounted at /content/drive\n"
          ]
        }
      ]
    },
    {
      "cell_type": "code",
      "execution_count": 4,
      "metadata": {
        "colab": {
          "base_uri": "https://localhost:8080/"
        },
        "id": "dpAlw87HzCbM",
        "outputId": "5a05c4d8-5113-4a62-ba0b-0487e3eed988"
      },
      "outputs": [
        {
          "output_type": "stream",
          "name": "stderr",
          "text": [
            "/usr/local/lib/python3.10/dist-packages/keras/src/layers/convolutional/base_conv.py:107: UserWarning: Do not pass an `input_shape`/`input_dim` argument to a layer. When using Sequential models, prefer using an `Input(shape)` object as the first layer in the model instead.\n",
            "  super().__init__(activity_regularizer=activity_regularizer, **kwargs)\n"
          ]
        },
        {
          "output_type": "stream",
          "name": "stdout",
          "text": [
            "Training on fold 1...\n",
            "Fold 1 - Validation Accuracy: 0.7419566512107849\n",
            "Training on fold 2...\n"
          ]
        },
        {
          "output_type": "stream",
          "name": "stderr",
          "text": [
            "/usr/local/lib/python3.10/dist-packages/keras/src/layers/convolutional/base_conv.py:107: UserWarning: Do not pass an `input_shape`/`input_dim` argument to a layer. When using Sequential models, prefer using an `Input(shape)` object as the first layer in the model instead.\n",
            "  super().__init__(activity_regularizer=activity_regularizer, **kwargs)\n"
          ]
        },
        {
          "output_type": "stream",
          "name": "stdout",
          "text": [
            "Fold 2 - Validation Accuracy: 0.7491792440414429\n",
            "Training on fold 3...\n"
          ]
        },
        {
          "output_type": "stream",
          "name": "stderr",
          "text": [
            "/usr/local/lib/python3.10/dist-packages/keras/src/layers/convolutional/base_conv.py:107: UserWarning: Do not pass an `input_shape`/`input_dim` argument to a layer. When using Sequential models, prefer using an `Input(shape)` object as the first layer in the model instead.\n",
            "  super().__init__(activity_regularizer=activity_regularizer, **kwargs)\n"
          ]
        },
        {
          "output_type": "stream",
          "name": "stdout",
          "text": [
            "Fold 3 - Validation Accuracy: 0.7787262201309204\n",
            "Training on fold 4...\n"
          ]
        },
        {
          "output_type": "stream",
          "name": "stderr",
          "text": [
            "/usr/local/lib/python3.10/dist-packages/keras/src/layers/convolutional/base_conv.py:107: UserWarning: Do not pass an `input_shape`/`input_dim` argument to a layer. When using Sequential models, prefer using an `Input(shape)` object as the first layer in the model instead.\n",
            "  super().__init__(activity_regularizer=activity_regularizer, **kwargs)\n"
          ]
        },
        {
          "output_type": "stream",
          "name": "stdout",
          "text": [
            "Fold 4 - Validation Accuracy: 0.7647832036018372\n",
            "Training on fold 5...\n"
          ]
        },
        {
          "output_type": "stream",
          "name": "stderr",
          "text": [
            "/usr/local/lib/python3.10/dist-packages/keras/src/layers/convolutional/base_conv.py:107: UserWarning: Do not pass an `input_shape`/`input_dim` argument to a layer. When using Sequential models, prefer using an `Input(shape)` object as the first layer in the model instead.\n",
            "  super().__init__(activity_regularizer=activity_regularizer, **kwargs)\n"
          ]
        },
        {
          "output_type": "stream",
          "name": "stdout",
          "text": [
            "Fold 5 - Validation Accuracy: 0.7378449440002441\n",
            "Mean K-Fold Validation Accuracy: 0.7544980525970459\n"
          ]
        },
        {
          "output_type": "stream",
          "name": "stderr",
          "text": [
            "/usr/local/lib/python3.10/dist-packages/keras/src/callbacks/early_stopping.py:155: UserWarning: Early stopping conditioned on metric `val_loss` which is not available. Available metrics are: accuracy,loss\n",
            "  current = self.get_monitor_value(logs)\n"
          ]
        },
        {
          "output_type": "stream",
          "name": "stdout",
          "text": [
            "\u001b[1m102/102\u001b[0m \u001b[32m━━━━━━━━━━━━━━━━━━━━\u001b[0m\u001b[37m\u001b[0m \u001b[1m1s\u001b[0m 4ms/step\n"
          ]
        }
      ],
      "source": [
        "# 필요한 패키지 불러오기\n",
        "import pandas as pd\n",
        "import numpy as np\n",
        "import tensorflow as tf\n",
        "from sklearn.model_selection import KFold\n",
        "from sklearn.preprocessing import StandardScaler\n",
        "from gensim.models import Word2Vec\n",
        "from tensorflow.keras.callbacks import EarlyStopping\n",
        "\n",
        "# 데이터 로드\n",
        "train_df = pd.read_csv('train_for_NLP.csv')\n",
        "test_df = pd.read_csv('test_cleaned.csv')\n",
        "\n",
        "# train 데이터에서 특성과 레이블 분리\n",
        "X_train = train_df['combined_str']\n",
        "y_train = train_df['target']\n",
        "\n",
        "# test 데이터의 특성\n",
        "X_test = test_df['combined_str']\n",
        "\n",
        "# Word2Vec 모델 학습 (Skipgram 사용)\n",
        "sentences = [text.split() for text in X_train]\n",
        "w2v_model = Word2Vec(sentences, vector_size=100, window=5, sg=1, workers=4)\n",
        "\n",
        "# Word2Vec으로 문서 벡터화\n",
        "def vectorize_w2v(text, model):\n",
        "    words = text.split()\n",
        "    word_vectors = [model.wv[word] for word in words if word in model.wv]\n",
        "    if len(word_vectors) > 0:\n",
        "        return np.mean(word_vectors, axis=0)\n",
        "    else:\n",
        "        return np.zeros(100)  # Word2Vec 벡터 크기\n",
        "\n",
        "# 문서를 Word2Vec 벡터로 변환\n",
        "X_train_w2v = np.array([vectorize_w2v(text, w2v_model) for text in X_train])\n",
        "X_test_w2v = np.array([vectorize_w2v(text, w2v_model) for text in X_test])\n",
        "\n",
        "# 스케일링\n",
        "scaler = StandardScaler()\n",
        "X_train_w2v_scaled = scaler.fit_transform(X_train_w2v)\n",
        "X_test_w2v_scaled = scaler.transform(X_test_w2v)\n",
        "\n",
        "# CNN 입력에 맞게 데이터 차원 변경 (1D CNN에서는 입력이 3차원이어야 함)\n",
        "X_test_w2v_scaled = np.expand_dims(X_test_w2v_scaled, axis=-1)\n",
        "\n",
        "# 1D CNN 모델 생성 함수\n",
        "def create_cnn_model(optimizer='adam', filters=64, kernel_size=3, pool_size=2):\n",
        "    model = tf.keras.models.Sequential()\n",
        "\n",
        "    # 1D Convolutional Layer\n",
        "    model.add(tf.keras.layers.Conv1D(filters=filters, kernel_size=kernel_size, activation='relu', input_shape=(X_train_w2v_scaled.shape[1], 1)))\n",
        "\n",
        "    # MaxPooling Layer\n",
        "    model.add(tf.keras.layers.MaxPooling1D(pool_size=pool_size))\n",
        "\n",
        "    # Flatten Layer\n",
        "    model.add(tf.keras.layers.Flatten())\n",
        "\n",
        "    # Dense Layer\n",
        "    model.add(tf.keras.layers.Dense(64, activation='relu'))\n",
        "\n",
        "    # Output Layer (이진 분류)\n",
        "    model.add(tf.keras.layers.Dense(1, activation='sigmoid'))\n",
        "\n",
        "    # Compile Model\n",
        "    model.compile(optimizer=optimizer, loss='binary_crossentropy', metrics=['accuracy'])\n",
        "\n",
        "    return model\n",
        "\n",
        "# K-fold Cross Validation 설정\n",
        "kfold = KFold(n_splits=5, shuffle=True, random_state=42)\n",
        "fold_no = 1\n",
        "accuracy_scores = []\n",
        "\n",
        "for train_idx, val_idx in kfold.split(X_train_w2v_scaled):\n",
        "    # 각 Fold에서의 Train, Validation 데이터 설정\n",
        "    X_train_fold, X_val_fold = X_train_w2v_scaled[train_idx], X_train_w2v_scaled[val_idx]\n",
        "    y_train_fold, y_val_fold = y_train[train_idx], y_train[val_idx]\n",
        "\n",
        "    # CNN 입력에 맞게 데이터 차원 변경\n",
        "    X_train_fold = np.expand_dims(X_train_fold, axis=-1)\n",
        "    X_val_fold = np.expand_dims(X_val_fold, axis=-1)\n",
        "\n",
        "    # 모델 생성\n",
        "    cnn_model = create_cnn_model()\n",
        "\n",
        "    # EarlyStopping 콜백 정의\n",
        "    early_stopping = EarlyStopping(monitor='val_loss', patience=3, restore_best_weights=True)\n",
        "\n",
        "    # 모델 학습\n",
        "    print(f'Training on fold {fold_no}...')\n",
        "    history = cnn_model.fit(\n",
        "        X_train_fold, y_train_fold,\n",
        "        validation_data=(X_val_fold, y_val_fold),\n",
        "        epochs=10,\n",
        "        batch_size=32,\n",
        "        callbacks=[early_stopping],\n",
        "        verbose=0  # 학습 과정 출력 제한\n",
        "    )\n",
        "\n",
        "    # 각 폴드에서의 정확도 평가\n",
        "    scores = cnn_model.evaluate(X_val_fold, y_val_fold, verbose=0)\n",
        "    print(f'Fold {fold_no} - Validation Accuracy: {scores[1]}')\n",
        "    accuracy_scores.append(scores[1])\n",
        "    fold_no += 1\n",
        "\n",
        "# 각 Fold의 평균 정확도 계산\n",
        "mean_accuracy = np.mean(accuracy_scores)\n",
        "print(f'Mean K-Fold Validation Accuracy: {mean_accuracy}')\n",
        "\n",
        "# 최종 모델로 전체 데이터를 학습하고 테스트 데이터 예측\n",
        "final_model = create_cnn_model()\n",
        "final_model.fit(\n",
        "    np.expand_dims(X_train_w2v_scaled, axis=-1), y_train,\n",
        "    epochs=10,\n",
        "    batch_size=32,\n",
        "    callbacks=[early_stopping],\n",
        "    verbose=0\n",
        ")\n",
        "\n",
        "# 테스트 데이터 예측\n",
        "y_test_pred_prob_cnn = final_model.predict(X_test_w2v_scaled).flatten()\n",
        "y_test_pred_cnn = (y_test_pred_prob_cnn >= 0.5).astype(int)\n",
        "\n",
        "# 제출 파일 생성\n",
        "submission_df = pd.read_csv(\"sample_submission.csv\")\n",
        "submission_df['target'] = y_test_pred_cnn\n",
        "submission_df.to_csv(\"submit_Word2Vec_1DCNN.csv\", index=False)\n"
      ]
    }
  ]
}