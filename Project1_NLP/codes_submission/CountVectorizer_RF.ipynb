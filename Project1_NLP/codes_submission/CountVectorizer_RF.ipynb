{
  "nbformat": 4,
  "nbformat_minor": 0,
  "metadata": {
    "colab": {
      "provenance": [],
      "gpuType": "T4"
    },
    "kernelspec": {
      "name": "python3",
      "display_name": "Python 3"
    },
    "language_info": {
      "name": "python"
    },
    "accelerator": "GPU"
  },
  "cells": [
    {
      "cell_type": "code",
      "source": [
        "from google.colab import drive\n",
        "drive.mount('/content/drive')"
      ],
      "metadata": {
        "colab": {
          "base_uri": "https://localhost:8080/"
        },
        "id": "SbQeAJyTzMOA",
        "outputId": "0354ab49-bad1-4f84-f091-a025ca672a92"
      },
      "execution_count": 1,
      "outputs": [
        {
          "output_type": "stream",
          "name": "stdout",
          "text": [
            "Mounted at /content/drive\n"
          ]
        }
      ]
    },
    {
      "cell_type": "code",
      "execution_count": 6,
      "metadata": {
        "colab": {
          "base_uri": "https://localhost:8080/"
        },
        "id": "dpAlw87HzCbM",
        "outputId": "798caf1e-cc62-4737-ed9c-12812a082391"
      },
      "outputs": [
        {
          "output_type": "stream",
          "name": "stdout",
          "text": [
            "Fitting 5 folds for each of 24 candidates, totalling 120 fits\n",
            "Best Parameters: {'max_depth': None, 'min_samples_leaf': 1, 'min_samples_split': 5, 'n_estimators': 200}\n",
            "Best CV Score: 0.7924601575664602\n"
          ]
        }
      ],
      "source": [
        "# 필요한 패키지 불러오기\n",
        "import pandas as pd\n",
        "import numpy as np\n",
        "from sklearn.feature_extraction.text import CountVectorizer\n",
        "from sklearn.model_selection import train_test_split, GridSearchCV\n",
        "from sklearn.ensemble import RandomForestClassifier\n",
        "from sklearn.metrics import accuracy_score\n",
        "from sklearn.model_selection import KFold\n",
        "\n",
        "# 데이터 로드\n",
        "train_df = pd.read_csv('train_for_NLP.csv')\n",
        "test_df = pd.read_csv('test_cleaned.csv')\n",
        "\n",
        "# train 데이터에서 특성과 레이블 분리\n",
        "X_train = train_df['combined_str']\n",
        "y_train = train_df['target']\n",
        "\n",
        "# test 데이터의 특성\n",
        "X_test = test_df['combined_str']\n",
        "\n",
        "# CountVectorizer를 사용하여 문서 벡터화\n",
        "vectorizer = CountVectorizer(max_features=5000)  # 최대 5000개의 특징을 사용\n",
        "X_train_bow = vectorizer.fit_transform(X_train).toarray()\n",
        "X_test_bow = vectorizer.transform(X_test).toarray()\n",
        "\n",
        "# K-fold Cross Validation 설정\n",
        "kfold = KFold(n_splits=5, shuffle=True, random_state=42)\n",
        "fold_no = 1\n",
        "accuracy_scores = []\n",
        "\n",
        "# 하이퍼파라미터 그리드 설정\n",
        "param_grid = {\n",
        "    'n_estimators': [100, 200],\n",
        "    'max_depth': [10, 20, None],\n",
        "    'min_samples_split': [2, 5],\n",
        "    'min_samples_leaf': [1, 2]\n",
        "}\n",
        "\n",
        "# RandomForest 모델 설정\n",
        "rf_model = RandomForestClassifier(random_state=42)\n",
        "\n",
        "# GridSearchCV 설정 (5-Fold CV)\n",
        "grid_search = GridSearchCV(estimator=rf_model, param_grid=param_grid, cv=kfold, scoring='accuracy', verbose=1)\n",
        "\n",
        "# 모델 학습 및 최적 파라미터 탐색\n",
        "grid_search.fit(X_train_bow, y_train)\n",
        "\n",
        "# 최적의 파라미터 및 성능 확인\n",
        "print(f\"Best Parameters: {grid_search.best_params_}\")\n",
        "print(f\"Best CV Score: {grid_search.best_score_}\")\n",
        "\n",
        "# 최적의 모델로 테스트 데이터 예측\n",
        "best_model = grid_search.best_estimator_\n",
        "y_test_pred = best_model.predict(X_test_bow)\n",
        "\n",
        "# 제출 파일 생성\n",
        "submission_df = pd.read_csv(\"sample_submission.csv\")\n",
        "submission_df['target'] = y_test_pred\n",
        "submission_df.to_csv(\"submit_CountVectorizer_RandomForest.csv\", index=False)\n"
      ]
    }
  ]
}