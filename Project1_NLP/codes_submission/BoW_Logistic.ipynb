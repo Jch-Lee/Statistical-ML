{
 "cells": [
  {
   "cell_type": "code",
   "execution_count": 17,
   "metadata": {},
   "outputs": [],
   "source": [
    "import pandas as pd\n",
    "from sklearn.feature_extraction.text import CountVectorizer\n",
    "from sklearn.model_selection import GridSearchCV, KFold\n",
    "from sklearn.linear_model import LogisticRegression\n",
    "from sklearn.metrics import log_loss, accuracy_score, classification_report\n",
    "import matplotlib.pyplot as plt\n",
    "import numpy as np"
   ]
  },
  {
   "cell_type": "code",
   "execution_count": 18,
   "metadata": {},
   "outputs": [],
   "source": [
    "# 데이터 로드\n",
    "train_df = pd.read_csv('train_for_NLP.csv')\n",
    "test_df = pd.read_csv('test_cleaned.csv')\n",
    "\n",
    "# train 데이터에서 특성과 레이블 분리\n",
    "X_train = train_df['combined_str']\n",
    "y_train = train_df['target']\n",
    "\n",
    "# test 데이터의 특성\n",
    "X_test = test_df['combined_str']"
   ]
  },
  {
   "cell_type": "code",
   "execution_count": 19,
   "metadata": {},
   "outputs": [],
   "source": [
    "# CountVectorizer 초기화\n",
    "vectorizer = CountVectorizer()\n",
    "\n",
    "# 학습 데이터를 사용하여 BoW 모델을 학습하고 임베딩\n",
    "X_train_bow = vectorizer.fit_transform(X_train)\n",
    "\n",
    "# test 데이터에 동일한 벡터라이저를 적용\n",
    "X_test_bow = vectorizer.transform(X_test)"
   ]
  },
  {
   "cell_type": "code",
   "execution_count": 20,
   "metadata": {},
   "outputs": [
    {
     "name": "stdout",
     "output_type": "stream",
     "text": [
      "Fitting 5 folds for each of 12 candidates, totalling 60 fits\n",
      "Best Parameters: {'C': 0.01, 'penalty': 'l2', 'solver': 'liblinear'}\n"
     ]
    }
   ],
   "source": [
    "# 하이퍼파라미터 그리드 설정\n",
    "param_grid = {\n",
    "    'C': [0.001, 0.01, 0.1, 0.5, 1, 3],  # 규제 강도\n",
    "    'penalty': ['l1', 'l2'],       # 규제 유형\n",
    "    'solver': ['liblinear'] # 최적화 알고리즘\n",
    "}\n",
    "\n",
    "# 로지스틱 회귀 모델 초기화\n",
    "model = LogisticRegression(max_iter=1000)\n",
    "\n",
    "# GridSearchCV 초기화\n",
    "grid_search = GridSearchCV(model, param_grid, cv=5, scoring='neg_log_loss', verbose=1)\n",
    "\n",
    "# 모델 학습 및 최적 파라미터 찾기\n",
    "grid_search.fit(X_train_bow, y_train)\n",
    "\n",
    "# 최적 파라미터 확인\n",
    "print(\"Best Parameters:\", grid_search.best_params_)"
   ]
  },
  {
   "cell_type": "code",
   "execution_count": 21,
   "metadata": {},
   "outputs": [
    {
     "data": {
      "text/html": [
       "<div>\n",
       "<style scoped>\n",
       "    .dataframe tbody tr th:only-of-type {\n",
       "        vertical-align: middle;\n",
       "    }\n",
       "\n",
       "    .dataframe tbody tr th {\n",
       "        vertical-align: top;\n",
       "    }\n",
       "\n",
       "    .dataframe thead th {\n",
       "        text-align: right;\n",
       "    }\n",
       "</style>\n",
       "<table border=\"1\" class=\"dataframe\">\n",
       "  <thead>\n",
       "    <tr style=\"text-align: right;\">\n",
       "      <th></th>\n",
       "      <th>id</th>\n",
       "      <th>target</th>\n",
       "    </tr>\n",
       "  </thead>\n",
       "  <tbody>\n",
       "    <tr>\n",
       "      <th>0</th>\n",
       "      <td>0</td>\n",
       "      <td>0</td>\n",
       "    </tr>\n",
       "    <tr>\n",
       "      <th>1</th>\n",
       "      <td>2</td>\n",
       "      <td>0</td>\n",
       "    </tr>\n",
       "    <tr>\n",
       "      <th>2</th>\n",
       "      <td>3</td>\n",
       "      <td>0</td>\n",
       "    </tr>\n",
       "    <tr>\n",
       "      <th>3</th>\n",
       "      <td>9</td>\n",
       "      <td>0</td>\n",
       "    </tr>\n",
       "    <tr>\n",
       "      <th>4</th>\n",
       "      <td>11</td>\n",
       "      <td>0</td>\n",
       "    </tr>\n",
       "  </tbody>\n",
       "</table>\n",
       "</div>"
      ],
      "text/plain": [
       "   id  target\n",
       "0   0       0\n",
       "1   2       0\n",
       "2   3       0\n",
       "3   9       0\n",
       "4  11       0"
      ]
     },
     "execution_count": 21,
     "metadata": {},
     "output_type": "execute_result"
    }
   ],
   "source": [
    "# 최적 모델로 test 데이터 예측 수행 (확률값)\n",
    "best_model = grid_search.best_estimator_\n",
    "y_test_pred_prob = best_model.predict_proba(X_test_bow)[:, 1]  # 확률 예측\n",
    "\n",
    "# 확률을 이진 값으로 변환 (임계값 0.5)\n",
    "y_test_pred = (y_test_pred_prob >= 0.5).astype(int)\n",
    "\n",
    "submission_df = pd.read_csv(\"sample_submission.csv\")\n",
    "submission_df.head()"
   ]
  },
  {
   "cell_type": "code",
   "execution_count": 22,
   "metadata": {},
   "outputs": [],
   "source": [
    "submission_df['target'] = y_test_pred"
   ]
  },
  {
   "cell_type": "code",
   "execution_count": 23,
   "metadata": {},
   "outputs": [],
   "source": [
    "submission_df.to_csv(\"submit_BoW_Logistic.csv\", index=False)"
   ]
  },
  {
   "cell_type": "code",
   "execution_count": 24,
   "metadata": {},
   "outputs": [
    {
     "name": "stdout",
     "output_type": "stream",
     "text": [
      "Train Log Loss: 0.5479\n"
     ]
    }
   ],
   "source": [
    "# 추가로, train 데이터에 대해 성능을 평가할 수도 있습니다.\n",
    "y_train_pred_prob = best_model.predict_proba(X_train_bow)[:, 1]\n",
    "train_loss = log_loss(y_train, y_train_pred_prob)\n",
    "print(f\"Train Log Loss: {train_loss:.4f}\")"
   ]
  }
 ],
 "metadata": {
  "kernelspec": {
   "display_name": "Python 3",
   "language": "python",
   "name": "python3"
  },
  "language_info": {
   "codemirror_mode": {
    "name": "ipython",
    "version": 3
   },
   "file_extension": ".py",
   "mimetype": "text/x-python",
   "name": "python",
   "nbconvert_exporter": "python",
   "pygments_lexer": "ipython3",
   "version": "3.10.1"
  }
 },
 "nbformat": 4,
 "nbformat_minor": 2
}
