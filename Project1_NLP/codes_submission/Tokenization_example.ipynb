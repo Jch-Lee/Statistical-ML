{
 "cells": [
  {
   "cell_type": "markdown",
   "metadata": {},
   "source": [
    "### 토큰화 방법\n",
    "1. nltk의 word_tokenize()\n",
    "2. nltk의 WordPunctTokenizer()  \n",
    "아포스트로피나 구두점들을 별도의 토큰으로 분류\n",
    "3. keras의 text_to_word_sequence()  \n",
    "모든 알파벳을 소문자로 바꾸면서 컴마, 느낌표 등을 제거. 하지만 아포스트로피는 남겨둠.\n",
    "4. nltk의 TweetTokenizer()  \n",
    "트윗의 해시태그나 이모지 처리에 능함."
   ]
  },
  {
   "cell_type": "markdown",
   "metadata": {},
   "source": [
    "#### TweetTokenizer()를 우선적으로 이용"
   ]
  },
  {
   "cell_type": "code",
   "execution_count": 8,
   "metadata": {},
   "outputs": [
    {
     "name": "stdout",
     "output_type": "stream",
     "text": [
      "['Snow', 'White', 'and', 'the', 'Seven', 'Degrees', '#', 'MakeAMovieCold', '@', 'midnight', ':', ')']\n"
     ]
    }
   ],
   "source": [
    "from nltk.tokenize import word_tokenize\n",
    "\n",
    "s=\"Snow White and the Seven Degrees #MakeAMovieCold@midnight:)\"\n",
    "print(word_tokenize(s))"
   ]
  },
  {
   "cell_type": "code",
   "execution_count": 20,
   "metadata": {},
   "outputs": [
    {
     "name": "stdout",
     "output_type": "stream",
     "text": [
      "['snow', 'white', \"we're\", 'and', 'the', 'seven', ':', '3', 'degrees', '#makeamoviecold', '@midnight', ':)']\n"
     ]
    }
   ],
   "source": [
    "from nltk.tokenize import TweetTokenizer\n",
    "\n",
    "tweet=u\"Snow White We're and the Seven Degrees #MakeAMovieCold@midnight:)\"\n",
    "tokenizer=TweetTokenizer()\n",
    "print(tokenizer.tokenize(tweet.lower()))"
   ]
  }
 ],
 "metadata": {
  "kernelspec": {
   "display_name": "Python 3",
   "language": "python",
   "name": "python3"
  },
  "language_info": {
   "codemirror_mode": {
    "name": "ipython",
    "version": 3
   },
   "file_extension": ".py",
   "mimetype": "text/x-python",
   "name": "python",
   "nbconvert_exporter": "python",
   "pygments_lexer": "ipython3",
   "version": "3.10.1"
  }
 },
 "nbformat": 4,
 "nbformat_minor": 2
}
