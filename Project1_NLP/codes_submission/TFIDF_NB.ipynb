{
 "cells": [
  {
   "cell_type": "code",
   "execution_count": 1,
   "metadata": {},
   "outputs": [],
   "source": [
    "# 필요한 패키지 불러오기\n",
    "import pandas as pd\n",
    "from sklearn.feature_extraction.text import TfidfVectorizer\n",
    "from sklearn.naive_bayes import MultinomialNB\n",
    "from sklearn.model_selection import train_test_split\n",
    "from sklearn.metrics import accuracy_score\n",
    "\n",
    "# 데이터 로드\n",
    "train_df = pd.read_csv('train_for_NLP.csv')\n",
    "test_df = pd.read_csv('test_cleaned.csv')\n",
    "\n",
    "# train 데이터에서 특성과 레이블 분리\n",
    "X_train = train_df['combined_str']\n",
    "y_train = train_df['target']\n",
    "X_test = test_df['combined_str']\n",
    "\n",
    "# TF-IDF 벡터라이저 설정\n",
    "tfidf_vectorizer = TfidfVectorizer(max_features=5000)\n",
    "X_train_tfidf = tfidf_vectorizer.fit_transform(X_train).toarray()\n",
    "X_test_tfidf = tfidf_vectorizer.transform(X_test).toarray()\n",
    "\n",
    "# Naive Bayes 모델 학습\n",
    "nb_model = MultinomialNB()\n",
    "nb_model.fit(X_train_tfidf, y_train)\n",
    "\n",
    "# 테스트 데이터 예측\n",
    "y_test_pred = nb_model.predict(X_test_tfidf)\n",
    "\n",
    "# 결과 출력\n",
    "submission_df = pd.read_csv(\"sample_submission.csv\")\n",
    "submission_df['target'] = y_test_pred\n",
    "submission_df.to_csv(\"submit_TFIDF_NaiveBayes.csv\", index=False)\n"
   ]
  }
 ],
 "metadata": {
  "kernelspec": {
   "display_name": "Python 3",
   "language": "python",
   "name": "python3"
  },
  "language_info": {
   "codemirror_mode": {
    "name": "ipython",
    "version": 3
   },
   "file_extension": ".py",
   "mimetype": "text/x-python",
   "name": "python",
   "nbconvert_exporter": "python",
   "pygments_lexer": "ipython3",
   "version": "3.10.1"
  }
 },
 "nbformat": 4,
 "nbformat_minor": 2
}
