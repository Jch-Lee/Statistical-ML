{
 "cells": [
  {
   "cell_type": "code",
   "execution_count": 17,
   "metadata": {},
   "outputs": [
    {
     "name": "stdout",
     "output_type": "stream",
     "text": [
      "Loaded batch size: torch.Size([32, 3, 32, 32]), Labels: torch.Size([32])\n"
     ]
    }
   ],
   "source": [
    "import torch\n",
    "import torch.nn as nn\n",
    "import torch.optim as optim\n",
    "import torch.nn.functional as F\n",
    "import matplotlib.pyplot as plt\n",
    "from torch.utils.data import DataLoader\n",
    "from torchvision import transforms\n",
    "from torchvision.datasets import ImageFolder\n",
    "from sklearn.metrics import accuracy_score\n",
    "\n",
    "# 이미지 전처리를 위한 변환 정의\n",
    "transform = transforms.Compose([\n",
    "    transforms.Resize((32, 32)),\n",
    "    transforms.ToTensor(),\n",
    "    transforms.Normalize(mean=[0.485, 0.456, 0.406], std=[0.229, 0.224, 0.225])  # 이미지 정규화\n",
    "])\n",
    "\n",
    "# 학습 데이터셋 로드\n",
    "trainset = ImageFolder(root='C:/Users/USER/Desktop/Semester2/Statistical-ML/Project3_TeamProject/train_data',\n",
    "                       transform=transform)\n",
    "\n",
    "# DataLoader 설정 (trainset만)\n",
    "train_loader = DataLoader(trainset, \n",
    "                          batch_size=32, \n",
    "                          shuffle=True,\n",
    "                          num_workers=0  # Windows에서는 num_workers=0 권장\n",
    "                         )\n",
    "\n",
    "# 데이터 로드 테스트\n",
    "images, labels = next(iter(train_loader))\n",
    "print(f\"Loaded batch size: {images.size()}, Labels: {labels.size()}\")\n"
   ]
  },
  {
   "cell_type": "code",
   "execution_count": 18,
   "metadata": {},
   "outputs": [
    {
     "data": {
      "text/plain": [
       "['airplane',\n",
       " 'automobile',\n",
       " 'bird',\n",
       " 'cat',\n",
       " 'deer',\n",
       " 'dog',\n",
       " 'frog',\n",
       " 'horse',\n",
       " 'ship',\n",
       " 'truck']"
      ]
     },
     "execution_count": 18,
     "metadata": {},
     "output_type": "execute_result"
    }
   ],
   "source": [
    "trainset.classes"
   ]
  },
  {
   "cell_type": "markdown",
   "metadata": {},
   "source": [
    "### 데이터 구조 확인\n",
    "* 총 4000개 이미지\n",
    "* 이미지당 (채널, 가로, 세로) = (3, 32, 32)"
   ]
  },
  {
   "cell_type": "code",
   "execution_count": 19,
   "metadata": {},
   "outputs": [],
   "source": [
    "labels_map = {k: v for v, k in trainset.class_to_idx.items()}"
   ]
  },
  {
   "cell_type": "code",
   "execution_count": 20,
   "metadata": {},
   "outputs": [
    {
     "name": "stdout",
     "output_type": "stream",
     "text": [
      "Epoch [1/10], Loss: 2.2234\n",
      "Epoch [2/10], Loss: 1.8648\n",
      "Epoch [3/10], Loss: 1.7505\n",
      "Epoch [4/10], Loss: 1.6822\n",
      "Epoch [5/10], Loss: 1.6422\n",
      "Epoch [6/10], Loss: 1.6515\n",
      "Epoch [7/10], Loss: 1.6201\n",
      "Epoch [8/10], Loss: 1.5178\n",
      "Epoch [9/10], Loss: 1.5371\n",
      "Epoch [10/10], Loss: 1.4625\n"
     ]
    },
    {
     "data": {
      "image/png": "[encoded data removed]",
      "text/plain": [
       "<Figure size 640x480 with 1 Axes>"
      ]
     },
     "metadata": {},
     "output_type": "display_data"
    }
   ],
   "source": [
    "# CNN 모델 정의\n",
    "class SimpleCNN(nn.Module):\n",
    "    def __init__(self, num_classes=10):\n",
    "        super(SimpleCNN, self).__init__()\n",
    "        self.conv1 = nn.Conv2d(3, 32, kernel_size=3, padding=1)\n",
    "        self.conv2 = nn.Conv2d(32, 64, kernel_size=3, padding=1)\n",
    "        self.conv3 = nn.Conv2d(64, 128, kernel_size=3, padding=1)\n",
    "        self.pool = nn.MaxPool2d(2, 2)\n",
    "        self.fc1 = nn.Linear(128 * 4 * 4, 256)  # CIFAR-10 이미지 크기 가정 (32x32)\n",
    "        self.fc2 = nn.Linear(256, num_classes)\n",
    "\n",
    "    def forward(self, x):\n",
    "        # (3, 32, 32)가 들어온다고 가정\n",
    "        x = self.pool(F.relu(self.conv1(x)))  # 첫 번째 컨볼루션 + 풀링\n",
    "        # 출력: (32, 16, 16)\n",
    "        x = self.pool(F.relu(self.conv2(x)))  # 두 번째 컨볼루션 + 풀링\n",
    "        # 출력: (64, 8, 8)\n",
    "        x = self.pool(F.relu(self.conv3(x)))  # 세 번째 컨볼루션 + 풀링\n",
    "        # 출력: (128, 4, 4)\n",
    "        x = x.view(-1, 128 * 4 * 4)  # 평탄화\n",
    "        # 첫번째 차원은 알아서 결정, 두번째 차원은 128*4*4\n",
    "        x = F.relu(self.fc1(x))       # 첫 번째 전결합 계층\n",
    "        x = self.fc2(x)               # 출력 계층\n",
    "        return x\n",
    "    \n",
    "# 모델 초기화\n",
    "model = SimpleCNN(num_classes=10)\n",
    "criterion = nn.CrossEntropyLoss()\n",
    "optimizer = optim.Adam(model.parameters(), lr=0.01)\n",
    "\n",
    "# 학습 함수 (손실 기록 포함)\n",
    "def train(model, train_loader, criterion, optimizer, epochs=10):\n",
    "    model.train()\n",
    "    loss_history = []  # 에포크별 손실 기록 리스트\n",
    "    \n",
    "    for epoch in range(epochs):\n",
    "        running_loss = 0.0\n",
    "        for images, labels in train_loader:\n",
    "            optimizer.zero_grad() # 그래디언트 초기화\n",
    "            outputs = model(images)\n",
    "            loss = criterion(outputs, labels)\n",
    "            loss.backward()\n",
    "            optimizer.step()\n",
    "            running_loss += loss.item()\n",
    "        \n",
    "        # 에포크별 평균 손실 기록\n",
    "        epoch_loss = running_loss / len(train_loader)\n",
    "        loss_history.append(epoch_loss)\n",
    "        print(f\"Epoch [{epoch + 1}/{epochs}], Loss: {epoch_loss:.4f}\")\n",
    "    \n",
    "    return loss_history\n",
    "\n",
    "# 모델 학습 및 손실 기록\n",
    "epochs = 10\n",
    "loss_history = train(model, train_loader, criterion, optimizer, epochs=epochs)\n",
    "\n",
    "# 손실 그래프 시각화\n",
    "plt.plot(range(1, epochs + 1), loss_history, marker='o')\n",
    "plt.xlabel(\"Epoch\")\n",
    "plt.ylabel(\"Loss\")\n",
    "plt.title(\"Training Loss Over Epochs\")\n",
    "plt.grid()\n",
    "plt.show()"
   ]
  }
 ],
 "metadata": {
  "kernelspec": {
   "display_name": "Python 3",
   "language": "python",
   "name": "python3"
  },
  "language_info": {
   "codemirror_mode": {
    "name": "ipython",
    "version": 3
   },
   "file_extension": ".py",
   "mimetype": "text/x-python",
   "name": "python",
   "nbconvert_exporter": "python",
   "pygments_lexer": "ipython3",
   "version": "3.11.1"
  }
 },
 "nbformat": 4,
 "nbformat_minor": 2
}
