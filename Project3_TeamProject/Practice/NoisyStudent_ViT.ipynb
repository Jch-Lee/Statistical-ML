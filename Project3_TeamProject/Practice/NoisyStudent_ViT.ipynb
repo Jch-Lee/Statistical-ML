{
 "cells": [
  {
   "cell_type": "code",
   "execution_count": 1,
   "metadata": {},
   "outputs": [
    {
     "name": "stderr",
     "output_type": "stream",
     "text": [
      "c:\\Users\\jongcheol\\AppData\\Local\\Programs\\Python\\Python311\\Lib\\site-packages\\tqdm\\auto.py:21: TqdmWarning: IProgress not found. Please update jupyter and ipywidgets. See https://ipywidgets.readthedocs.io/en/stable/user_install.html\n",
      "  from .autonotebook import tqdm as notebook_tqdm\n",
      "c:\\Users\\jongcheol\\AppData\\Local\\Programs\\Python\\Python311\\Lib\\site-packages\\transformers\\models\\vit\\feature_extraction_vit.py:28: FutureWarning: The class ViTFeatureExtractor is deprecated and will be removed in version 5 of Transformers. Please use ViTImageProcessor instead.\n",
      "  warnings.warn(\n"
     ]
    },
    {
     "name": "stdout",
     "output_type": "stream",
     "text": [
      "\n",
      "=== Fold 1 시작 ===\n"
     ]
    },
    {
     "name": "stderr",
     "output_type": "stream",
     "text": [
      "Some weights of ViTForImageClassification were not initialized from the model checkpoint at google/vit-base-patch16-224-in21k and are newly initialized: ['classifier.bias', 'classifier.weight']\n",
      "You should probably TRAIN this model on a down-stream task to be able to use it for predictions and inference.\n"
     ]
    },
    {
     "name": "stdout",
     "output_type": "stream",
     "text": [
      "Fold 1 Basic ViT Accuracy: 95.96%\n"
     ]
    },
    {
     "name": "stderr",
     "output_type": "stream",
     "text": [
      "Some weights of ViTForImageClassification were not initialized from the model checkpoint at google/vit-base-patch16-224-in21k and are newly initialized: ['classifier.bias', 'classifier.weight']\n",
      "You should probably TRAIN this model on a down-stream task to be able to use it for predictions and inference.\n",
      "Some weights of ViTForImageClassification were not initialized from the model checkpoint at google/vit-base-patch16-224-in21k and are newly initialized: ['classifier.bias', 'classifier.weight']\n",
      "You should probably TRAIN this model on a down-stream task to be able to use it for predictions and inference.\n"
     ]
    },
    {
     "name": "stdout",
     "output_type": "stream",
     "text": [
      "Fold 1 Noisy Student ViT Accuracy: 92.96%\n",
      "\n",
      "=== Fold 2 시작 ===\n"
     ]
    },
    {
     "name": "stderr",
     "output_type": "stream",
     "text": [
      "Some weights of ViTForImageClassification were not initialized from the model checkpoint at google/vit-base-patch16-224-in21k and are newly initialized: ['classifier.bias', 'classifier.weight']\n",
      "You should probably TRAIN this model on a down-stream task to be able to use it for predictions and inference.\n"
     ]
    },
    {
     "ename": "KeyboardInterrupt",
     "evalue": "",
     "output_type": "error",
     "traceback": [
      "\u001b[1;31m---------------------------------------------------------------------------\u001b[0m",
      "\u001b[1;31mKeyboardInterrupt\u001b[0m                         Traceback (most recent call last)",
      "Cell \u001b[1;32mIn[1], line 52\u001b[0m\n\u001b[0;32m     50\u001b[0m \u001b[38;5;28;01mfor\u001b[39;00m epoch \u001b[38;5;129;01min\u001b[39;00m \u001b[38;5;28mrange\u001b[39m(\u001b[38;5;241m3\u001b[39m):  \u001b[38;5;66;03m# 예시로 3 에포크만 수행\u001b[39;00m\n\u001b[0;32m     51\u001b[0m     \u001b[38;5;28;01mfor\u001b[39;00m images, labels \u001b[38;5;129;01min\u001b[39;00m train_loader:\n\u001b[1;32m---> 52\u001b[0m         images, labels \u001b[38;5;241m=\u001b[39m \u001b[43mimages\u001b[49m\u001b[38;5;241;43m.\u001b[39;49m\u001b[43mto\u001b[49m\u001b[43m(\u001b[49m\u001b[43mdevice\u001b[49m\u001b[43m)\u001b[49m, labels\u001b[38;5;241m.\u001b[39mto(device)\n\u001b[0;32m     53\u001b[0m         optimizer\u001b[38;5;241m.\u001b[39mzero_grad()\n\u001b[0;32m     54\u001b[0m         outputs \u001b[38;5;241m=\u001b[39m vit_model(images)\u001b[38;5;241m.\u001b[39mlogits\n",
      "\u001b[1;31mKeyboardInterrupt\u001b[0m: "
     ]
    }
   ],
   "source": [
    "import torch\n",
    "import torch.nn as nn\n",
    "from torch.utils.data import DataLoader, Subset, ConcatDataset\n",
    "from transformers import ViTForImageClassification, ViTFeatureExtractor\n",
    "from sklearn.model_selection import StratifiedKFold\n",
    "from sklearn.metrics import accuracy_score\n",
    "from torchvision import datasets, transforms\n",
    "import numpy as np\n",
    "import copy\n",
    "\n",
    "# 1. 모델, 디바이스 및 데이터 전처리 설정\n",
    "device = torch.device(\"cuda\" if torch.cuda.is_available() else \"cpu\")\n",
    "model_name = \"google/vit-base-patch16-224-in21k\"\n",
    "\n",
    "# ViT 모델 및 feature extractor 설정\n",
    "feature_extractor = ViTFeatureExtractor.from_pretrained(model_name)\n",
    "transform = transforms.Compose([\n",
    "    transforms.Resize((224, 224)),\n",
    "    transforms.ToTensor(),\n",
    "    transforms.Normalize(mean=feature_extractor.image_mean, std=feature_extractor.image_std)\n",
    "])\n",
    "\n",
    "# 2. 데이터셋 로드 (여기서는 ImageFolder로 라벨이 있는 데이터를 사용)\n",
    "trainset_path = 'C:/Users/jongcheol/OneDrive/바탕 화면/Semester2/train_data'\n",
    "trainset = datasets.ImageFolder(root=trainset_path, transform=transform)\n",
    "labels = np.array([label for _, label in trainset.imgs])\n",
    "\n",
    "# 3. 5-Fold Cross Validation 설정\n",
    "kf = StratifiedKFold(n_splits=5, shuffle=True, random_state=42)\n",
    "fold_accuracies_vit = []             # 기본 ViT 성능\n",
    "fold_accuracies_noisy_student = []   # Noisy Student 적용 ViT 성능\n",
    "\n",
    "# 4. Cross Validation 학습 및 평가\n",
    "for fold, (train_idx, val_idx) in enumerate(kf.split(np.zeros(len(labels)), labels)):\n",
    "    print(f\"\\n=== Fold {fold + 1} 시작 ===\")\n",
    "\n",
    "    # Fold별 데이터셋 분리\n",
    "    train_subset = Subset(trainset, train_idx)\n",
    "    val_subset = Subset(trainset, val_idx)\n",
    "    train_loader = DataLoader(train_subset, batch_size=16, shuffle=True, num_workers=0)\n",
    "    val_loader = DataLoader(val_subset, batch_size=16, shuffle=False, num_workers=0)\n",
    "\n",
    "    # 5. 기본 ViT 모델 학습 및 평가\n",
    "    vit_model = ViTForImageClassification.from_pretrained(model_name, num_labels=len(trainset.classes)).to(device)\n",
    "    criterion = nn.CrossEntropyLoss()\n",
    "    optimizer = torch.optim.Adam(vit_model.parameters(), lr=2e-5)\n",
    "\n",
    "    # 기본 ViT 학습\n",
    "    vit_model.train()\n",
    "    for epoch in range(3):  # 예시로 3 에포크만 수행\n",
    "        for images, labels in train_loader:\n",
    "            images, labels = images.to(device), labels.to(device)\n",
    "            optimizer.zero_grad()\n",
    "            outputs = vit_model(images).logits\n",
    "            loss = criterion(outputs, labels)\n",
    "            loss.backward()\n",
    "            optimizer.step()\n",
    "\n",
    "    # 기본 ViT 성능 평가\n",
    "    vit_model.eval()\n",
    "    vit_preds, vit_labels = [], []\n",
    "    with torch.no_grad():\n",
    "        for images, labels in val_loader:\n",
    "            images = images.to(device)\n",
    "            outputs = vit_model(images).logits\n",
    "            _, preds = torch.max(outputs, 1)\n",
    "            vit_preds.extend(preds.cpu().numpy())\n",
    "            vit_labels.extend(labels.numpy())\n",
    "    fold_accuracy_vit = accuracy_score(vit_labels, vit_preds)\n",
    "    fold_accuracies_vit.append(fold_accuracy_vit)\n",
    "    print(f\"Fold {fold + 1} Basic ViT Accuracy: {fold_accuracy_vit * 100:.2f}%\")\n",
    "\n",
    "    # 6. Noisy Student 기법 - Teacher 모델 학습\n",
    "    teacher_model = ViTForImageClassification.from_pretrained(model_name, num_labels=len(trainset.classes)).to(device)\n",
    "    optimizer = torch.optim.Adam(teacher_model.parameters(), lr=2e-5)\n",
    "\n",
    "    # Teacher 모델 학습\n",
    "    teacher_model.train()\n",
    "    for epoch in range(3):\n",
    "        for images, labels in train_loader:\n",
    "            images, labels = images.to(device), labels.to(device)\n",
    "            optimizer.zero_grad()\n",
    "            outputs = teacher_model(images).logits\n",
    "            loss = criterion(outputs, labels)\n",
    "            loss.backward()\n",
    "            optimizer.step()\n",
    "\n",
    "    # 7. Pseudo-labeling: Teacher 모델로 가짜 라벨 생성\n",
    "    pseudo_labels = []\n",
    "    pseudo_dataset = []\n",
    "    teacher_model.eval()\n",
    "    with torch.no_grad():\n",
    "        for images, _ in val_loader:\n",
    "            images = images.to(device)\n",
    "            outputs = teacher_model(images).logits\n",
    "            _, preds = torch.max(outputs, 1)\n",
    "            pseudo_labels.extend(preds.cpu().numpy())\n",
    "            pseudo_dataset.extend(images.cpu())\n",
    "\n",
    "    # Noisy Student 데이터셋 생성\n",
    "    pseudo_labels = torch.tensor(pseudo_labels)\n",
    "    noisy_student_dataset = [(img, label) for img, label in zip(pseudo_dataset, pseudo_labels)]\n",
    "    noisy_student_loader = DataLoader(noisy_student_dataset, batch_size=16, shuffle=True)\n",
    "\n",
    "    # 8. Student 모델 학습 (Noisy Student 기법 적용)\n",
    "    student_model = ViTForImageClassification.from_pretrained(model_name, num_labels=len(trainset.classes)).to(device)\n",
    "    optimizer = torch.optim.Adam(student_model.parameters(), lr=2e-5)\n",
    "    student_model.train()\n",
    "    for epoch in range(3):\n",
    "        for images, labels in noisy_student_loader:\n",
    "            images, labels = images.to(device), labels.to(device)\n",
    "            optimizer.zero_grad()\n",
    "            outputs = student_model(images).logits\n",
    "            loss = criterion(outputs, labels)\n",
    "            loss.backward()\n",
    "            optimizer.step()\n",
    "\n",
    "    # 9. Noisy Student 모델 성능 평가\n",
    "    student_model.eval()\n",
    "    student_preds, student_labels = [], []\n",
    "    with torch.no_grad():\n",
    "        for images, labels in val_loader:\n",
    "            images = images.to(device)\n",
    "            outputs = student_model(images).logits\n",
    "            _, preds = torch.max(outputs, 1)\n",
    "            student_preds.extend(preds.cpu().numpy())\n",
    "            student_labels.extend(labels.numpy())\n",
    "    fold_accuracy_noisy_student = accuracy_score(student_labels, student_preds)\n",
    "    fold_accuracies_noisy_student.append(fold_accuracy_noisy_student)\n",
    "    print(f\"Fold {fold + 1} Noisy Student ViT Accuracy: {fold_accuracy_noisy_student * 100:.2f}%\")\n",
    "\n",
    "# 10. 5-Fold 평균 정확도 비교 출력\n",
    "print(\"\\n=== 최종 5-Fold 평균 정확도 ===\")\n",
    "print(f\"Basic ViT Model: {np.mean(fold_accuracies_vit) * 100:.2f}%\")\n",
    "print(f\"Noisy Student ViT Model: {np.mean(fold_accuracies_noisy_student) * 100:.2f}%\")\n"
   ]
  }
 ],
 "metadata": {
  "kernelspec": {
   "display_name": "Python 3",
   "language": "python",
   "name": "python3"
  },
  "language_info": {
   "codemirror_mode": {
    "name": "ipython",
    "version": 3
   },
   "file_extension": ".py",
   "mimetype": "text/x-python",
   "name": "python",
   "nbconvert_exporter": "python",
   "pygments_lexer": "ipython3",
   "version": "3.11.1"
  }
 },
 "nbformat": 4,
 "nbformat_minor": 2
}
