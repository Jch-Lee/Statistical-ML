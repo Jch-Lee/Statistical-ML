{
 "cells": [
  {
   "cell_type": "markdown",
   "metadata": {},
   "source": [
    "### transforms"
   ]
  },
  {
   "cell_type": "code",
   "execution_count": 1,
   "metadata": {},
   "outputs": [],
   "source": [
    "import torch\n",
    "import torchvision.transforms as transforms\n",
    "from torchvision import datasets\n",
    "from torch.utils.data import DataLoader"
   ]
  },
  {
   "cell_type": "markdown",
   "metadata": {},
   "source": [
    "* dataloader의 인자로 들어갈 transform을 미리 정의가능\n",
    "* Compose를 통해 리스트 안에 순서대로 전처리 진행\n",
    "* ToTensor()은 torchvision이 PIL image 형태로만 입력을 받기 때문에 데이터 처리를 위해 Tensor형으로 변환 필요"
   ]
  },
  {
   "cell_type": "code",
   "execution_count": 2,
   "metadata": {},
   "outputs": [],
   "source": [
    "mnist_transform = transforms.Compose([transforms.ToTensor(),\n",
    "                                     transforms.Normalize(mean=(0.5,), std=(1.0,))])"
   ]
  },
  {
   "cell_type": "code",
   "execution_count": 3,
   "metadata": {},
   "outputs": [],
   "source": [
    "trainset = datasets.MNIST(root=\"C:/Users/jongcheol/OneDrive/바탕 화면/Semester2\",\n",
    "                          train=True,\n",
    "                          download=False,\n",
    "                          transform=mnist_transform)\n",
    "\n",
    "testset = datasets.MNIST(root=\"C:/Users/jongcheol/OneDrive/바탕 화면/Semester2\",\n",
    "                          train=False,\n",
    "                          download=False,\n",
    "                          transform=mnist_transform)"
   ]
  },
  {
   "cell_type": "markdown",
   "metadata": {},
   "source": [
    "### DataLoader\n",
    "* DataLoader는 데이터 전체를 보관했다가 실제 모델 학습을 할 때, batch_size 크기만큼 데이터를 가져온다."
   ]
  },
  {
   "cell_type": "code",
   "execution_count": 4,
   "metadata": {},
   "outputs": [],
   "source": [
    "train_loader = DataLoader(trainset, batch_size=8,\n",
    "                          shuffle=True, num_workers=2)\n",
    "test_loader = DataLoader(testset, batch_size=8,\n",
    "                         shuffle=False, num_workers=2)"
   ]
  },
  {
   "cell_type": "code",
   "execution_count": 5,
   "metadata": {},
   "outputs": [
    {
     "data": {
      "text/plain": [
       "(torch.Size([8, 1, 28, 28]), torch.Size([8]))"
      ]
     },
     "execution_count": 5,
     "metadata": {},
     "output_type": "execute_result"
    }
   ],
   "source": [
    "dataiter = iter(train_loader)\n",
    "images, labels = next(dataiter)\n",
    "images.shape, labels.shape"
   ]
  },
  {
   "cell_type": "markdown",
   "metadata": {},
   "source": [
    "* shape: (B, C, H, W)\n",
    "* 즉, 28*28 흑백(Channel=1)이미지가 8장있다는 뜻"
   ]
  },
  {
   "cell_type": "code",
   "execution_count": 6,
   "metadata": {},
   "outputs": [
    {
     "data": {
      "text/plain": [
       "torch.Size([28, 28])"
      ]
     },
     "execution_count": 6,
     "metadata": {},
     "output_type": "execute_result"
    }
   ],
   "source": [
    "torch_image = torch.squeeze(images[0])\n",
    "torch_image.shape"
   ]
  },
  {
   "cell_type": "markdown",
   "metadata": {},
   "source": [
    "* images[0]의 shape: (1,28,28)"
   ]
  },
  {
   "cell_type": "code",
   "execution_count": 7,
   "metadata": {},
   "outputs": [
    {
     "data": {
      "text/plain": [
       "187"
      ]
     },
     "execution_count": 7,
     "metadata": {},
     "output_type": "execute_result"
    }
   ],
   "source": [
    "torch.randint(200, size=(1,)).item()"
   ]
  },
  {
   "cell_type": "code",
   "execution_count": 8,
   "metadata": {},
   "outputs": [
    {
     "data": {
      "image/png": "[encoded data removed]",
      "text/plain": [
       "<Figure size 1200x600 with 8 Axes>"
      ]
     },
     "metadata": {},
     "output_type": "display_data"
    }
   ],
   "source": [
    "import matplotlib.pyplot as plt\n",
    "\n",
    "figure = plt.figure(figsize=(12,6))\n",
    "cols, rows = 4, 2\n",
    "\n",
    "for i in range(1, cols*rows+1):\n",
    "    sample_idx = torch.randint(len(trainset), size=(1,)).item()\n",
    "    img, label = trainset[sample_idx]\n",
    "    figure.add_subplot(rows, cols, i)\n",
    "    plt.title(label)\n",
    "    plt.axis('off')\n",
    "    plt.imshow(img.squeeze(), cmap='gray')\n",
    "plt.show()"
   ]
  },
  {
   "cell_type": "markdown",
   "metadata": {},
   "source": [
    "### 신경망 구성\n",
    "* 레이어(layer)\n",
    "* 모듈(module): 한 개 이상의 레이어가 모여서 구성\n",
    "* 모델(model): 한 개 이상의 모듈이 모여서 구성"
   ]
  },
  {
   "cell_type": "code",
   "execution_count": 9,
   "metadata": {},
   "outputs": [],
   "source": [
    "import torch.nn as nn"
   ]
  },
  {
   "cell_type": "markdown",
   "metadata": {},
   "source": [
    "### Linear 계층"
   ]
  },
  {
   "cell_type": "code",
   "execution_count": 10,
   "metadata": {},
   "outputs": [
    {
     "name": "stdout",
     "output_type": "stream",
     "text": [
      "tensor([[ 0.1273, -1.9756, -0.6067,  ..., -0.8430, -0.1091,  1.4575],\n",
      "        [-0.6098,  1.2249, -2.0603,  ..., -1.3507,  0.8138,  1.0318],\n",
      "        [-0.3904, -0.6008, -1.4448,  ...,  1.5681,  0.5125,  0.7661],\n",
      "        ...,\n",
      "        [-0.7123, -0.5832,  1.6252,  ..., -0.4221, -1.5194,  1.4951],\n",
      "        [ 0.0648,  1.5190,  0.0494,  ...,  0.8581, -0.1274, -0.5890],\n",
      "        [ 0.8265, -0.5233,  0.7435,  ..., -0.1375,  0.5601, -0.9695]])\n",
      "Linear(in_features=20, out_features=30, bias=True)\n",
      "tensor([[-0.0355,  1.0671,  0.5358,  ..., -0.0510,  0.5071, -0.0088],\n",
      "        [-0.1953,  0.6075,  0.1132,  ...,  1.3714,  0.3479, -0.5175],\n",
      "        [ 0.7786,  0.0092, -0.2434,  ...,  0.6653, -0.2479, -0.2780],\n",
      "        ...,\n",
      "        [-0.2447,  0.0752,  0.6541,  ..., -0.2113, -0.0933, -0.5283],\n",
      "        [ 0.1018,  0.1437,  0.6190,  ..., -0.6524, -0.4994,  0.5168],\n",
      "        [ 0.3623, -0.5616,  0.0052,  ..., -0.3046, -0.0223,  0.2365]],\n",
      "       grad_fn=<AddmmBackward0>)\n",
      "torch.Size([128, 30])\n"
     ]
    }
   ],
   "source": [
    "input = torch.randn(128, 20)\n",
    "print(input)\n",
    "\n",
    "m = nn.Linear(20, 30)\n",
    "    # 입력 피처 수, 출력 피처 수\n",
    "print(m)\n",
    "\n",
    "output = m(input)\n",
    "print(output)\n",
    "print(output.size())"
   ]
  },
  {
   "cell_type": "markdown",
   "metadata": {},
   "source": [
    "### Conv2d 계층"
   ]
  },
  {
   "cell_type": "code",
   "execution_count": 11,
   "metadata": {},
   "outputs": [
    {
     "name": "stdout",
     "output_type": "stream",
     "text": [
      "torch.Size([20, 16, 50, 100])\n"
     ]
    }
   ],
   "source": [
    "input = torch.randn(20, 16, 50, 100)\n",
    "print(input.size())"
   ]
  },
  {
   "cell_type": "code",
   "execution_count": 12,
   "metadata": {},
   "outputs": [
    {
     "name": "stdout",
     "output_type": "stream",
     "text": [
      "Conv2d(16, 33, kernel_size=(3, 5), stride=(2, 1), padding=(4, 2), dilation=(3, 1))\n"
     ]
    }
   ],
   "source": [
    "m = nn.Conv2d(16, 33, 3, stride=2)\n",
    "m = nn.Conv2d(16, 33, (3,5), stride=(2,1), padding=(4,2))\n",
    "m = nn.Conv2d(16, 33, (3,5), stride=(2,1),\n",
    "               padding=(4,2), dilation=(3,1))\n",
    "print(m)"
   ]
  },
  {
   "cell_type": "code",
   "execution_count": 13,
   "metadata": {},
   "outputs": [
    {
     "name": "stdout",
     "output_type": "stream",
     "text": [
      "torch.Size([20, 33, 26, 100])\n"
     ]
    }
   ],
   "source": [
    "output = m(input)\n",
    "print(output.size())"
   ]
  },
  {
   "cell_type": "markdown",
   "metadata": {},
   "source": [
    "### 컨볼루션 레이어 자세히 보기"
   ]
  },
  {
   "cell_type": "code",
   "execution_count": 14,
   "metadata": {},
   "outputs": [
    {
     "data": {
      "text/plain": [
       "Conv2d(1, 20, kernel_size=(5, 5), stride=(1, 1))"
      ]
     },
     "execution_count": 14,
     "metadata": {},
     "output_type": "execute_result"
    }
   ],
   "source": [
    "nn.Conv2d(in_channels=1,\n",
    "          out_channels=20,\n",
    "          kernel_size=5,\n",
    "          stride=1)"
   ]
  },
  {
   "cell_type": "code",
   "execution_count": 15,
   "metadata": {},
   "outputs": [
    {
     "data": {
      "text/plain": [
       "Conv2d(1, 20, kernel_size=(5, 5), stride=(1, 1))"
      ]
     },
     "execution_count": 15,
     "metadata": {},
     "output_type": "execute_result"
    }
   ],
   "source": [
    "layer = nn.Conv2d(1,20,5,1).to(torch.device('cpu'))\n",
    "layer"
   ]
  },
  {
   "cell_type": "code",
   "execution_count": 16,
   "metadata": {},
   "outputs": [
    {
     "name": "stdout",
     "output_type": "stream",
     "text": [
      "torch.Size([20, 1, 5, 5])\n"
     ]
    }
   ],
   "source": [
    "weight = layer.weight\n",
    "print(weight.shape)"
   ]
  },
  {
   "cell_type": "code",
   "execution_count": 17,
   "metadata": {},
   "outputs": [
    {
     "data": {
      "image/png": "[encoded data removed]",
      "text/plain": [
       "<Figure size 640x480 with 2 Axes>"
      ]
     },
     "metadata": {},
     "output_type": "display_data"
    }
   ],
   "source": [
    "plt.imshow(weight[0, 0, :, :].detach().numpy(),\n",
    "            'grey')\n",
    "plt.colorbar()\n",
    "plt.show()"
   ]
  },
  {
   "cell_type": "code",
   "execution_count": 18,
   "metadata": {},
   "outputs": [
    {
     "name": "stdout",
     "output_type": "stream",
     "text": [
      "torch.Size([8, 1, 28, 28])\n",
      "torch.Size([1, 28, 28])\n",
      "torch.Size([1, 28, 28])\n",
      "torch.Size([28, 28])\n"
     ]
    }
   ],
   "source": [
    "print(images.shape)\n",
    "print(images[0].shape)\n",
    "print(images[0].size())\n",
    "\n",
    "input_image = torch.squeeze(images[0])\n",
    "print(input_image.size())"
   ]
  },
  {
   "cell_type": "code",
   "execution_count": 19,
   "metadata": {},
   "outputs": [
    {
     "name": "stdout",
     "output_type": "stream",
     "text": [
      "torch.Size([1, 28, 28])\n",
      "torch.Size([1, 1, 28, 28])\n"
     ]
    },
    {
     "data": {
      "text/plain": [
       "(1, 20, 24, 24)"
      ]
     },
     "execution_count": 19,
     "metadata": {},
     "output_type": "execute_result"
    }
   ],
   "source": [
    "print(images[0].shape)\n",
    "input_data = torch.unsqueeze(images[0], dim=0)\n",
    "print(input_data.shape)\n",
    "\n",
    "output_data = layer(input_data)\n",
    "output = output_data.data\n",
    "output_arr = output.numpy()\n",
    "output_arr.shape"
   ]
  },
  {
   "cell_type": "code",
   "execution_count": 20,
   "metadata": {},
   "outputs": [
    {
     "data": {
      "text/plain": [
       "<matplotlib.image.AxesImage at 0x1f37f2c44d0>"
      ]
     },
     "execution_count": 20,
     "metadata": {},
     "output_type": "execute_result"
    },
    {
     "data": {
      "image/png": "[encoded data removed]",
      "text/plain": [
       "<Figure size 1500x3000 with 3 Axes>"
      ]
     },
     "metadata": {},
     "output_type": "display_data"
    }
   ],
   "source": [
    "plt.figure(figsize=(15,30))\n",
    "\n",
    "plt.subplot(131)\n",
    "plt.title('input')\n",
    "plt.imshow(input_image, 'grey')\n",
    "\n",
    "plt.subplot(132)\n",
    "plt.title('Weight')\n",
    "plt.imshow(weight[0,0,:,:].detach().numpy(), 'jet')\n",
    "\n",
    "plt.subplot(133)\n",
    "plt.title('Output')\n",
    "plt.imshow(output_arr[0,0,:,:], 'grey')"
   ]
  },
  {
   "cell_type": "markdown",
   "metadata": {},
   "source": [
    "### 풀링 레이어"
   ]
  },
  {
   "cell_type": "code",
   "execution_count": 21,
   "metadata": {},
   "outputs": [
    {
     "data": {
      "text/plain": [
       "torch.Size([1, 20, 12, 12])"
      ]
     },
     "execution_count": 21,
     "metadata": {},
     "output_type": "execute_result"
    }
   ],
   "source": [
    "pool = nn.MaxPool2d(2, 2)\n",
    "pooled = pool(output)\n",
    "pooled.shape"
   ]
  },
  {
   "cell_type": "code",
   "execution_count": 22,
   "metadata": {},
   "outputs": [
    {
     "data": {
      "text/plain": [
       "(1, 20, 12, 12)"
      ]
     },
     "execution_count": 22,
     "metadata": {},
     "output_type": "execute_result"
    }
   ],
   "source": [
    "pool_arr = pooled.numpy()\n",
    "pool_arr.shape"
   ]
  },
  {
   "cell_type": "code",
   "execution_count": 23,
   "metadata": {},
   "outputs": [
    {
     "data": {
      "text/plain": [
       "<matplotlib.image.AxesImage at 0x1f37f1509d0>"
      ]
     },
     "execution_count": 23,
     "metadata": {},
     "output_type": "execute_result"
    },
    {
     "data": {
      "image/png": "[encoded data removed]",
      "text/plain": [
       "<Figure size 1000x1500 with 2 Axes>"
      ]
     },
     "metadata": {},
     "output_type": "display_data"
    }
   ],
   "source": [
    "plt.figure(figsize=(10,15))\n",
    "\n",
    "plt.subplot(121)\n",
    "plt.title('Input')\n",
    "plt.imshow(input_image, 'gray')\n",
    "\n",
    "plt.subplot(122)\n",
    "plt.title('Output')\n",
    "plt.imshow(pool_arr[0,0,:,:], 'gray')"
   ]
  },
  {
   "cell_type": "markdown",
   "metadata": {},
   "source": [
    "### Dense 층"
   ]
  },
  {
   "cell_type": "code",
   "execution_count": 24,
   "metadata": {},
   "outputs": [
    {
     "data": {
      "text/plain": [
       "torch.Size([1, 784])"
      ]
     },
     "execution_count": 24,
     "metadata": {},
     "output_type": "execute_result"
    }
   ],
   "source": [
    "flatten = input_image.view(-1, 28*28)\n",
    "flatten.shape"
   ]
  },
  {
   "cell_type": "code",
   "execution_count": 25,
   "metadata": {},
   "outputs": [
    {
     "data": {
      "text/plain": [
       "torch.Size([1, 10])"
      ]
     },
     "execution_count": 25,
     "metadata": {},
     "output_type": "execute_result"
    }
   ],
   "source": [
    "lin = nn.Linear(784, 10)(flatten)\n",
    "lin.shape"
   ]
  },
  {
   "cell_type": "code",
   "execution_count": 26,
   "metadata": {},
   "outputs": [
    {
     "data": {
      "image/png": "[encoded data removed]",
      "text/plain": [
       "<Figure size 640x480 with 2 Axes>"
      ]
     },
     "metadata": {},
     "output_type": "display_data"
    }
   ],
   "source": [
    "plt.imshow(lin.detach().numpy(), 'jet')\n",
    "plt.colorbar()\n",
    "plt.show()"
   ]
  },
  {
   "cell_type": "markdown",
   "metadata": {},
   "source": [
    "### 비선형 활성화 함수"
   ]
  },
  {
   "cell_type": "code",
   "execution_count": 27,
   "metadata": {},
   "outputs": [
    {
     "name": "stdout",
     "output_type": "stream",
     "text": [
      "tensor([[0.0606, 0.1582, 0.0974, 0.1296, 0.0460, 0.1008, 0.1106, 0.1100, 0.0893,\n",
      "         0.0974]])\n",
      "tensor(1.0000)\n"
     ]
    }
   ],
   "source": [
    "with torch.no_grad():\n",
    "    flatten = input_image.view(-1, 28*28)\n",
    "    lin = nn.Linear(784, 10)(flatten)\n",
    "    softmax = nn.Softmax(dim=1)\n",
    "    soft = softmax(lin)\n",
    "\n",
    "print(soft)\n",
    "print(soft.sum())"
   ]
  },
  {
   "cell_type": "code",
   "execution_count": 28,
   "metadata": {},
   "outputs": [
    {
     "data": {
      "text/plain": [
       "torch.Size([4, 3, 28, 28])"
      ]
     },
     "execution_count": 28,
     "metadata": {},
     "output_type": "execute_result"
    }
   ],
   "source": [
    "inputs = torch.randn(4,3,28,28).to('cuda')\n",
    "inputs.shape"
   ]
  },
  {
   "cell_type": "code",
   "execution_count": 29,
   "metadata": {},
   "outputs": [
    {
     "data": {
      "text/plain": [
       "torch.Size([4, 3, 28, 28])"
      ]
     },
     "execution_count": 29,
     "metadata": {},
     "output_type": "execute_result"
    }
   ],
   "source": [
    "layer = nn.Conv2d(3,20,5,1).to('cuda')\n",
    "ReLU = nn.ReLU()\n",
    "output = ReLU(inputs)\n",
    "output.shape"
   ]
  },
  {
   "cell_type": "markdown",
   "metadata": {},
   "source": [
    "### 모델 정의\n",
    "nn.Module 상속 클래스 정의\n",
    "* nn.Module을 상속받는 클래스 정의\n",
    "* __init__(): 모델에서 사용될 모듈과 활성화 함수 등을 정의\n",
    "* forward(): 모델에서 실행되어야 하는 연산을 정의"
   ]
  },
  {
   "cell_type": "code",
   "execution_count": 32,
   "metadata": {},
   "outputs": [],
   "source": [
    "class Model(nn.Module): # nn.Module 클래스를 상속받는 클래스 정의 시작\n",
    "    def __init__(self, inputs): # 모델에서 사용되는 가중치 정의 시작\n",
    "        super(Model, self).__init__() # super() 함수를 통해 nn.Module 클래스의 속성을 상속받고 초기화\n",
    "        self.layer = nn.Linear(inputs, 1)\n",
    "        self.activation = nn.Sigmoid()\n",
    "\n",
    "    def forward(self, x): # 입력과 정의한 가중치를 이용해 Feed Forward 연산 정의\n",
    "        x = self.layer(x) # 완전연결층 통과\n",
    "        x = self.activation(x) # 활성화 함수 적용\n",
    "        return x"
   ]
  },
  {
   "cell_type": "code",
   "execution_count": 35,
   "metadata": {},
   "outputs": [
    {
     "name": "stdout",
     "output_type": "stream",
     "text": [
      "[Linear(in_features=1, out_features=1, bias=True), Sigmoid()]\n",
      "[Model(\n",
      "  (layer): Linear(in_features=1, out_features=1, bias=True)\n",
      "  (activation): Sigmoid()\n",
      "), Linear(in_features=1, out_features=1, bias=True), Sigmoid()]\n"
     ]
    }
   ],
   "source": [
    "model = Model(1)\n",
    "print(list(model.children()))\n",
    "print(list(model.modules()))"
   ]
  },
  {
   "cell_type": "markdown",
   "metadata": {},
   "source": [
    "nn.Sequential을 이용한 신경망 정의\n",
    "* nn.Sequential 객체로 그 안에 각 모듈을 순차적으로 실행\n",
    "* __init__()에서 사용할 네트워크 모델들을 nn.Sequential로 정의 가능\n",
    "* forward()에서 실행되어야 할 계산을 가독성 높게 작성 가능"
   ]
  },
  {
   "cell_type": "code",
   "execution_count": 41,
   "metadata": {},
   "outputs": [],
   "source": [
    "class Model(nn.Module):\n",
    "    def __init__(self):\n",
    "        super(Model, self).__init__()\n",
    "        self.layer1 = nn.Sequential(\n",
    "            nn.Conv2d(in_channels=3, out_channels=64, kernel_size=5),\n",
    "            nn.ReLU(inplace=True),\n",
    "            nn.MaxPool2d(2)\n",
    "        )\n",
    "\n",
    "        self.layer2 = nn.Sequential(\n",
    "            nn.Conv2d(in_channels=64, out_channels=32, kernel_size=5),\n",
    "            nn.ReLU(inplace=True),\n",
    "            nn.MaxPool2d(2)\n",
    "        )\n",
    "\n",
    "        self.layer3 = nn.Sequential(\n",
    "            nn.Linear(in_features=32*4*4, out_features=10, bias=True),\n",
    "                # in_channels 계산: 28*28 -> 24*24 -> 12*12 -> 8*8 -> 4*4\n",
    "            nn.ReLU(inplace=True)\n",
    "        )\n",
    "\n",
    "    def forward(self, x):\n",
    "        x = self.layer1(x)\n",
    "        x = self.layer2(x)\n",
    "        x = x.view(x.shape[0], -1)\n",
    "        x = self.layer3(x)\n",
    "        return x"
   ]
  },
  {
   "cell_type": "code",
   "execution_count": 42,
   "metadata": {},
   "outputs": [
    {
     "name": "stdout",
     "output_type": "stream",
     "text": [
      "[Sequential(\n",
      "  (0): Conv2d(3, 64, kernel_size=(5, 5), stride=(1, 1))\n",
      "  (1): ReLU(inplace=True)\n",
      "  (2): MaxPool2d(kernel_size=2, stride=2, padding=0, dilation=1, ceil_mode=False)\n",
      "), Sequential(\n",
      "  (0): Conv2d(64, 32, kernel_size=(5, 5), stride=(1, 1))\n",
      "  (1): ReLU(inplace=True)\n",
      "  (2): MaxPool2d(kernel_size=2, stride=2, padding=0, dilation=1, ceil_mode=False)\n",
      "), Sequential(\n",
      "  (0): Linear(in_features=512, out_features=10, bias=True)\n",
      "  (1): ReLU(inplace=True)\n",
      ")]\n",
      "[Model(\n",
      "  (layer1): Sequential(\n",
      "    (0): Conv2d(3, 64, kernel_size=(5, 5), stride=(1, 1))\n",
      "    (1): ReLU(inplace=True)\n",
      "    (2): MaxPool2d(kernel_size=2, stride=2, padding=0, dilation=1, ceil_mode=False)\n",
      "  )\n",
      "  (layer2): Sequential(\n",
      "    (0): Conv2d(64, 32, kernel_size=(5, 5), stride=(1, 1))\n",
      "    (1): ReLU(inplace=True)\n",
      "    (2): MaxPool2d(kernel_size=2, stride=2, padding=0, dilation=1, ceil_mode=False)\n",
      "  )\n",
      "  (layer3): Sequential(\n",
      "    (0): Linear(in_features=512, out_features=10, bias=True)\n",
      "    (1): ReLU(inplace=True)\n",
      "  )\n",
      "), Sequential(\n",
      "  (0): Conv2d(3, 64, kernel_size=(5, 5), stride=(1, 1))\n",
      "  (1): ReLU(inplace=True)\n",
      "  (2): MaxPool2d(kernel_size=2, stride=2, padding=0, dilation=1, ceil_mode=False)\n",
      "), Conv2d(3, 64, kernel_size=(5, 5), stride=(1, 1)), ReLU(inplace=True), MaxPool2d(kernel_size=2, stride=2, padding=0, dilation=1, ceil_mode=False), Sequential(\n",
      "  (0): Conv2d(64, 32, kernel_size=(5, 5), stride=(1, 1))\n",
      "  (1): ReLU(inplace=True)\n",
      "  (2): MaxPool2d(kernel_size=2, stride=2, padding=0, dilation=1, ceil_mode=False)\n",
      "), Conv2d(64, 32, kernel_size=(5, 5), stride=(1, 1)), ReLU(inplace=True), MaxPool2d(kernel_size=2, stride=2, padding=0, dilation=1, ceil_mode=False), Sequential(\n",
      "  (0): Linear(in_features=512, out_features=10, bias=True)\n",
      "  (1): ReLU(inplace=True)\n",
      "), Linear(in_features=512, out_features=10, bias=True), ReLU(inplace=True)]\n"
     ]
    }
   ],
   "source": [
    "model = Model()\n",
    "print(list(model.children()))\n",
    "print(list(model.modules()))"
   ]
  },
  {
   "cell_type": "markdown",
   "metadata": {},
   "source": [
    "### 손실 함수\n",
    "예시\n",
    "* torch.nn.BCELoss\n",
    "* torch.nn.CrossEntropyLoss\n",
    "* torch.nn.MSELoss"
   ]
  },
  {
   "cell_type": "code",
   "execution_count": 43,
   "metadata": {},
   "outputs": [],
   "source": [
    "criterion = nn.MSELoss()"
   ]
  },
  {
   "cell_type": "markdown",
   "metadata": {},
   "source": [
    "### 옵티마이저\n",
    "* optimizer는 step()을 통해 전달받은 파라미터로 모델 업데이트\n",
    "* 모든 옵티마이저는 기본으로 torch.optim.Optimizer(params, defaults) 클래스를 상속받아서 사용함.\n",
    "* zero_grad()는 옵티마이저에 사용된 파라미터들의 기울기를 0으로 설정\n",
    "* torch.optim.lr_scheduler를 이용하여 에포크에 따라 학습률 조절 가능"
   ]
  },
  {
   "cell_type": "markdown",
   "metadata": {},
   "source": [
    "### 지표\n",
    "* 모델의 학습과 테스트 단계를 모니터링"
   ]
  },
  {
   "cell_type": "code",
   "execution_count": 69,
   "metadata": {},
   "outputs": [
    {
     "name": "stdout",
     "output_type": "stream",
     "text": [
      "tensor([[0.1853, 0.0504, 0.3291, 0.2390, 0.1963],\n",
      "        [0.1250, 0.1020, 0.4356, 0.1689, 0.1685],\n",
      "        [0.0414, 0.0251, 0.1593, 0.0244, 0.7498],\n",
      "        [0.4606, 0.0177, 0.2341, 0.1540, 0.1335],\n",
      "        [0.3529, 0.0869, 0.1637, 0.2595, 0.1370],\n",
      "        [0.1828, 0.2469, 0.1214, 0.1116, 0.3372],\n",
      "        [0.1934, 0.4837, 0.1855, 0.0720, 0.0655],\n",
      "        [0.0872, 0.2992, 0.1213, 0.3769, 0.1153],\n",
      "        [0.0880, 0.4738, 0.0633, 0.0928, 0.2820],\n",
      "        [0.0576, 0.1765, 0.4392, 0.0927, 0.2339]]) tensor([3, 2, 2, 0, 3, 4, 1, 2, 1, 3])\n",
      "tensor(0.5000)\n"
     ]
    }
   ],
   "source": [
    "import torchmetrics\n",
    "\n",
    "preds = torch.randn(10, 5).softmax(dim=-1)\n",
    "target = torch.randint(5, (10,))\n",
    "print(preds, target)\n",
    "\n",
    "acc = torchmetrics.functional.accuracy(preds, target, task=\"multiclass\", num_classes=5)\n",
    "print(acc)"
   ]
  },
  {
   "cell_type": "code",
   "execution_count": null,
   "metadata": {},
   "outputs": [
    {
     "name": "stdout",
     "output_type": "stream",
     "text": [
      "tensor(0.1000)\n",
      "tensor(0.2000)\n",
      "tensor(0.1000)\n",
      "tensor(0.)\n",
      "tensor(0.4000)\n",
      "tensor(0.3000)\n",
      "tensor(0.2000)\n",
      "tensor(0.1000)\n",
      "tensor(0.2000)\n",
      "tensor(0.5000)\n",
      "tensor(0.2100)\n"
     ]
    }
   ],
   "source": [
    "metric = torchmetrics.Accuracy(task=\"multiclass\", num_classes=5)\n",
    "\n",
    "n_batches = 10\n",
    "for i in range(n_batches):\n",
    "    preds = torch.randn(10, 5).softmax(dim=-1)\n",
    "    target = torch.randint(5, (10,))\n",
    "\n",
    "    acc = metric(preds, target)\n",
    "        # metric을 호출할 때마다 update() 메서드가 자동으로 호출되어 누적됨\n",
    "    print(acc)\n",
    "\n",
    "acc = metric.compute()\n",
    "    # 전체 배치에 대한 accuracy를 출력 (여기선 모든 배치 accuracy의 평균)\n",
    "print(acc)"
   ]
  },
  {
   "cell_type": "markdown",
   "metadata": {},
   "source": [
    "### FashionMNIST 분류모델"
   ]
  },
  {
   "cell_type": "code",
   "execution_count": 79,
   "metadata": {},
   "outputs": [
    {
     "data": {
      "text/plain": [
       "device(type='cuda')"
      ]
     },
     "execution_count": 79,
     "metadata": {},
     "output_type": "execute_result"
    }
   ],
   "source": [
    "device = torch.device('cuda' if torch.cuda.is_available() else 'cpu')\n",
    "device"
   ]
  },
  {
   "cell_type": "markdown",
   "metadata": {},
   "source": [
    "**데이터 로드**"
   ]
  },
  {
   "cell_type": "code",
   "execution_count": 80,
   "metadata": {},
   "outputs": [],
   "source": [
    "transform = transforms.Compose([transforms.ToTensor(),\n",
    "                                transforms.Normalize((0.5,),(0.5,))])"
   ]
  },
  {
   "cell_type": "code",
   "execution_count": 81,
   "metadata": {},
   "outputs": [
    {
     "name": "stdout",
     "output_type": "stream",
     "text": [
      "Downloading http://fashion-mnist.s3-website.eu-central-1.amazonaws.com/train-images-idx3-ubyte.gz\n",
      "Downloading http://fashion-mnist.s3-website.eu-central-1.amazonaws.com/train-images-idx3-ubyte.gz to /FashionMNIST/FashionMNIST\\raw\\train-images-idx3-ubyte.gz\n"
     ]
    },
    {
     "name": "stderr",
     "output_type": "stream",
     "text": [
      "100%|██████████| 26.4M/26.4M [00:07<00:00, 3.48MB/s]\n"
     ]
    },
    {
     "name": "stdout",
     "output_type": "stream",
     "text": [
      "Extracting /FashionMNIST/FashionMNIST\\raw\\train-images-idx3-ubyte.gz to /FashionMNIST/FashionMNIST\\raw\n",
      "\n",
      "Downloading http://fashion-mnist.s3-website.eu-central-1.amazonaws.com/train-labels-idx1-ubyte.gz\n",
      "Downloading http://fashion-mnist.s3-website.eu-central-1.amazonaws.com/train-labels-idx1-ubyte.gz to /FashionMNIST/FashionMNIST\\raw\\train-labels-idx1-ubyte.gz\n"
     ]
    },
    {
     "name": "stderr",
     "output_type": "stream",
     "text": [
      "100%|██████████| 29.5k/29.5k [00:00<00:00, 114kB/s]\n"
     ]
    },
    {
     "name": "stdout",
     "output_type": "stream",
     "text": [
      "Extracting /FashionMNIST/FashionMNIST\\raw\\train-labels-idx1-ubyte.gz to /FashionMNIST/FashionMNIST\\raw\n",
      "\n",
      "Downloading http://fashion-mnist.s3-website.eu-central-1.amazonaws.com/t10k-images-idx3-ubyte.gz\n",
      "Downloading http://fashion-mnist.s3-website.eu-central-1.amazonaws.com/t10k-images-idx3-ubyte.gz to /FashionMNIST/FashionMNIST\\raw\\t10k-images-idx3-ubyte.gz\n"
     ]
    },
    {
     "name": "stderr",
     "output_type": "stream",
     "text": [
      "100%|██████████| 4.42M/4.42M [00:00<00:00, 21.6MB/s]\n"
     ]
    },
    {
     "name": "stdout",
     "output_type": "stream",
     "text": [
      "Extracting /FashionMNIST/FashionMNIST\\raw\\t10k-images-idx3-ubyte.gz to /FashionMNIST/FashionMNIST\\raw\n",
      "\n",
      "Downloading http://fashion-mnist.s3-website.eu-central-1.amazonaws.com/t10k-labels-idx1-ubyte.gz\n",
      "Downloading http://fashion-mnist.s3-website.eu-central-1.amazonaws.com/t10k-labels-idx1-ubyte.gz to /FashionMNIST/FashionMNIST\\raw\\t10k-labels-idx1-ubyte.gz\n"
     ]
    },
    {
     "name": "stderr",
     "output_type": "stream",
     "text": [
      "100%|██████████| 5.15k/5.15k [00:00<00:00, 3.34MB/s]"
     ]
    },
    {
     "name": "stdout",
     "output_type": "stream",
     "text": [
      "Extracting /FashionMNIST/FashionMNIST\\raw\\t10k-labels-idx1-ubyte.gz to /FashionMNIST/FashionMNIST\\raw\n",
      "\n"
     ]
    },
    {
     "name": "stderr",
     "output_type": "stream",
     "text": [
      "\n"
     ]
    }
   ],
   "source": [
    "trainset = datasets.FashionMNIST(root='/FashionMNIST/',\n",
    "                                 train=True,\n",
    "                                 download=True,\n",
    "                                 transform=transform)\n",
    "testset = datasets.FashionMNIST(root='/FashionMNIST/',\n",
    "                                 train=False,\n",
    "                                 download=True,\n",
    "                                 transform=transform)"
   ]
  },
  {
   "cell_type": "code",
   "execution_count": 82,
   "metadata": {},
   "outputs": [],
   "source": [
    "train_loader = DataLoader(trainset, batch_size=128, shuffle=True, num_workers=2)\n",
    "test_loader = DataLoader(testset, batch_size=128, shuffle=False, num_workers=2)"
   ]
  },
  {
   "cell_type": "code",
   "execution_count": 83,
   "metadata": {},
   "outputs": [
    {
     "name": "stdout",
     "output_type": "stream",
     "text": [
      "torch.Size([128, 1, 28, 28]) torch.Size([128])\n"
     ]
    }
   ],
   "source": [
    "images, labels = next(iter(train_loader))\n",
    "print(images.shape, labels.shape)"
   ]
  },
  {
   "cell_type": "code",
   "execution_count": 84,
   "metadata": {},
   "outputs": [
    {
     "data": {
      "image/png": "[encoded data removed]",
      "text/plain": [
       "<Figure size 1200x1200 with 16 Axes>"
      ]
     },
     "metadata": {},
     "output_type": "display_data"
    }
   ],
   "source": [
    "labels_map = {\n",
    "    0: 'T-Shirt',\n",
    "    1: 'Trouser',\n",
    "    2: 'Puulover',\n",
    "    3: 'Dress',\n",
    "    4: 'Coat',\n",
    "    5: 'Sandal',\n",
    "    6: 'Shirt',\n",
    "    7: 'Sneaker',\n",
    "    8: 'Bag',\n",
    "    9: 'Ankle Boot'\n",
    "}\n",
    "\n",
    "figure = plt.figure(figsize=(12,12))\n",
    "cols, rows = 4,4\n",
    "for i in range(1, cols*rows+1):\n",
    "    image = images[i].squeeze()\n",
    "    label_idx = labels[i].item()\n",
    "    label = labels_map[label_idx]\n",
    "\n",
    "    figure.add_subplot(rows, cols, i)\n",
    "    plt.title(label)\n",
    "    plt.axis('off')\n",
    "    plt.imshow(image, cmap='gray')"
   ]
  },
  {
   "cell_type": "markdown",
   "metadata": {},
   "source": [
    "**모델 정의 및 파라미터**"
   ]
  },
  {
   "cell_type": "code",
   "execution_count": 122,
   "metadata": {},
   "outputs": [
    {
     "name": "stdout",
     "output_type": "stream",
     "text": [
      "Neural(\n",
      "  (conv1): Sequential(\n",
      "    (0): Conv2d(1, 16, kernel_size=(5, 5), stride=(1, 1))\n",
      "    (1): ReLU(inplace=True)\n",
      "    (2): MaxPool2d(kernel_size=2, stride=2, padding=0, dilation=1, ceil_mode=False)\n",
      "  )\n",
      "  (conv2): Sequential(\n",
      "    (0): Conv2d(16, 64, kernel_size=(5, 5), stride=(1, 1))\n",
      "    (1): ReLU(inplace=True)\n",
      "    (2): MaxPool2d(kernel_size=2, stride=2, padding=0, dilation=1, ceil_mode=False)\n",
      "  )\n",
      "  (fc1): Sequential(\n",
      "    (0): Linear(in_features=1024, out_features=120, bias=True)\n",
      "    (1): ReLU(inplace=True)\n",
      "  )\n",
      "  (fc2): Sequential(\n",
      "    (0): Linear(in_features=120, out_features=10, bias=True)\n",
      "    (1): Softmax(dim=-1)\n",
      "  )\n",
      ")\n"
     ]
    }
   ],
   "source": [
    "class Neural(nn.Module):\n",
    "    def __init__(self):\n",
    "        super(Neural, self).__init__()\n",
    "\n",
    "        self.conv1 = nn.Sequential(\n",
    "            nn.Conv2d(in_channels=1, out_channels=16, kernel_size=5),\n",
    "            nn.ReLU(inplace=True),\n",
    "            nn.MaxPool2d(2)\n",
    "        )\n",
    "        \n",
    "        self.conv2 = nn.Sequential(\n",
    "            nn.Conv2d(in_channels=16, out_channels=64, kernel_size=5),\n",
    "            nn.ReLU(inplace=True),\n",
    "            nn.MaxPool2d(2)\n",
    "        )\n",
    "        \n",
    "        self.fc1 = nn.Sequential(\n",
    "            nn.Linear(64*4*4, 120),\n",
    "            nn.ReLU(inplace=True)\n",
    "        )\n",
    "\n",
    "        self.fc2 = nn.Sequential(\n",
    "            nn.Linear(120, 10),\n",
    "            nn.Softmax(dim=-1)\n",
    "        )\n",
    "\n",
    "    def forward(self, x):\n",
    "        x = self.conv1(x)\n",
    "        x = self.conv2(x)\n",
    "        x = x.view(-1, self.num_flat_features(x))\n",
    "        x = self.fc1(x)\n",
    "        x = self.fc2(x)\n",
    "        return x\n",
    "    \n",
    "    def num_flat_features(self, x):\n",
    "        size = x.size()[1:]\n",
    "        num_features = 1\n",
    "        for s in size:\n",
    "            num_features *= s\n",
    "\n",
    "        return num_features\n",
    "    \n",
    "net = Neural()\n",
    "print(net)"
   ]
  },
  {
   "cell_type": "code",
   "execution_count": 123,
   "metadata": {},
   "outputs": [
    {
     "name": "stdout",
     "output_type": "stream",
     "text": [
      "8\n",
      "torch.Size([16, 1, 5, 5])\n"
     ]
    }
   ],
   "source": [
    "params = list(net.parameters())\n",
    "print(len(params))\n",
    "print(params[0].size())"
   ]
  },
  {
   "cell_type": "code",
   "execution_count": 124,
   "metadata": {},
   "outputs": [
    {
     "name": "stdout",
     "output_type": "stream",
     "text": [
      "tensor([[0.1081, 0.0948, 0.1067, 0.0973, 0.0927, 0.0982, 0.1081, 0.0924, 0.1093,\n",
      "         0.0923]], grad_fn=<SoftmaxBackward0>)\n"
     ]
    }
   ],
   "source": [
    "input = torch.rand(1,1,28,28)\n",
    "out = net(input)\n",
    "print(out)"
   ]
  },
  {
   "cell_type": "markdown",
   "metadata": {},
   "source": [
    "**손실함수와 옵티마이저**"
   ]
  },
  {
   "cell_type": "code",
   "execution_count": 125,
   "metadata": {},
   "outputs": [],
   "source": [
    "import torch.optim as optim\n",
    "\n",
    "criterion = nn.CrossEntropyLoss()\n",
    "optimizer = optim.SGD(net.parameters(), lr=0.001, momentum=0.9)"
   ]
  },
  {
   "cell_type": "code",
   "execution_count": 126,
   "metadata": {},
   "outputs": [
    {
     "name": "stdout",
     "output_type": "stream",
     "text": [
      "469\n"
     ]
    }
   ],
   "source": [
    "total_batch = len(train_loader)\n",
    "print(total_batch)"
   ]
  },
  {
   "cell_type": "code",
   "execution_count": 127,
   "metadata": {},
   "outputs": [
    {
     "name": "stdout",
     "output_type": "stream",
     "text": [
      "Epoch: 1, iter: 100, Loss: 0.1151200157403946\n",
      "Epoch: 1, iter: 200, Loss: 0.11509624409675598\n",
      "Epoch: 1, iter: 300, Loss: 0.11507794415950776\n",
      "Epoch: 1, iter: 400, Loss: 0.11505464124679565\n",
      "Epoch: 2, iter: 100, Loss: 0.11502071762084962\n",
      "Epoch: 2, iter: 200, Loss: 0.1149981656074524\n",
      "Epoch: 2, iter: 300, Loss: 0.11496542906761169\n",
      "Epoch: 2, iter: 400, Loss: 0.11494090962409974\n",
      "Epoch: 3, iter: 100, Loss: 0.11488499891757965\n",
      "Epoch: 3, iter: 200, Loss: 0.11483412146568299\n",
      "Epoch: 3, iter: 300, Loss: 0.11478544855117798\n",
      "Epoch: 3, iter: 400, Loss: 0.11472357249259948\n",
      "Epoch: 4, iter: 100, Loss: 0.11455695414543152\n",
      "Epoch: 4, iter: 200, Loss: 0.11441137063503265\n",
      "Epoch: 4, iter: 300, Loss: 0.11419672524929046\n",
      "Epoch: 4, iter: 400, Loss: 0.1138342856168747\n",
      "Epoch: 5, iter: 100, Loss: 0.11233364486694336\n",
      "Epoch: 5, iter: 200, Loss: 0.1100801237821579\n",
      "Epoch: 5, iter: 300, Loss: 0.10637697768211364\n",
      "Epoch: 5, iter: 400, Loss: 0.10321317052841186\n",
      "Epoch: 6, iter: 100, Loss: 0.0991509936451912\n",
      "Epoch: 6, iter: 200, Loss: 0.09691424089670181\n",
      "Epoch: 6, iter: 300, Loss: 0.09526473033428193\n",
      "Epoch: 6, iter: 400, Loss: 0.09322657465934753\n",
      "Epoch: 7, iter: 100, Loss: 0.09155962646007537\n",
      "Epoch: 7, iter: 200, Loss: 0.09061179274320602\n",
      "Epoch: 7, iter: 300, Loss: 0.09026047843694687\n",
      "Epoch: 7, iter: 400, Loss: 0.08932911998033524\n",
      "Epoch: 8, iter: 100, Loss: 0.08848537182807922\n",
      "Epoch: 8, iter: 200, Loss: 0.08817180979251861\n",
      "Epoch: 8, iter: 300, Loss: 0.08746239703893662\n",
      "Epoch: 8, iter: 400, Loss: 0.08780028426647186\n",
      "Epoch: 9, iter: 100, Loss: 0.08685980427265168\n",
      "Epoch: 9, iter: 200, Loss: 0.08696039360761643\n",
      "Epoch: 9, iter: 300, Loss: 0.08707156229019165\n",
      "Epoch: 9, iter: 400, Loss: 0.08665440827608109\n",
      "Epoch: 10, iter: 100, Loss: 0.08654288411140441\n",
      "Epoch: 10, iter: 200, Loss: 0.08636179101467133\n",
      "Epoch: 10, iter: 300, Loss: 0.08613117855787278\n",
      "Epoch: 10, iter: 400, Loss: 0.08613952165842056\n"
     ]
    }
   ],
   "source": [
    "for epoch in range(10):\n",
    "    running_loss = 0.0\n",
    "\n",
    "    for i, data in enumerate(train_loader):\n",
    "        inputs, labels = data\n",
    "        optimizer.zero_grad()\n",
    "\n",
    "        outputs = net(inputs)\n",
    "        loss = criterion(outputs, labels)\n",
    "        loss.backward()\n",
    "        optimizer.step()\n",
    "\n",
    "        running_loss += loss.item()\n",
    "\n",
    "        if i % 100 == 99:\n",
    "            print('Epoch: {}, iter: {}, Loss: {}'.format(epoch+1, i+1, running_loss/2000))\n",
    "            running_loss = 0.0\n"
   ]
  },
  {
   "cell_type": "code",
   "execution_count": 129,
   "metadata": {},
   "outputs": [],
   "source": [
    "import torchvision\n",
    "\n",
    "dataiter = iter(test_loader)\n",
    "images, labels = next(dataiter)"
   ]
  },
  {
   "cell_type": "code",
   "execution_count": 134,
   "metadata": {},
   "outputs": [
    {
     "name": "stdout",
     "output_type": "stream",
     "text": [
      "tensor([7, 2, 1, 1, 2, 1, 2, 2, 5, 7, 4, 5, 5, 3, 4, 1, 2, 2, 8, 0, 2, 7, 7, 5,\n",
      "        1, 2, 4, 3, 9, 3, 8, 8, 3, 3, 8, 0, 7, 5, 7, 9, 0, 1, 3, 9, 2, 5, 2, 1,\n",
      "        4, 4, 2, 2, 5, 2, 4, 2, 8, 4, 8, 0, 7, 7, 8, 5, 1, 1, 3, 3, 7, 8, 7, 0,\n",
      "        2, 0, 4, 3, 1, 2, 8, 4, 1, 8, 5, 9, 5, 0, 3, 2, 0, 2, 5, 3, 4, 7, 1, 8,\n",
      "        0, 1, 2, 2, 3, 4, 7, 2, 7, 8, 5, 9, 9, 4, 2, 5, 7, 0, 5, 2, 8, 4, 7, 2,\n",
      "        0, 0, 9, 9, 3, 0, 8, 4])\n"
     ]
    }
   ],
   "source": [
    "outputs = net(images)\n",
    "\n",
    "_, predicted = torch.max(outputs, 1) # 첫번째값(실제 최댓값) 무시하고 뒤의 인덱스(argmax)만 가져옴\n",
    "print(predicted)"
   ]
  },
  {
   "cell_type": "code",
   "execution_count": 136,
   "metadata": {},
   "outputs": [
    {
     "data": {
      "text/plain": [
       "tensor([9, 2, 1, 1, 6, 1, 4, 6, 5, 7, 4, 5, 7, 3, 4, 1, 2, 4, 8, 0, 2, 5, 7, 9,\n",
       "        1, 4, 6, 0, 9, 3, 8, 8, 3, 3, 8, 0, 7, 5, 7, 9, 6, 1, 3, 7, 6, 7, 2, 1,\n",
       "        2, 2, 4, 4, 5, 8, 2, 2, 8, 4, 8, 0, 7, 7, 8, 5, 1, 1, 2, 3, 9, 8, 7, 0,\n",
       "        2, 6, 2, 3, 1, 2, 8, 4, 1, 8, 5, 9, 5, 0, 3, 2, 0, 6, 5, 3, 6, 7, 1, 8,\n",
       "        0, 1, 4, 2, 3, 6, 7, 2, 7, 8, 5, 9, 9, 4, 2, 5, 7, 0, 5, 2, 8, 6, 7, 8,\n",
       "        0, 0, 9, 9, 3, 0, 8, 4])"
      ]
     },
     "execution_count": 136,
     "metadata": {},
     "output_type": "execute_result"
    }
   ],
   "source": [
    "labels"
   ]
  },
  {
   "cell_type": "code",
   "execution_count": 143,
   "metadata": {},
   "outputs": [
    {
     "data": {
      "text/plain": [
       "tensor(1.7137, grad_fn=<NllLossBackward0>)"
      ]
     },
     "execution_count": 143,
     "metadata": {},
     "output_type": "execute_result"
    }
   ],
   "source": [
    "criterion(outputs, labels)"
   ]
  },
  {
   "cell_type": "code",
   "execution_count": 146,
   "metadata": {},
   "outputs": [
    {
     "data": {
      "text/plain": [
       "0.7578125"
      ]
     },
     "execution_count": 146,
     "metadata": {},
     "output_type": "execute_result"
    }
   ],
   "source": [
    "sum(predicted.detach().numpy() == labels.detach().numpy())/len(labels.detach().numpy())"
   ]
  },
  {
   "cell_type": "code",
   "execution_count": null,
   "metadata": {},
   "outputs": [
    {
     "name": "stdout",
     "output_type": "stream",
     "text": [
      "tensor([7, 2, 1, 1, 2, 1, 2, 2, 5, 7, 4, 5, 5, 3, 4, 1, 2, 2, 8, 0, 2, 7, 7, 5,\n",
      "        1, 2, 4, 3, 9, 3, 8, 8, 3, 3, 8, 0, 7, 5, 7, 9, 0, 1, 3, 9, 2, 5, 2, 1,\n",
      "        4, 4, 2, 2, 5, 2, 4, 2, 8, 4, 8, 0, 7, 7, 8, 5, 1, 1, 3, 3, 7, 8, 7, 0,\n",
      "        2, 0, 4, 3, 1, 2, 8, 4, 1, 8, 5, 9, 5, 0, 3, 2, 0, 2, 5, 3, 4, 7, 1, 8,\n",
      "        0, 1, 2, 2, 3, 4, 7, 2, 7, 8, 5, 9, 9, 4, 2, 5, 7, 0, 5, 2, 8, 4, 7, 2,\n",
      "        0, 0, 9, 9, 3, 0, 8, 4])\n",
      "tensor([1, 5, 4, 1, 9, 1, 8, 2, 2, 1, 2, 5, 1, 2, 0, 0, 1, 2, 1, 3, 2, 2, 2, 2,\n",
      "        1, 4, 5, 2, 4, 7, 9, 3, 7, 2, 3, 5, 0, 9, 4, 9, 4, 2, 0, 5, 4, 1, 2, 1,\n",
      "        3, 0, 9, 1, 0, 9, 4, 8, 7, 9, 9, 4, 4, 7, 3, 5, 1, 2, 3, 2, 8, 3, 2, 1,\n",
      "        1, 0, 2, 9, 2, 4, 0, 7, 9, 5, 4, 1, 8, 4, 1, 3, 3, 5, 7, 4, 8, 5, 1, 0,\n",
      "        7, 7, 0, 2, 7, 0, 7, 8, 9, 2, 9, 0, 5, 1, 4, 2, 5, 4, 9, 2, 2, 8, 2, 4,\n",
      "        2, 4, 9, 7, 3, 5, 5, 4])\n",
      "tensor([8, 5, 2, 3, 0, 4, 8, 0, 0, 2, 3, 2, 9, 0, 1, 2, 0, 4, 3, 0, 8, 3, 7, 4,\n",
      "        0, 1, 4, 3, 0, 2, 0, 7, 5, 3, 7, 9, 5, 3, 5, 5, 3, 9, 8, 3, 3, 3, 2, 8,\n",
      "        0, 0, 4, 9, 7, 9, 1, 3, 5, 2, 2, 4, 7, 1, 2, 4, 5, 2, 0, 5, 2, 4, 7, 7,\n",
      "        7, 3, 3, 7, 2, 7, 1, 3, 7, 2, 2, 3, 4, 0, 3, 1, 0, 1, 9, 4, 9, 9, 1, 7,\n",
      "        2, 4, 3, 0, 2, 4, 8, 2, 1, 2, 2, 4, 4, 7, 3, 2, 2, 5, 3, 5, 9, 4, 0, 9,\n",
      "        3, 9, 3, 2, 5, 0, 2, 3])\n",
      "tensor([5, 8, 1, 4, 2, 4, 4, 4, 9, 5, 2, 0, 4, 4, 1, 2, 0, 9, 7, 0, 4, 4, 3, 3,\n",
      "        2, 3, 0, 4, 7, 2, 9, 4, 2, 1, 8, 2, 5, 3, 8, 5, 8, 4, 4, 8, 9, 8, 5, 2,\n",
      "        2, 4, 2, 4, 1, 2, 1, 3, 0, 7, 8, 8, 4, 5, 3, 1, 7, 5, 3, 3, 0, 1, 2, 2,\n",
      "        9, 4, 0, 2, 1, 4, 2, 0, 0, 3, 3, 8, 2, 8, 9, 4, 0, 9, 0, 4, 4, 5, 2, 9,\n",
      "        7, 9, 3, 5, 5, 9, 8, 1, 0, 0, 4, 2, 8, 9, 7, 9, 1, 2, 7, 3, 4, 0, 5, 9,\n",
      "        1, 8, 4, 2, 5, 2, 2, 4])\n",
      "tensor([2, 1, 9, 8, 5, 1, 9, 1, 2, 8, 3, 8, 9, 2, 4, 2, 8, 8, 2, 5, 5, 8, 8, 5,\n",
      "        3, 9, 4, 3, 4, 4, 5, 1, 3, 1, 4, 0, 2, 9, 2, 1, 5, 1, 3, 1, 9, 1, 4, 5,\n",
      "        3, 3, 2, 0, 4, 0, 0, 5, 8, 0, 3, 4, 0, 7, 7, 8, 9, 0, 2, 8, 7, 0, 7, 9,\n",
      "        3, 4, 0, 3, 5, 3, 1, 1, 5, 9, 3, 2, 5, 7, 8, 1, 2, 9, 5, 5, 1, 0, 9, 0,\n",
      "        2, 9, 0, 7, 3, 8, 2, 7, 3, 2, 3, 8, 2, 2, 0, 7, 3, 0, 7, 8, 8, 2, 9, 4,\n",
      "        2, 0, 4, 1, 0, 3, 2, 2])\n",
      "tensor([7, 5, 8, 4, 9, 1, 0, 5, 4, 4, 4, 0, 0, 4, 5, 2, 0, 4, 5, 4, 1, 3, 1, 3,\n",
      "        5, 4, 3, 8, 2, 5, 3, 5, 0, 4, 3, 8, 5, 0, 8, 2, 9, 0, 8, 9, 0, 4, 4, 9,\n",
      "        2, 4, 5, 0, 9, 5, 3, 4, 4, 8, 3, 3, 8, 1, 2, 0, 9, 9, 9, 4, 5, 9, 1, 3,\n",
      "        7, 0, 0, 2, 4, 9, 1, 0, 0, 8, 7, 4, 2, 4, 4, 4, 1, 5, 9, 0, 0, 3, 2, 5,\n",
      "        0, 3, 3, 3, 3, 8, 1, 2, 8, 5, 7, 9, 8, 7, 2, 5, 5, 0, 8, 0, 9, 7, 2, 1,\n",
      "        3, 4, 4, 8, 2, 0, 3, 2])\n",
      "tensor([8, 4, 0, 8, 9, 2, 4, 5, 9, 1, 4, 4, 9, 2, 1, 7, 9, 7, 8, 3, 9, 7, 1, 1,\n",
      "        1, 2, 9, 5, 3, 8, 4, 4, 9, 4, 8, 3, 2, 3, 4, 7, 1, 4, 9, 3, 5, 8, 5, 4,\n",
      "        9, 2, 8, 5, 9, 3, 3, 4, 9, 1, 9, 3, 5, 4, 4, 5, 8, 3, 7, 1, 2, 0, 1, 9,\n",
      "        8, 2, 7, 1, 1, 7, 5, 9, 9, 1, 8, 4, 5, 7, 1, 9, 9, 1, 3, 1, 2, 1, 7, 1,\n",
      "        1, 5, 7, 1, 5, 2, 2, 3, 3, 1, 1, 4, 9, 2, 3, 7, 7, 8, 8, 9, 9, 4, 1, 1,\n",
      "        4, 0, 3, 5, 9, 2, 0, 5])\n",
      "tensor([5, 1, 9, 7, 8, 7, 7, 3, 4, 4, 0, 2, 0, 5, 0, 2, 5, 5, 1, 2, 3, 9, 3, 7,\n",
      "        8, 4, 8, 3, 2, 5, 0, 7, 4, 8, 8, 3, 4, 4, 3, 4, 9, 3, 2, 4, 9, 1, 8, 1,\n",
      "        7, 9, 5, 2, 3, 2, 1, 0, 5, 4, 0, 0, 4, 7, 5, 0, 4, 5, 9, 2, 8, 2, 3, 4,\n",
      "        0, 2, 9, 3, 7, 7, 1, 4, 4, 0, 5, 0, 9, 9, 8, 8, 2, 3, 4, 4, 2, 2, 3, 8,\n",
      "        3, 7, 2, 9, 3, 4, 5, 7, 0, 3, 5, 5, 2, 4, 5, 9, 2, 3, 9, 5, 1, 9, 8, 8,\n",
      "        9, 9, 2, 5, 2, 2, 3, 8])\n",
      "tensor([7, 4, 4, 5, 4, 3, 4, 1, 4, 9, 3, 1, 2, 5, 0, 5, 7, 5, 2, 1, 3, 9, 4, 3,\n",
      "        2, 0, 4, 5, 0, 4, 7, 4, 0, 3, 4, 7, 0, 2, 1, 1, 4, 4, 8, 5, 9, 0, 1, 4,\n",
      "        5, 1, 4, 4, 8, 4, 7, 5, 3, 8, 1, 3, 9, 8, 1, 3, 3, 7, 5, 3, 5, 7, 0, 9,\n",
      "        8, 3, 5, 8, 2, 2, 3, 8, 4, 5, 5, 2, 7, 1, 5, 3, 5, 4, 8, 2, 3, 1, 1, 7,\n",
      "        9, 2, 2, 7, 4, 4, 8, 2, 2, 3, 3, 2, 4, 9, 2, 8, 4, 7, 9, 2, 3, 9, 5, 9,\n",
      "        8, 7, 4, 4, 2, 5, 3, 7])\n",
      "tensor([0, 7, 2, 9, 3, 7, 0, 9, 3, 8, 4, 4, 5, 2, 4, 4, 4, 0, 7, 8, 4, 2, 4, 5,\n",
      "        5, 0, 4, 5, 5, 8, 1, 3, 7, 4, 0, 9, 0, 8, 7, 4, 2, 1, 2, 7, 5, 2, 9, 8,\n",
      "        5, 1, 1, 3, 2, 2, 9, 1, 1, 9, 3, 5, 5, 2, 0, 7, 0, 2, 1, 1, 3, 1, 3, 2,\n",
      "        5, 2, 4, 9, 5, 2, 9, 4, 3, 4, 4, 0, 0, 5, 2, 2, 5, 2, 1, 5, 2, 7, 4, 4,\n",
      "        8, 4, 2, 4, 0, 4, 4, 4, 2, 3, 8, 2, 0, 4, 5, 8, 8, 4, 5, 2, 2, 3, 0, 1,\n",
      "        9, 0, 9, 1, 9, 5, 5, 4])\n",
      "tensor([2, 7, 3, 8, 5, 3, 2, 3, 9, 5, 5, 5, 5, 0, 0, 0, 3, 4, 4, 4, 5, 7, 1, 3,\n",
      "        4, 0, 4, 5, 1, 4, 7, 3, 4, 8, 8, 4, 8, 9, 4, 0, 4, 5, 4, 7, 8, 5, 4, 8,\n",
      "        5, 4, 8, 8, 9, 8, 3, 3, 3, 8, 8, 2, 3, 9, 4, 4, 8, 1, 3, 4, 1, 9, 2, 1,\n",
      "        4, 4, 7, 9, 4, 0, 3, 4, 4, 2, 4, 5, 0, 2, 8, 3, 9, 4, 4, 0, 0, 7, 4, 8,\n",
      "        2, 4, 4, 0, 2, 1, 7, 7, 5, 4, 7, 5, 4, 7, 1, 3, 1, 3, 3, 5, 3, 1, 7, 5,\n",
      "        4, 7, 1, 0, 2, 5, 8, 4])\n",
      "tensor([2, 7, 9, 5, 0, 7, 9, 5, 1, 2, 9, 5, 5, 3, 9, 9, 1, 2, 7, 2, 0, 1, 7, 4,\n",
      "        7, 1, 1, 5, 5, 4, 4, 5, 9, 5, 5, 2, 3, 9, 3, 8, 5, 4, 0, 0, 0, 5, 7, 4,\n",
      "        5, 2, 3, 4, 4, 7, 8, 0, 5, 1, 5, 2, 3, 4, 8, 5, 8, 7, 1, 2, 3, 2, 9, 5,\n",
      "        5, 3, 3, 0, 7, 3, 2, 2, 9, 0, 2, 4, 4, 3, 0, 0, 2, 3, 2, 1, 3, 5, 4, 5,\n",
      "        3, 9, 1, 1, 8, 2, 9, 5, 0, 5, 4, 2, 7, 1, 1, 5, 3, 5, 7, 8, 3, 5, 9, 2,\n",
      "        2, 1, 1, 3, 5, 2, 7, 1])\n",
      "tensor([9, 9, 2, 4, 7, 0, 1, 3, 9, 5, 3, 5, 2, 8, 1, 8, 0, 7, 9, 8, 5, 8, 2, 0,\n",
      "        4, 2, 4, 5, 8, 3, 8, 7, 5, 7, 3, 7, 0, 7, 0, 4, 2, 5, 3, 5, 1, 1, 7, 7,\n",
      "        2, 3, 8, 2, 4, 8, 2, 3, 3, 4, 9, 9, 4, 5, 2, 2, 7, 8, 0, 7, 9, 1, 2, 9,\n",
      "        4, 9, 3, 4, 3, 3, 1, 8, 8, 5, 3, 8, 3, 3, 4, 3, 2, 0, 4, 7, 3, 5, 8, 3,\n",
      "        7, 7, 3, 1, 7, 5, 8, 8, 4, 3, 8, 4, 4, 5, 9, 7, 0, 2, 0, 7, 7, 3, 9, 4,\n",
      "        5, 9, 7, 3, 7, 4, 4, 5])\n",
      "tensor([1, 4, 5, 4, 5, 0, 4, 2, 1, 4, 4, 5, 4, 5, 9, 4, 1, 1, 7, 2, 4, 5, 0, 3,\n",
      "        9, 7, 5, 3, 8, 8, 8, 9, 1, 3, 2, 3, 1, 4, 3, 4, 9, 9, 0, 0, 2, 9, 4, 9,\n",
      "        0, 2, 3, 8, 9, 2, 5, 3, 8, 0, 5, 2, 3, 0, 4, 5, 5, 1, 9, 0, 4, 2, 9, 9,\n",
      "        0, 8, 3, 0, 0, 4, 0, 4, 2, 5, 0, 5, 0, 2, 7, 8, 7, 4, 0, 0, 0, 5, 2, 4,\n",
      "        2, 9, 5, 2, 4, 7, 0, 1, 7, 5, 5, 0, 7, 7, 5, 0, 5, 3, 5, 4, 9, 5, 8, 2,\n",
      "        4, 5, 3, 3, 7, 7, 7, 8])\n",
      "tensor([2, 9, 5, 7, 2, 5, 7, 5, 1, 3, 0, 4, 9, 9, 9, 3, 7, 0, 4, 2, 9, 3, 4, 1,\n",
      "        9, 7, 1, 3, 7, 2, 7, 4, 5, 7, 3, 5, 5, 5, 4, 0, 7, 3, 3, 2, 0, 4, 9, 9,\n",
      "        0, 3, 0, 8, 2, 8, 5, 2, 4, 3, 8, 2, 4, 5, 0, 1, 4, 3, 0, 0, 1, 0, 8, 4,\n",
      "        9, 0, 7, 2, 7, 7, 1, 5, 8, 7, 2, 9, 9, 1, 2, 2, 1, 1, 3, 8, 8, 1, 3, 7,\n",
      "        5, 2, 0, 8, 4, 8, 9, 2, 1, 3, 1, 9, 8, 1, 3, 1, 8, 0, 9, 5, 5, 2, 0, 4,\n",
      "        2, 1, 1, 7, 9, 2, 2, 0])\n",
      "tensor([3, 2, 4, 8, 1, 9, 2, 2, 4, 2, 3, 8, 7, 1, 8, 7, 5, 7, 7, 2, 2, 2, 9, 0,\n",
      "        4, 3, 5, 5, 0, 2, 1, 0, 3, 7, 9, 3, 7, 4, 9, 7, 9, 8, 9, 1, 4, 8, 3, 2,\n",
      "        3, 0, 0, 8, 3, 2, 3, 4, 0, 0, 8, 8, 3, 2, 9, 3, 2, 0, 8, 5, 9, 0, 3, 1,\n",
      "        1, 9, 5, 1, 3, 3, 2, 0, 8, 4, 1, 3, 8, 8, 0, 7, 5, 0, 4, 7, 3, 3, 2, 4,\n",
      "        2, 5, 5, 4, 4, 3, 9, 1, 1, 7, 3, 8, 7, 2, 2, 9, 3, 9, 9, 0, 1, 7, 1, 4,\n",
      "        8, 1, 2, 9, 3, 4, 0, 0])\n",
      "tensor([5, 2, 9, 9, 5, 5, 7, 0, 9, 3, 3, 0, 9, 8, 4, 4, 2, 1, 9, 4, 3, 4, 7, 3,\n",
      "        0, 3, 8, 1, 8, 7, 3, 4, 5, 4, 2, 9, 1, 7, 4, 9, 1, 2, 2, 2, 8, 7, 7, 5,\n",
      "        7, 2, 2, 0, 9, 5, 8, 9, 3, 0, 5, 4, 9, 2, 4, 3, 1, 9, 3, 3, 2, 2, 2, 3,\n",
      "        9, 5, 7, 4, 4, 4, 3, 2, 3, 5, 4, 5, 9, 1, 5, 9, 3, 4, 2, 4, 0, 1, 7, 7,\n",
      "        2, 4, 7, 7, 0, 0, 4, 3, 4, 7, 8, 7, 2, 8, 0, 8, 7, 4, 4, 2, 7, 0, 9, 9,\n",
      "        3, 3, 5, 9, 3, 1, 3, 3])\n",
      "tensor([3, 5, 7, 7, 9, 2, 3, 5, 9, 3, 7, 9, 3, 4, 0, 3, 5, 7, 7, 2, 3, 5, 3, 1,\n",
      "        3, 9, 2, 3, 9, 5, 5, 7, 2, 2, 9, 0, 2, 1, 9, 7, 1, 5, 0, 9, 5, 0, 3, 5,\n",
      "        0, 3, 3, 7, 4, 2, 2, 8, 5, 9, 2, 1, 3, 5, 5, 8, 5, 3, 7, 4, 4, 4, 9, 0,\n",
      "        0, 3, 9, 1, 2, 3, 1, 5, 3, 8, 5, 1, 1, 2, 9, 4, 0, 5, 2, 8, 0, 2, 9, 8,\n",
      "        2, 4, 8, 3, 8, 0, 2, 5, 0, 4, 8, 5, 4, 9, 0, 9, 5, 5, 0, 9, 1, 4, 7, 2,\n",
      "        1, 4, 0, 0, 4, 5, 2, 4])\n",
      "tensor([8, 7, 5, 2, 0, 2, 8, 3, 3, 1, 9, 2, 9, 7, 4, 0, 4, 8, 3, 4, 8, 5, 2, 8,\n",
      "        3, 3, 1, 4, 2, 0, 4, 9, 0, 2, 1, 9, 9, 8, 1, 8, 8, 3, 3, 3, 8, 5, 9, 2,\n",
      "        5, 8, 7, 3, 3, 0, 0, 3, 5, 7, 5, 0, 7, 9, 1, 5, 4, 8, 9, 3, 5, 5, 0, 4,\n",
      "        4, 7, 5, 9, 1, 5, 1, 5, 5, 3, 1, 1, 8, 8, 2, 0, 7, 0, 1, 8, 3, 3, 4, 5,\n",
      "        8, 9, 8, 8, 2, 9, 1, 8, 4, 4, 5, 7, 0, 5, 1, 3, 0, 0, 4, 2, 0, 2, 3, 7,\n",
      "        1, 2, 3, 3, 4, 4, 5, 0])\n",
      "tensor([9, 8, 3, 3, 1, 0, 4, 1, 4, 4, 4, 8, 4, 9, 0, 9, 9, 5, 3, 2, 0, 5, 0, 4,\n",
      "        9, 5, 3, 2, 1, 9, 4, 1, 0, 4, 5, 4, 1, 4, 8, 5, 9, 4, 5, 3, 4, 8, 3, 0,\n",
      "        2, 8, 9, 0, 5, 3, 2, 5, 9, 3, 2, 2, 8, 5, 9, 2, 3, 1, 3, 3, 2, 2, 7, 2,\n",
      "        1, 2, 2, 4, 3, 2, 8, 5, 0, 8, 5, 2, 7, 8, 1, 7, 9, 5, 0, 9, 0, 9, 3, 7,\n",
      "        5, 9, 9, 2, 0, 7, 1, 5, 5, 9, 5, 4, 4, 2, 2, 5, 9, 7, 4, 2, 4, 9, 9, 3,\n",
      "        4, 1, 3, 7, 1, 8, 7, 9])\n",
      "tensor([1, 8, 9, 3, 7, 9, 7, 1, 7, 3, 4, 2, 2, 3, 5, 2, 8, 9, 0, 8, 0, 0, 7, 7,\n",
      "        5, 0, 1, 9, 2, 0, 4, 5, 4, 2, 2, 9, 1, 3, 5, 8, 7, 2, 8, 2, 3, 2, 1, 7,\n",
      "        4, 8, 7, 2, 1, 7, 8, 5, 4, 4, 4, 4, 1, 8, 4, 9, 4, 9, 4, 5, 0, 3, 3, 8,\n",
      "        8, 2, 0, 7, 2, 4, 0, 4, 1, 3, 8, 1, 7, 7, 8, 4, 3, 4, 2, 7, 2, 2, 0, 3,\n",
      "        2, 5, 2, 2, 3, 2, 3, 0, 9, 7, 3, 5, 4, 9, 2, 2, 5, 0, 2, 8, 4, 0, 4, 4,\n",
      "        0, 4, 1, 2, 4, 2, 7, 1])\n",
      "tensor([0, 4, 3, 1, 1, 5, 4, 3, 8, 3, 3, 1, 5, 4, 9, 8, 8, 4, 5, 5, 4, 7, 4, 9,\n",
      "        1, 0, 5, 3, 7, 2, 1, 1, 8, 0, 2, 0, 5, 9, 0, 3, 8, 1, 0, 4, 2, 4, 4, 8,\n",
      "        3, 4, 2, 0, 9, 4, 7, 9, 5, 7, 2, 1, 5, 8, 8, 4, 2, 2, 4, 3, 1, 2, 4, 0,\n",
      "        3, 9, 8, 4, 0, 8, 4, 3, 9, 7, 1, 1, 5, 5, 1, 9, 2, 4, 2, 3, 8, 0, 7, 1,\n",
      "        3, 0, 7, 3, 5, 8, 1, 4, 2, 3, 4, 8, 8, 8, 3, 8, 1, 8, 5, 3, 0, 0, 0, 2,\n",
      "        9, 7, 3, 9, 0, 1, 2, 5])\n",
      "tensor([9, 5, 0, 5, 3, 5, 8, 5, 4, 2, 2, 8, 0, 0, 9, 3, 3, 5, 8, 1, 1, 2, 0, 0,\n",
      "        0, 8, 4, 2, 3, 3, 9, 5, 4, 2, 3, 1, 8, 1, 5, 2, 0, 0, 7, 9, 3, 2, 7, 1,\n",
      "        7, 4, 1, 2, 2, 8, 2, 7, 5, 4, 9, 3, 2, 5, 2, 8, 2, 2, 4, 5, 5, 4, 1, 1,\n",
      "        0, 3, 5, 5, 2, 4, 4, 1, 8, 5, 4, 4, 4, 4, 2, 9, 2, 1, 9, 2, 2, 0, 8, 4,\n",
      "        5, 4, 9, 8, 1, 2, 3, 2, 4, 9, 4, 3, 7, 1, 4, 4, 0, 1, 1, 0, 2, 2, 9, 9,\n",
      "        0, 1, 2, 2, 3, 7, 4, 1])\n",
      "tensor([1, 7, 7, 8, 5, 4, 5, 3, 7, 0, 0, 9, 4, 1, 4, 2, 2, 5, 8, 5, 2, 9, 8, 4,\n",
      "        0, 9, 0, 8, 1, 0, 8, 2, 8, 2, 0, 5, 3, 8, 7, 8, 2, 2, 4, 4, 0, 4, 5, 3,\n",
      "        4, 3, 1, 9, 7, 3, 4, 2, 1, 2, 2, 7, 5, 1, 8, 0, 3, 7, 9, 8, 7, 2, 7, 9,\n",
      "        7, 2, 2, 2, 0, 3, 3, 9, 1, 1, 2, 8, 0, 9, 7, 5, 4, 8, 8, 0, 4, 3, 2, 8,\n",
      "        4, 4, 5, 9, 2, 3, 8, 2, 2, 8, 3, 3, 2, 2, 3, 0, 1, 8, 4, 1, 5, 8, 1, 5,\n",
      "        8, 0, 7, 9, 5, 5, 9, 9])\n",
      "tensor([5, 3, 0, 7, 8, 4, 5, 1, 0, 2, 3, 4, 3, 7, 7, 9, 7, 2, 5, 8, 7, 8, 5, 3,\n",
      "        5, 9, 7, 2, 0, 0, 8, 2, 0, 7, 4, 7, 2, 5, 2, 7, 0, 3, 4, 0, 2, 9, 8, 1,\n",
      "        3, 8, 1, 5, 3, 4, 1, 1, 4, 0, 9, 8, 2, 8, 2, 7, 7, 1, 3, 0, 3, 0, 7, 8,\n",
      "        7, 4, 5, 2, 4, 7, 5, 9, 8, 9, 7, 3, 2, 4, 8, 3, 9, 5, 7, 4, 2, 2, 7, 3,\n",
      "        8, 5, 1, 8, 9, 4, 4, 1, 2, 2, 7, 2, 0, 2, 4, 8, 9, 7, 9, 8, 5, 8, 4, 0,\n",
      "        0, 2, 3, 3, 1, 5, 2, 7])\n",
      "tensor([5, 3, 9, 2, 2, 3, 5, 1, 1, 2, 7, 3, 8, 8, 7, 5, 9, 9, 5, 5, 3, 0, 7, 1,\n",
      "        2, 2, 0, 9, 9, 1, 0, 8, 0, 5, 5, 8, 8, 4, 9, 3, 4, 4, 8, 1, 0, 4, 2, 0,\n",
      "        7, 5, 8, 9, 5, 8, 5, 3, 5, 4, 2, 2, 0, 3, 4, 2, 0, 3, 9, 4, 5, 5, 3, 1,\n",
      "        2, 5, 9, 0, 5, 2, 2, 5, 0, 4, 2, 3, 4, 7, 2, 7, 2, 3, 2, 5, 1, 2, 3, 4,\n",
      "        2, 4, 3, 9, 9, 2, 8, 0, 4, 0, 0, 1, 9, 3, 9, 8, 8, 4, 9, 4, 7, 9, 1, 5,\n",
      "        8, 1, 3, 0, 2, 4, 8, 3])\n",
      "tensor([3, 3, 0, 0, 1, 3, 3, 1, 4, 5, 4, 7, 3, 0, 2, 5, 8, 8, 8, 2, 1, 8, 8, 9,\n",
      "        2, 5, 8, 7, 0, 7, 2, 7, 3, 5, 5, 8, 3, 4, 8, 5, 9, 9, 2, 0, 4, 7, 1, 7,\n",
      "        8, 8, 5, 2, 0, 9, 7, 9, 4, 9, 4, 1, 4, 7, 2, 5, 2, 2, 5, 9, 0, 7, 1, 9,\n",
      "        7, 2, 5, 3, 8, 4, 9, 3, 9, 5, 5, 5, 1, 3, 3, 4, 0, 7, 7, 3, 5, 9, 8, 7,\n",
      "        7, 4, 4, 5, 5, 3, 4, 8, 3, 0, 9, 2, 3, 2, 5, 9, 4, 5, 9, 1, 4, 8, 1, 4,\n",
      "        7, 8, 4, 5, 7, 4, 3, 8])\n",
      "tensor([2, 4, 2, 3, 0, 5, 2, 2, 2, 8, 5, 0, 9, 4, 4, 2, 8, 3, 5, 1, 0, 9, 1, 8,\n",
      "        9, 3, 7, 4, 2, 0, 2, 9, 3, 3, 5, 4, 5, 1, 7, 9, 4, 3, 5, 3, 0, 2, 8, 1,\n",
      "        0, 9, 9, 7, 8, 2, 3, 9, 7, 7, 5, 8, 2, 7, 5, 3, 5, 5, 3, 8, 9, 7, 4, 1,\n",
      "        4, 5, 1, 3, 4, 3, 4, 8, 9, 4, 7, 7, 3, 5, 0, 8, 8, 2, 8, 5, 4, 3, 7, 3,\n",
      "        0, 0, 4, 5, 2, 0, 7, 7, 7, 1, 5, 2, 1, 8, 5, 2, 2, 8, 7, 7, 2, 7, 1, 0,\n",
      "        9, 5, 3, 9, 3, 5, 0, 7])\n",
      "tensor([4, 2, 0, 1, 2, 5, 9, 3, 2, 8, 5, 7, 3, 1, 4, 0, 8, 1, 8, 5, 3, 9, 3, 3,\n",
      "        8, 8, 4, 2, 0, 3, 4, 4, 3, 2, 5, 9, 1, 1, 9, 4, 7, 0, 3, 2, 0, 0, 9, 7,\n",
      "        0, 7, 8, 0, 5, 2, 4, 3, 8, 9, 7, 4, 9, 5, 3, 7, 2, 4, 1, 9, 5, 8, 1, 3,\n",
      "        9, 3, 4, 9, 8, 4, 5, 8, 9, 9, 9, 7, 0, 4, 2, 4, 4, 2, 5, 5, 3, 9, 2, 8,\n",
      "        5, 0, 0, 4, 3, 9, 3, 3, 5, 3, 5, 5, 9, 5, 8, 5, 5, 9, 5, 1, 0, 9, 3, 5,\n",
      "        4, 2, 0, 9, 2, 8, 1, 9])\n",
      "tensor([2, 2, 4, 4, 8, 8, 7, 7, 3, 9, 3, 9, 3, 8, 4, 2, 9, 0, 3, 2, 7, 5, 0, 4,\n",
      "        4, 4, 1, 3, 1, 8, 7, 8, 8, 7, 7, 5, 9, 5, 3, 4, 0, 4, 2, 3, 2, 8, 8, 8,\n",
      "        0, 2, 3, 4, 8, 2, 1, 4, 1, 1, 2, 3, 2, 2, 8, 0, 0, 5, 1, 3, 2, 7, 0, 2,\n",
      "        7, 9, 9, 5, 7, 0, 9, 9, 8, 4, 8, 3, 4, 0, 9, 4, 2, 4, 3, 8, 2, 0, 4, 9,\n",
      "        8, 4, 7, 3, 7, 8, 8, 2, 4, 5, 8, 3, 2, 7, 7, 9, 8, 5, 2, 0, 3, 1, 3, 3,\n",
      "        9, 3, 9, 5, 1, 5, 9, 3])\n",
      "tensor([1, 7, 0, 1, 0, 5, 3, 8, 8, 2, 1, 7, 3, 5, 0, 4, 1, 7, 1, 7, 9, 4, 3, 9,\n",
      "        2, 4, 9, 3, 5, 8, 8, 4, 4, 5, 5, 4, 4, 0, 5, 5, 3, 2, 2, 5, 4, 8, 5, 5,\n",
      "        9, 1, 3, 1, 4, 5, 9, 3, 9, 0, 3, 5, 2, 1, 5, 8, 5, 4, 0, 9, 1, 9, 1, 7,\n",
      "        1, 8, 0, 3, 4, 0, 2, 8, 3, 3, 8, 8, 3, 3, 4, 8, 1, 4, 3, 3, 4, 4, 1, 8,\n",
      "        3, 4, 2, 4, 3, 2, 3, 7, 2, 3, 0, 4, 5, 5, 1, 4, 1, 2, 8, 2, 8, 5, 1, 2,\n",
      "        5, 4, 8, 1, 7, 1, 2, 2])\n",
      "tensor([9, 4, 2, 1, 5, 2, 3, 5, 8, 5, 7, 5, 2, 5, 5, 3, 8, 2, 0, 4, 4, 9, 9, 5,\n",
      "        8, 0, 4, 4, 1, 3, 7, 3, 0, 0, 9, 8, 5, 0, 0, 7, 1, 9, 5, 8, 4, 0, 9, 9,\n",
      "        1, 2, 2, 3, 2, 4, 7, 1, 0, 2, 8, 3, 4, 8, 3, 4, 0, 0, 3, 0, 7, 4, 4, 1,\n",
      "        7, 3, 0, 7, 9, 9, 1, 5, 8, 9, 1, 4, 3, 1, 4, 8, 2, 5, 9, 8, 0, 2, 2, 7,\n",
      "        4, 9, 5, 0, 8, 7, 8, 2, 4, 5, 2, 5, 5, 9, 9, 4, 2, 4, 3, 0, 2, 8, 7, 3,\n",
      "        2, 7, 5, 2, 9, 0, 3, 4])\n",
      "tensor([4, 8, 4, 0, 4, 9, 0, 5, 2, 0, 2, 8, 0, 0, 4, 0, 4, 5, 5, 8, 0, 7, 0, 8,\n",
      "        9, 0, 2, 1, 2, 5, 1, 3, 4, 9, 2, 4, 9, 9, 1, 3, 3, 1, 2, 8, 0, 3, 3, 2,\n",
      "        2, 3, 4, 1, 8, 7, 2, 3, 2, 0, 8, 5, 4, 0, 1, 0, 4, 4, 2, 7, 9, 4, 4, 3,\n",
      "        3, 0, 8, 5, 4, 4, 0, 3, 3, 5, 2, 5, 1, 5, 5, 1, 9, 5, 2, 3, 8, 8, 0, 9,\n",
      "        0, 0, 3, 3, 1, 1, 8, 3, 4, 2, 1, 2, 0, 3, 0, 8, 5, 1, 5, 0, 2, 0, 3, 9,\n",
      "        8, 2, 4, 1, 0, 2, 2, 2])\n",
      "tensor([0, 3, 9, 5, 0, 2, 2, 0, 8, 2, 8, 1, 8, 2, 8, 2, 9, 2, 4, 8, 5, 2, 7, 3,\n",
      "        2, 2, 0, 2, 4, 8, 5, 4, 1, 5, 2, 8, 2, 9, 3, 0, 3, 4, 4, 2, 7, 7, 9, 0,\n",
      "        4, 9, 2, 3, 5, 8, 7, 9, 0, 7, 5, 0, 7, 7, 5, 9, 7, 4, 2, 5, 3, 8, 0, 1,\n",
      "        9, 8, 3, 2, 4, 8, 3, 8, 0, 7, 4, 3, 3, 8, 1, 3, 8, 7, 3, 3, 3, 4, 8, 8,\n",
      "        9, 1, 3, 2, 1, 4, 8, 3, 2, 2, 7, 3, 9, 4, 9, 0, 2, 2, 5, 7, 0, 8, 1, 7,\n",
      "        5, 4, 9, 5, 7, 3, 2, 0])\n",
      "tensor([9, 8, 9, 3, 7, 7, 4, 7, 5, 8, 5, 2, 4, 4, 2, 3, 8, 9, 7, 1, 3, 4, 2, 9,\n",
      "        7, 1, 2, 2, 0, 0, 5, 5, 4, 5, 2, 8, 9, 4, 5, 9, 2, 4, 8, 1, 5, 5, 5, 4,\n",
      "        8, 1, 5, 5, 7, 7, 9, 8, 3, 1, 1, 4, 2, 0, 9, 3, 2, 4, 4, 8, 5, 5, 4, 9,\n",
      "        0, 2, 8, 4, 8, 2, 3, 4, 1, 2, 3, 3, 8, 4, 9, 9, 0, 7, 9, 5, 3, 1, 7, 2,\n",
      "        8, 4, 9, 3, 1, 0, 0, 5, 8, 1, 9, 3, 0, 8, 3, 8, 4, 4, 5, 2, 9, 0, 1, 4,\n",
      "        0, 5, 9, 0, 1, 3, 9, 5])\n",
      "tensor([1, 2, 1, 1, 3, 8, 0, 9, 5, 4, 4, 3, 7, 7, 7, 2, 3, 5, 3, 9, 4, 2, 0, 7,\n",
      "        2, 0, 9, 9, 0, 3, 4, 9, 0, 4, 0, 2, 7, 9, 2, 1, 1, 2, 0, 8, 8, 7, 4, 2,\n",
      "        7, 5, 7, 4, 1, 8, 1, 4, 9, 8, 9, 3, 1, 0, 2, 0, 3, 0, 2, 4, 1, 5, 7, 1,\n",
      "        2, 2, 5, 3, 4, 1, 7, 2, 7, 0, 4, 8, 8, 1, 2, 9, 9, 0, 3, 4, 9, 3, 9, 8,\n",
      "        5, 3, 8, 4, 7, 1, 4, 1, 9, 4, 8, 3, 2, 4, 8, 1, 1, 5, 8, 2, 1, 2, 2, 9,\n",
      "        0, 9, 5, 3, 5, 0, 2, 5])\n",
      "tensor([2, 8, 3, 8, 0, 2, 9, 5, 1, 5, 3, 2, 2, 5, 3, 0, 3, 0, 7, 4, 0, 2, 1, 9,\n",
      "        5, 1, 7, 5, 5, 5, 9, 4, 8, 4, 2, 0, 4, 4, 4, 1, 1, 4, 2, 8, 4, 9, 0, 5,\n",
      "        8, 1, 3, 8, 3, 2, 3, 8, 3, 5, 9, 3, 2, 9, 7, 4, 2, 2, 2, 8, 9, 8, 1, 4,\n",
      "        7, 9, 9, 9, 3, 4, 9, 4, 7, 3, 3, 2, 0, 5, 4, 3, 3, 1, 9, 5, 8, 2, 3, 5,\n",
      "        3, 0, 4, 5, 5, 3, 5, 3, 7, 7, 5, 0, 9, 5, 1, 2, 4, 5, 3, 5, 0, 1, 3, 0,\n",
      "        5, 4, 8, 5, 7, 3, 2, 8])\n",
      "tensor([3, 5, 4, 4, 9, 8, 9, 5, 8, 1, 9, 5, 0, 1, 5, 3, 3, 3, 4, 4, 2, 3, 3, 7,\n",
      "        8, 0, 9, 8, 3, 0, 4, 4, 7, 3, 5, 7, 3, 7, 8, 4, 5, 4, 4, 3, 1, 0, 5, 5,\n",
      "        2, 4, 4, 1, 1, 4, 7, 2, 3, 5, 5, 0, 4, 4, 4, 8, 7, 9, 2, 0, 9, 5, 3, 5,\n",
      "        3, 1, 4, 5, 0, 1, 8, 1, 8, 4, 3, 7, 8, 9, 2, 4, 3, 3, 2, 2, 4, 7, 9, 1,\n",
      "        9, 7, 4, 5, 2, 3, 2, 4, 5, 2, 3, 5, 8, 0, 4, 2, 9, 4, 9, 5, 4, 0, 2, 7,\n",
      "        7, 5, 9, 5, 7, 3, 5, 5])\n",
      "tensor([5, 9, 9, 8, 2, 1, 0, 8, 3, 2, 2, 7, 9, 2, 4, 5, 4, 3, 4, 1, 1, 9, 0, 5,\n",
      "        5, 4, 9, 8, 9, 3, 7, 4, 0, 0, 5, 7, 8, 4, 8, 8, 7, 4, 9, 3, 9, 4, 9, 5,\n",
      "        3, 9, 9, 3, 3, 3, 2, 8, 9, 9, 2, 0, 4, 4, 3, 0, 3, 8, 4, 8, 2, 4, 2, 3,\n",
      "        7, 9, 7, 8, 5, 2, 3, 2, 1, 8, 3, 2, 7, 4, 2, 3, 0, 8, 3, 3, 4, 9, 0, 9,\n",
      "        9, 0, 1, 8, 3, 0, 3, 8, 4, 8, 5, 1, 3, 3, 1, 9, 3, 5, 0, 4, 4, 0, 1, 5,\n",
      "        3, 2, 8, 5, 7, 8, 0, 1])\n",
      "tensor([0, 0, 4, 2, 5, 9, 3, 7, 2, 3, 8, 4, 4, 3, 3, 9, 4, 9, 0, 8, 3, 5, 3, 1,\n",
      "        0, 1, 3, 9, 4, 2, 5, 5, 5, 3, 4, 5, 0, 0, 8, 0, 0, 9, 1, 3, 3, 2, 5, 7,\n",
      "        4, 3, 1, 4, 9, 9, 4, 2, 7, 5, 7, 1, 4, 8, 5, 9, 5, 7, 0, 2, 9, 4, 5, 0,\n",
      "        7, 8, 4, 5, 2, 5, 3, 3, 4, 5, 9, 2, 5, 7, 7, 3, 8, 3, 9, 4, 5, 3, 0, 7,\n",
      "        0, 9, 5, 3, 3, 2, 5, 3, 4, 4, 5, 3, 2, 9, 9, 1, 2, 5, 2, 8, 3, 8, 7, 9,\n",
      "        9, 3, 5, 8, 9, 0, 7, 0])\n",
      "tensor([4, 2, 8, 8, 4, 2, 0, 1, 4, 3, 2, 1, 5, 4, 2, 3, 3, 3, 4, 5, 4, 8, 5, 2,\n",
      "        3, 3, 1, 8, 4, 8, 9, 9, 5, 5, 8, 2, 9, 3, 4, 4, 5, 4, 9, 2, 7, 1, 0, 2,\n",
      "        4, 0, 9, 8, 3, 2, 9, 1, 9, 4, 5, 3, 5, 4, 3, 4, 2, 1, 0, 2, 1, 0, 7, 8,\n",
      "        4, 5, 5, 9, 0, 4, 3, 4, 5, 7, 7, 7, 2, 1, 3, 3, 7, 0, 5, 7, 0, 8, 3, 5,\n",
      "        5, 8, 1, 9, 4, 0, 4, 2, 1, 2, 0, 1, 2, 9, 3, 8, 1, 1, 7, 5, 2, 5, 9, 0,\n",
      "        8, 3, 4, 4, 4, 7, 0, 7])\n",
      "tensor([3, 3, 2, 1, 7, 1, 4, 2, 3, 3, 0, 0, 2, 4, 8, 7, 0, 3, 0, 3, 7, 3, 3, 2,\n",
      "        0, 2, 4, 4, 1, 8, 4, 9, 1, 2, 2, 4, 4, 3, 3, 3, 5, 3, 5, 8, 3, 9, 7, 3,\n",
      "        0, 5, 1, 0, 1, 0, 7, 7, 2, 8, 9, 3, 1, 5, 4, 9, 4, 5, 9, 9, 9, 3, 1, 0,\n",
      "        9, 9, 5, 1, 7, 2, 9, 3, 5, 2, 8, 1, 7, 3, 3, 8, 4, 7, 8, 8, 9, 4, 8, 4,\n",
      "        5, 8, 4, 5, 9, 0, 0, 5, 3, 7, 7, 4, 2, 7, 4, 5, 8, 3, 7, 4, 7, 3, 8, 8,\n",
      "        8, 7, 8, 2, 0, 5, 7, 9])\n",
      "tensor([8, 5, 2, 0, 2, 1, 2, 2, 0, 9, 9, 1, 9, 5, 8, 4, 4, 8, 4, 2, 7, 2, 8, 3,\n",
      "        0, 7, 8, 8, 3, 5, 9, 5, 9, 2, 4, 9, 7, 5, 7, 4, 9, 9, 2, 3, 9, 5, 3, 5,\n",
      "        3, 1, 2, 9, 1, 2, 8, 5, 1, 7, 9, 0, 3, 3, 3, 9, 3, 4, 3, 0, 0, 2, 9, 7,\n",
      "        1, 9, 4, 5, 4, 8, 5, 9, 5, 2, 4, 4, 5, 4, 2, 5, 4, 2, 7, 1, 2, 0, 4, 5,\n",
      "        5, 2, 4, 2, 5, 5, 5, 1, 7, 4, 4, 4, 4, 4, 1, 9, 3, 7, 2, 7, 4, 2, 9, 7,\n",
      "        4, 2, 3, 1, 7, 1, 4, 7])\n",
      "tensor([0, 3, 7, 3, 0, 3, 8, 5, 5, 0, 4, 1, 7, 7, 0, 4, 9, 2, 3, 7, 1, 5, 5, 2,\n",
      "        9, 8, 2, 4, 0, 3, 3, 2, 2, 8, 3, 0, 8, 1, 8, 3, 0, 1, 2, 7, 3, 7, 7, 3,\n",
      "        3, 9, 9, 0, 2, 2, 5, 8, 9, 3, 3, 7, 4, 1, 0, 9, 4, 3, 2, 0, 1, 8, 1, 4,\n",
      "        4, 0, 2, 1, 7, 0, 5, 3, 5, 3, 0, 2, 1, 2, 0, 7, 2, 2, 2, 3, 4, 3, 5, 2,\n",
      "        9, 3, 8, 0, 3, 2, 3, 1, 7, 5, 2, 3, 3, 2, 0, 3, 5, 4, 4, 2, 5, 1, 4, 2,\n",
      "        2, 1, 9, 4, 5, 5, 9, 5])\n",
      "tensor([8, 0, 0, 3, 2, 0, 8, 1, 2, 3, 3, 1, 5, 5, 3, 2, 2, 7, 1, 3, 2, 3, 3, 3,\n",
      "        2, 4, 8, 0, 8, 4, 7, 0, 3, 4, 3, 8, 3, 4, 1, 2, 0, 3, 0, 7, 7, 8, 3, 2,\n",
      "        9, 5, 4, 0, 9, 9, 4, 3, 8, 7, 3, 2, 3, 7, 9, 0, 2, 5, 1, 0, 5, 2, 3, 9,\n",
      "        5, 9, 4, 0, 7, 1, 2, 0, 8, 2, 2, 2, 5, 8, 2, 2, 4, 4, 9, 7, 3, 4, 5, 4,\n",
      "        5, 1, 9, 5, 0, 5, 2, 4, 1, 9, 9, 3, 3, 3, 4, 9, 1, 3, 3, 9, 5, 4, 8, 2,\n",
      "        4, 1, 4, 0, 0, 7, 9, 0])\n",
      "tensor([3, 3, 2, 3, 0, 9, 8, 1, 3, 7, 3, 9, 9, 5, 2, 2, 3, 2, 8, 8, 5, 5, 1, 8,\n",
      "        8, 5, 7, 9, 9, 3, 4, 2, 2, 7, 9, 4, 2, 7, 5, 4, 7, 4, 1, 4, 4, 2, 0, 9,\n",
      "        0, 0, 5, 1, 1, 7, 8, 3, 2, 2, 2, 0, 0, 4, 9, 5, 2, 2, 4, 4, 0, 1, 5, 2,\n",
      "        7, 8, 5, 7, 7, 0, 8, 4, 0, 4, 9, 1, 4, 1, 7, 4, 3, 2, 9, 9, 2, 4, 4, 3,\n",
      "        3, 5, 7, 5, 2, 7, 8, 9, 9, 2, 7, 8, 7, 7, 5, 8, 7, 4, 4, 9, 0, 1, 8, 7,\n",
      "        5, 2, 5, 3, 7, 1, 2, 5])\n",
      "tensor([5, 4, 9, 9, 1, 9, 5, 9, 4, 4, 1, 9, 8, 3, 5, 1, 8, 2, 5, 5, 2, 3, 7, 1,\n",
      "        1, 1, 8, 7, 5, 4, 3, 4, 7, 0, 0, 5, 3, 4, 8, 2, 7, 2, 7, 3, 2, 3, 4, 7,\n",
      "        8, 0, 7, 0, 9, 5, 8, 0, 7, 3, 9, 0, 9, 7, 3, 0, 0, 5, 7, 8, 4, 3, 1, 9,\n",
      "        0, 2, 9, 1, 3, 2, 2, 3, 4, 2, 2, 3, 8, 2, 2, 9, 7, 3, 1, 8, 4, 4, 1, 4,\n",
      "        2, 9, 1, 3, 7, 9, 8, 3, 5, 4, 5, 9, 8, 5, 3, 0, 1, 2, 4, 4, 1, 9, 4, 3,\n",
      "        0, 5, 7, 4, 3, 2, 0, 4])\n",
      "tensor([4, 9, 9, 7, 0, 1, 2, 2, 0, 4, 2, 2, 5, 9, 2, 8, 2, 2, 1, 5, 9, 2, 1, 8,\n",
      "        9, 3, 1, 7, 1, 3, 3, 9, 1, 3, 8, 9, 9, 1, 9, 2, 0, 5, 8, 5, 5, 9, 3, 8,\n",
      "        9, 3, 7, 8, 2, 9, 2, 0, 1, 5, 0, 7, 5, 0, 0, 9, 1, 1, 8, 4, 8, 9, 4, 0,\n",
      "        7, 2, 3, 0, 5, 1, 2, 8, 2, 3, 7, 5, 0, 9, 7, 5, 1, 3, 9, 2, 4, 0, 3, 7,\n",
      "        7, 1, 1, 9, 5, 3, 5, 4, 2, 4, 1, 5, 2, 1, 0, 2, 5, 9, 9, 2, 4, 4, 1, 7,\n",
      "        5, 0, 5, 7, 3, 3, 5, 2])\n",
      "tensor([1, 8, 2, 5, 4, 4, 8, 9, 4, 9, 3, 4, 4, 1, 1, 3, 4, 1, 4, 9, 8, 5, 9, 1,\n",
      "        7, 3, 9, 4, 4, 1, 7, 2, 9, 8, 8, 9, 8, 5, 3, 8, 2, 0, 3, 4, 1, 1, 9, 5,\n",
      "        9, 7, 5, 3, 2, 5, 5, 5, 4, 2, 9, 9, 3, 0, 2, 4, 1, 9, 4, 9, 2, 2, 5, 8,\n",
      "        2, 0, 1, 3, 2, 2, 3, 3, 4, 0, 2, 8, 3, 2, 4, 3, 1, 4, 3, 5, 4, 4, 3, 9,\n",
      "        2, 2, 4, 4, 5, 2, 2, 7, 0, 7, 3, 3, 2, 9, 3, 8, 5, 2, 0, 3, 4, 7, 2, 5,\n",
      "        3, 1, 1, 9, 7, 5, 2, 2])\n",
      "tensor([1, 2, 4, 5, 9, 2, 5, 5, 3, 1, 0, 9, 4, 4, 8, 0, 4, 4, 9, 2, 3, 0, 3, 2,\n",
      "        0, 4, 1, 3, 9, 2, 4, 4, 2, 3, 2, 3, 0, 8, 3, 5, 1, 4, 5, 8, 2, 3, 2, 1,\n",
      "        1, 9, 0, 7, 9, 0, 8, 0, 3, 2, 3, 2, 3, 7, 5, 2, 1, 1, 2, 0, 5, 5, 0, 1,\n",
      "        0, 5, 2, 8, 9, 7, 9, 1, 1, 3, 3, 5, 0, 7, 9, 9, 4, 9, 3, 4, 2, 2, 8, 5,\n",
      "        2, 5, 9, 8, 3, 8, 1, 3, 3, 3, 5, 4, 5, 2, 4, 9, 2, 7, 1, 5, 8, 3, 7, 7,\n",
      "        0, 7, 9, 2, 7, 7, 0, 1])\n",
      "tensor([4, 1, 2, 3, 4, 4, 7, 2, 7, 1, 5, 7, 5, 1, 3, 1, 0, 3, 4, 5, 3, 8, 2, 3,\n",
      "        4, 9, 3, 1, 5, 3, 0, 7, 0, 2, 2, 5, 1, 4, 2, 4, 8, 3, 9, 8, 5, 9, 2, 5,\n",
      "        2, 5, 1, 9, 4, 1, 8, 7, 1, 8, 1, 2, 0, 9, 2, 4, 4, 4, 4, 1, 3, 5, 4, 9,\n",
      "        7, 5, 3, 7, 5, 5, 2, 4, 8, 0, 7, 0, 8, 8, 2, 1, 7, 7, 7, 2, 8, 0, 3, 0,\n",
      "        9, 8, 5, 0, 4, 8, 1, 5, 7, 5, 0, 1, 2, 1, 3, 2, 2, 4, 2, 1, 7, 4, 4, 2,\n",
      "        2, 1, 8, 2, 2, 2, 3, 0])\n",
      "tensor([8, 8, 4, 4, 2, 0, 7, 0, 8, 9, 1, 4, 4, 7, 0, 8, 1, 8, 2, 4, 4, 9, 5, 7,\n",
      "        9, 5, 3, 9, 4, 4, 0, 2, 1, 4, 8, 4, 4, 7, 8, 2, 2, 9, 1, 8, 0, 0, 4, 2,\n",
      "        0, 3, 4, 5, 1, 3, 2, 3, 4, 1, 7, 8, 1, 0, 7, 5, 5, 0, 8, 2, 8, 9, 8, 7,\n",
      "        8, 4, 5, 9, 7, 5, 1, 2, 4, 7, 4, 9, 7, 8, 0, 7, 4, 4, 3, 2, 8, 4, 5, 1,\n",
      "        8, 2, 1, 2, 2, 9, 8, 9, 0, 2, 7, 9, 3, 5, 5, 8, 4, 3, 9, 5, 9, 3, 0, 8,\n",
      "        4, 3, 0, 3, 5, 8, 0, 0])\n",
      "tensor([1, 8, 2, 9, 0, 0, 5, 4, 3, 2, 9, 2, 8, 8, 2, 0, 3, 8, 5, 1, 4, 7, 2, 3,\n",
      "        9, 1, 3, 5, 4, 3, 9, 9, 8, 4, 8, 5, 1, 1, 8, 8, 3, 5, 7, 7, 2, 9, 4, 3,\n",
      "        9, 3, 8, 9, 0, 2, 1, 4, 5, 9, 0, 4, 3, 9, 5, 7, 4, 2, 5, 8, 3, 1, 3, 7,\n",
      "        4, 9, 4, 3, 9, 9, 2, 0, 8, 0, 9, 1, 9, 9, 0, 7, 1, 4, 5, 0, 3, 8, 7, 4,\n",
      "        5, 5, 9, 3, 2, 0, 0, 9, 0, 5, 0, 1, 3, 5, 9, 1, 5, 9, 3, 0, 9, 7, 2, 9,\n",
      "        1, 1, 2, 7, 5, 1, 0, 5])\n",
      "tensor([3, 4, 7, 5, 4, 2, 8, 5, 9, 9, 5, 7, 4, 3, 3, 7, 3, 2, 1, 5, 2, 9, 9, 2,\n",
      "        0, 2, 5, 8, 0, 5, 7, 3, 4, 0, 2, 8, 2, 0, 4, 9, 5, 9, 2, 5, 0, 4, 0, 2,\n",
      "        4, 3, 1, 8, 7, 4, 3, 9, 1, 2, 2, 5, 2, 3, 2, 0, 4, 4, 3, 7, 4, 1, 8, 2,\n",
      "        8, 7, 9, 4, 1, 2, 5, 7, 7, 3, 2, 5, 9, 3, 2, 5, 3, 2, 3, 9, 2, 7, 3, 9,\n",
      "        1, 2, 3, 9, 7, 2, 3, 3, 8, 1, 8, 3, 9, 0, 9, 3, 8, 5, 7, 2, 9, 0, 0, 8,\n",
      "        3, 2, 3, 3, 4, 3, 7, 8])\n",
      "tensor([7, 1, 3, 9, 4, 9, 5, 5, 4, 4, 4, 5, 0, 8, 3, 0, 4, 0, 8, 8, 9, 4, 9, 1,\n",
      "        5, 1, 2, 1, 3, 2, 5, 2, 4, 5, 7, 5, 9, 2, 0, 5, 7, 0, 5, 4, 5, 3, 3, 4,\n",
      "        0, 5, 1, 5, 4, 9, 2, 3, 7, 3, 4, 4, 0, 7, 4, 8, 5, 5, 8, 5, 5, 1, 8, 7,\n",
      "        9, 7, 7, 4, 5, 2, 2, 1, 2, 2, 4, 1, 8, 0, 9, 1, 8, 2, 2, 7, 4, 9, 5, 9,\n",
      "        4, 3, 9, 5, 0, 4, 2, 7, 3, 9, 3, 0, 5, 9, 3, 9, 4, 0, 5, 5, 9, 1, 4, 5,\n",
      "        4, 0, 2, 3, 1, 1, 1, 5])\n",
      "tensor([4, 2, 5, 5, 9, 8, 7, 7, 3, 4, 7, 9, 2, 0, 1, 1, 1, 4, 8, 0, 8, 0, 5, 5,\n",
      "        2, 7, 0, 8, 2, 4, 4, 4, 2, 2, 5, 7, 4, 9, 7, 2, 2, 2, 0, 7, 4, 5, 2, 3,\n",
      "        4, 1, 9, 8, 1, 8, 4, 2, 3, 9, 1, 9, 5, 2, 9, 2, 9, 3, 0, 4, 2, 3, 4, 4,\n",
      "        0, 9, 2, 1, 1, 0, 5, 0, 7, 0, 4, 1, 1, 7, 0, 0, 1, 9, 4, 7, 3, 5, 4, 1,\n",
      "        2, 0, 8, 0, 3, 0, 2, 3, 5, 9, 5, 8, 9, 3, 3, 7, 8, 9, 4, 1, 1, 9, 0, 7,\n",
      "        0, 0, 9, 3, 0, 2, 9, 2])\n",
      "tensor([8, 5, 5, 9, 3, 3, 5, 7, 1, 2, 3, 3, 5, 4, 0, 4, 1, 1, 9, 1, 4, 8, 3, 2,\n",
      "        2, 2, 4, 0, 4, 5, 0, 3, 0, 5, 1, 1, 5, 2, 5, 3, 5, 1, 2, 2, 3, 1, 4, 9,\n",
      "        5, 2, 3, 8, 5, 4, 4, 5, 1, 5, 7, 7, 4, 2, 2, 7, 9, 4, 1, 5, 7, 7, 8, 4,\n",
      "        8, 3, 9, 2, 0, 2, 9, 9, 0, 2, 7, 3, 1, 0, 8, 2, 2, 4, 4, 7, 1, 8, 4, 3,\n",
      "        3, 4, 0, 2, 9, 8, 0, 3, 8, 3, 9, 2, 1, 5, 2, 5, 0, 0, 4, 2, 5, 9, 3, 0,\n",
      "        2, 7, 8, 9, 9, 5, 0, 0])\n",
      "tensor([4, 9, 7, 4, 9, 2, 2, 2, 4, 0, 1, 4, 3, 9, 4, 0, 3, 4, 2, 0, 9, 4, 7, 2,\n",
      "        5, 4, 3, 4, 5, 5, 0, 2, 1, 1, 8, 7, 3, 2, 3, 7, 4, 3, 8, 8, 8, 9, 0, 0,\n",
      "        9, 2, 0, 3, 0, 8, 2, 8, 8, 7, 9, 2, 7, 1, 9, 0, 3, 3, 4, 2, 3, 9, 9, 5,\n",
      "        3, 0, 4, 2, 4, 2, 2, 5, 2, 4, 9, 8, 5, 8, 3, 4, 1, 4, 8, 7, 2, 2, 0, 3,\n",
      "        5, 3, 3, 5, 2, 5, 3, 9, 1, 2, 9, 8, 9, 2, 8, 8, 5, 5, 8, 4, 4, 3, 8, 3,\n",
      "        3, 4, 9, 4, 1, 0, 5, 1])\n",
      "tensor([2, 3, 9, 2, 4, 3, 2, 7, 4, 4, 4, 3, 8, 5, 1, 8, 3, 4, 4, 5, 0, 0, 5, 8,\n",
      "        7, 4, 4, 2, 1, 9, 3, 5, 0, 9, 9, 0, 1, 3, 7, 1, 9, 2, 5, 2, 5, 9, 5, 7,\n",
      "        9, 1, 2, 8, 3, 1, 7, 8, 8, 2, 8, 0, 5, 5, 7, 1, 9, 4, 2, 1, 5, 1, 9, 0,\n",
      "        0, 0, 3, 2, 5, 3, 9, 3, 5, 4, 0, 3, 9, 5, 4, 2, 3, 8, 5, 8, 3, 0, 4, 1,\n",
      "        4, 9, 5, 8, 9, 5, 4, 4, 9, 5, 9, 1, 1, 3, 8, 4, 1, 4, 2, 9, 9, 8, 9, 7,\n",
      "        4, 4, 1, 9, 9, 1, 9, 2])\n",
      "tensor([2, 3, 7, 3, 1, 3, 0, 8, 3, 4, 3, 3, 8, 0, 7, 3, 3, 3, 8, 3, 7, 9, 8, 0,\n",
      "        3, 0, 4, 5, 7, 0, 7, 0, 5, 0, 2, 2, 3, 3, 0, 8, 4, 4, 4, 2, 4, 9, 9, 0,\n",
      "        5, 4, 3, 4, 8, 1, 9, 5, 9, 9, 0, 5, 8, 2, 7, 3, 9, 5, 2, 8, 9, 5, 8, 0,\n",
      "        0, 3, 0, 0, 3, 7, 8, 0, 1, 5, 2, 4, 1, 1, 2, 2, 2, 5, 4, 8, 9, 3, 2, 2,\n",
      "        3, 7, 2, 9, 4, 1, 4, 5, 5, 5, 9, 2, 0, 9, 7, 9, 7, 4, 1, 8, 3, 3, 8, 0,\n",
      "        8, 9, 0, 5, 7, 9, 2, 3])\n",
      "tensor([1, 3, 5, 4, 1, 5, 4, 0, 5, 8, 4, 7, 0, 1, 0, 5, 2, 2, 1, 4, 1, 8, 7, 7,\n",
      "        9, 7, 3, 8, 2, 4, 7, 4, 3, 9, 8, 3, 9, 5, 1, 3, 9, 8, 7, 2, 3, 5, 5, 2,\n",
      "        7, 2, 8, 7, 5, 4, 9, 7, 4, 3, 5, 2, 2, 8, 5, 3, 1, 9, 3, 7, 1, 0, 3, 2,\n",
      "        2, 4, 5, 9, 2, 1, 1, 7, 7, 7, 0, 1, 4, 8, 5, 2, 5, 5, 7, 8, 7, 7, 0, 2,\n",
      "        9, 3, 0, 5, 5, 4, 7, 7, 9, 7, 1, 0, 0, 8, 0, 4, 0, 2, 4, 5, 7, 0, 5, 3,\n",
      "        3, 4, 5, 0, 7, 1, 8, 7])\n",
      "tensor([1, 2, 2, 8, 4, 5, 3, 5, 4, 8, 2, 3, 9, 4, 3, 0, 0, 8, 7, 3, 3, 0, 5, 3,\n",
      "        1, 5, 0, 9, 9, 1, 3, 3, 2, 1, 2, 0, 5, 5, 2, 4, 0, 9, 2, 3, 8, 4, 8, 3,\n",
      "        7, 7, 3, 3, 9, 5, 5, 3, 0, 9, 4, 8, 0, 7, 2, 9, 5, 5, 8, 5, 4, 9, 9, 2,\n",
      "        3, 0, 3, 0, 4, 7, 4, 4, 2, 7, 2, 1, 5, 7, 9, 7, 3, 9, 8, 8, 5, 1, 9, 3,\n",
      "        0, 0, 4, 8, 0, 5, 0, 9, 8, 8, 3, 4, 3, 1, 7, 7, 1, 1, 4, 7, 0, 3, 2, 8,\n",
      "        7, 8, 7, 9, 1, 1, 3, 8])\n",
      "tensor([7, 5, 9, 1, 0, 8, 3, 4, 4, 4, 7, 1, 4, 0, 1, 5, 4, 4, 9, 2, 4, 2, 4, 8,\n",
      "        7, 9, 4, 7, 1, 4, 0, 8, 3, 3, 5, 4, 0, 8, 3, 3, 4, 0, 1, 8, 2, 3, 2, 7,\n",
      "        5, 4, 3, 5, 2, 1, 0, 4, 4, 5, 8, 0, 7, 3, 2, 2, 7, 8, 2, 3, 2, 4, 4, 0,\n",
      "        3, 4, 5, 1, 7, 3, 4, 5, 7, 9, 9, 9, 9, 2, 0, 9, 4, 0, 5, 5, 5, 0, 5, 2,\n",
      "        0, 0, 0, 4, 9, 9, 2, 3, 5, 4, 0, 1, 0, 8, 9, 5, 7, 3, 3, 4, 4, 1, 2, 8,\n",
      "        1, 8, 4, 2, 2, 9, 8, 5])\n",
      "tensor([1, 4, 4, 0, 9, 8, 8, 8, 0, 7, 3, 4, 9, 8, 9, 9, 4, 9, 4, 3, 3, 4, 9, 0,\n",
      "        8, 0, 4, 2, 3, 0, 0, 0, 3, 3, 5, 9, 4, 7, 1, 5, 4, 1, 4, 1, 7, 9, 4, 0,\n",
      "        4, 5, 4, 9, 4, 9, 8, 8, 7, 2, 2, 3, 9, 3, 2, 7, 0, 2, 5, 0, 4, 1, 0, 5,\n",
      "        7, 3, 5, 9, 5, 3, 4, 8, 5, 8, 1, 5, 2, 7, 0, 7, 3, 0, 2, 5, 8, 8, 8, 8,\n",
      "        7, 4, 0, 5, 1, 5, 9, 2, 3, 9, 5, 8, 5, 7, 3, 9, 8, 3, 4, 5, 5, 7, 5, 1,\n",
      "        1, 5, 4, 1, 8, 5, 8, 4])\n",
      "tensor([9, 2, 3, 3, 4, 0, 2, 2, 1, 1, 4, 7, 2, 7, 0, 2, 8, 8, 8, 5, 7, 9, 4, 2,\n",
      "        0, 2, 3, 4, 0, 2, 5, 8, 2, 4, 2, 2, 1, 5, 5, 4, 4, 0, 5, 4, 7, 0, 3, 4,\n",
      "        5, 5, 7, 5, 7, 0, 1, 1, 9, 7, 5, 0, 1, 9, 4, 3, 2, 5, 4, 0, 4, 5, 7, 2,\n",
      "        2, 2, 3, 5, 2, 4, 3, 7, 8, 3, 2, 2, 1, 3, 5, 5, 4, 5, 4, 4, 8, 5, 8, 2,\n",
      "        4, 1, 4, 3, 7, 2, 9, 0, 4, 5, 2, 3, 4, 9, 5, 5, 9, 4, 3, 4, 1, 1, 8, 9,\n",
      "        4, 4, 5, 3, 3, 3, 7, 1])\n",
      "tensor([8, 8, 5, 3, 3, 7, 7, 1, 0, 1, 4, 1, 9, 0, 4, 1, 1, 0, 9, 3, 7, 4, 9, 0,\n",
      "        1, 8, 9, 0, 0, 4, 0, 9, 1, 3, 1, 2, 7, 8, 0, 5, 3, 8, 2, 5, 5, 3, 5, 9,\n",
      "        1, 8, 5, 3, 1, 2, 2, 3, 7, 3, 5, 4, 8, 0, 9, 1, 2, 3, 9, 8, 3, 8, 7, 7,\n",
      "        9, 7, 0, 9, 2, 3, 9, 2, 1, 9, 8, 2, 3, 9, 2, 9, 5, 4, 7, 1, 2, 1, 5, 3,\n",
      "        9, 2, 0, 7, 2, 0, 5, 5, 4, 3, 9, 9, 1, 2, 7, 7, 7, 4, 5, 1, 4, 0, 4, 3,\n",
      "        8, 7, 8, 4, 1, 0, 8, 0])\n",
      "tensor([9, 8, 8, 7, 8, 3, 2, 0, 7, 4, 8, 0, 9, 9, 2, 7, 7, 2, 2, 1, 5, 3, 4, 3,\n",
      "        5, 5, 0, 8, 4, 9, 8, 9, 4, 2, 1, 9, 4, 8, 4, 9, 4, 3, 2, 0, 9, 7, 8, 0,\n",
      "        9, 1, 2, 2, 2, 9, 9, 1, 9, 9, 3, 3, 1, 2, 3, 5, 2, 3, 7, 4, 1, 4, 4, 5,\n",
      "        7, 5, 4, 2, 7, 7, 8, 1, 8, 1, 5, 4, 7, 5, 3, 1, 4, 2, 0, 1, 4, 0, 7, 4,\n",
      "        5, 8, 2, 8, 4, 5, 0, 0, 1, 7, 9, 5, 3, 9, 4, 0, 4, 8, 7, 1, 0, 8, 9, 8,\n",
      "        2, 4, 8, 4, 8, 0, 1, 7])\n",
      "tensor([3, 8, 1, 7, 2, 9, 3, 7, 9, 5, 1, 8, 0, 0, 9, 0, 3, 2, 4, 2, 7, 0, 0, 9,\n",
      "        8, 8, 1, 5, 7, 7, 3, 7, 5, 3, 0, 0, 7, 8, 7, 3, 7, 3, 5, 5, 5, 4, 2, 8,\n",
      "        2, 0, 3, 2, 0, 4, 7, 5, 2, 2, 3, 1, 5, 3, 8, 3, 9, 7, 1, 7, 1, 3, 3, 8,\n",
      "        5, 0, 0, 4, 4, 1, 1, 2, 9, 0, 4, 2, 1, 3, 2, 7, 3, 1, 8, 5, 7, 3, 0, 5,\n",
      "        0, 4, 5, 2, 2, 5, 2, 1, 8, 2, 1, 7, 3, 2, 8, 9, 9, 0, 1, 8, 1, 4, 9, 0,\n",
      "        3, 1, 1, 4, 7, 8, 2, 4])\n",
      "tensor([7, 0, 2, 8, 3, 8, 4, 9, 4, 7, 7, 3, 4, 8, 4, 5, 7, 3, 7, 4, 2, 0, 9, 0,\n",
      "        0, 5, 4, 1, 2, 1, 8, 1, 9, 4, 8, 9, 9, 3, 3, 7, 0, 0, 2, 1, 0, 4, 4, 4,\n",
      "        4, 2, 9, 0, 0, 3, 4, 0, 0, 1, 3, 8, 3, 5, 7, 9, 3, 4, 3, 7, 9, 1, 2, 7,\n",
      "        7, 5, 8, 0, 9, 1, 0, 1, 4, 7, 1, 2, 5, 3, 3, 0, 7, 1, 2, 7, 9, 3, 5, 4,\n",
      "        4, 4, 5, 7, 4, 7, 0, 1, 9, 8, 8, 7, 0, 1, 2, 0, 9, 7, 5, 9, 1, 4, 0, 4,\n",
      "        7, 4, 3, 3, 1, 7, 5, 5])\n",
      "tensor([8, 9, 5, 0, 3, 1, 4, 7, 9, 3, 5, 7, 8, 4, 7, 4, 0, 8, 3, 0, 1, 7, 9, 2,\n",
      "        9, 1, 4, 2, 7, 1, 0, 4, 3, 9, 3, 1, 8, 4, 5, 7, 5, 8, 1, 0, 9, 0, 3, 8,\n",
      "        1, 1, 4, 7, 3, 0, 7, 9, 2, 9, 5, 4, 0, 4, 7, 2, 3, 8, 3, 8, 1, 1, 2, 4,\n",
      "        8, 1, 0, 8, 1, 8, 9, 3, 2, 9, 0, 2, 4, 9, 4, 2, 3, 9, 9, 0, 9, 9, 2, 7,\n",
      "        3, 4, 3, 3, 9, 2, 7, 7, 8, 1, 1, 5, 4, 5, 7, 9, 4, 7, 4, 7, 0, 2, 4, 9,\n",
      "        9, 7, 7, 5, 3, 1, 1, 3])\n",
      "tensor([2, 4, 4, 0, 9, 8, 7, 8, 2, 2, 8, 7, 7, 1, 2, 7, 9, 9, 0, 1, 5, 1, 1, 3,\n",
      "        2, 9, 9, 8, 3, 3, 8, 7, 2, 4, 3, 4, 8, 0, 9, 2, 4, 9, 0, 1, 4, 8, 1, 8,\n",
      "        2, 1, 8, 1, 7, 1, 9, 1, 8, 3, 5, 4, 1, 3, 8, 4, 2, 4, 8, 4, 2, 5, 5, 0,\n",
      "        2, 2, 9, 8, 0, 1, 0, 0, 4, 8, 3, 4, 7, 5, 5, 9, 4, 5, 4, 4, 9, 9, 4, 5,\n",
      "        7, 2, 9, 4, 4, 0, 4, 8, 3, 1, 9, 2, 1, 5, 7, 3, 8, 5, 0, 4, 2, 4, 1, 1,\n",
      "        9, 8, 8, 9, 2, 2, 2, 0])\n",
      "tensor([5, 2, 5, 3, 8, 3, 2, 3, 8, 4, 1, 5, 3, 3, 3, 1, 9, 2, 8, 7, 8, 2, 3, 5,\n",
      "        2, 5, 2, 9, 0, 7, 1, 1, 7, 9, 0, 1, 4, 5, 7, 4, 2, 3, 3, 2, 3, 0, 0, 9,\n",
      "        9, 5, 4, 9, 2, 2, 5, 4, 7, 2, 3, 5, 2, 3, 9, 3, 9, 0, 2, 3, 5, 4, 4, 3,\n",
      "        2, 2, 9, 8, 8, 0, 2, 0, 3, 3, 9, 4, 2, 8, 1, 9, 2, 8, 9, 3, 0, 2, 0, 8,\n",
      "        7, 3, 5, 0, 4, 3, 1, 3, 0, 5, 5, 4, 3, 7, 0, 5, 2, 9, 0, 7, 3, 5, 4, 8,\n",
      "        2, 1, 3, 3, 2, 5, 9, 3])\n",
      "tensor([5, 0, 2, 0, 7, 4, 0, 8, 3, 0, 8, 8, 3, 8, 9, 4, 0, 2, 8, 3, 5, 2, 5, 7,\n",
      "        0, 3, 0, 8, 3, 5, 9, 4, 2, 8, 7, 4, 1, 0, 5, 5, 2, 2, 8, 2, 2, 0, 7, 2,\n",
      "        5, 3, 7, 4, 5, 8, 8, 3, 9, 9, 0, 4, 4, 2, 3, 2, 4, 9, 2, 5, 4, 5, 0, 3,\n",
      "        1, 7, 8, 0, 4, 7, 3, 3, 8, 3, 8, 9, 2, 8, 5, 4, 9, 4, 4, 4, 2, 0, 3, 1,\n",
      "        9, 2, 8, 2, 1, 9, 5, 8, 4, 8, 2, 3, 5, 2, 4, 4, 9, 2, 4, 2, 9, 8, 0, 5,\n",
      "        9, 4, 4, 5, 4, 1, 2, 7])\n",
      "tensor([2, 4, 2, 5, 2, 2, 3, 0, 1, 5, 4, 0, 1, 9, 9, 5, 2, 5, 2, 5, 2, 2, 2, 5,\n",
      "        4, 8, 9, 0, 9, 7, 5, 5, 9, 9, 3, 4, 8, 4, 3, 9, 3, 1, 0, 4, 5, 2, 8, 7,\n",
      "        9, 7, 7, 7, 9, 4, 0, 0, 2, 7, 2, 1, 8, 0, 3, 8, 5, 0, 7, 2, 9, 1, 1, 2,\n",
      "        0, 8, 9, 7, 9, 5, 8, 0, 1, 4, 0, 1, 8, 2, 3, 4, 7, 9, 3, 7, 5, 5, 0, 9,\n",
      "        1, 4, 1, 2, 5, 8, 0, 9, 3, 4, 2, 1, 7, 5, 1, 3, 5, 9, 0, 1, 9, 8, 3, 8,\n",
      "        8, 4, 8, 5, 7, 0, 7, 0])\n",
      "tensor([9, 4, 9, 4, 9, 4, 8, 5, 3, 0, 1, 2, 2, 2, 7, 4, 1, 7, 7, 8, 5, 7, 0, 2,\n",
      "        4, 2, 1, 3, 8, 3, 3, 4, 9, 5, 9, 1, 0, 4, 1, 5, 0, 4, 3, 1, 8, 2, 7, 2,\n",
      "        5, 9, 3, 1, 7, 1, 9, 2, 9, 4, 2, 2, 1, 8, 3, 9, 8, 4, 0, 4, 8, 4, 5, 1,\n",
      "        2, 4, 2, 4, 1, 8, 5, 7, 5, 7, 2, 5, 5, 5, 9, 9, 8, 2, 8, 2, 4, 3, 3, 4,\n",
      "        8, 9, 4, 0, 5, 3, 2, 8, 1, 2, 4, 1, 0, 5, 1, 9, 7, 2, 8, 5, 3, 7, 2, 1,\n",
      "        4, 1, 5, 4, 2, 8, 5, 0])\n",
      "tensor([2, 0, 0, 1, 2, 2, 5, 0, 1, 5, 5, 4, 5, 1, 9, 8, 7, 1, 2, 7, 0, 9, 3, 4,\n",
      "        9, 0, 4, 5, 2, 5, 9, 9, 2, 2, 9, 1, 8, 1, 4, 4, 3, 7, 5, 4, 0, 4, 5, 4,\n",
      "        2, 9, 3, 5, 8, 0, 1, 9, 4, 7, 3, 7, 4, 4, 4, 0, 2, 1, 3, 3, 0, 7, 0, 5,\n",
      "        9, 8, 5, 4, 7, 9, 9, 4, 8, 8, 0, 1, 4, 4, 0, 5, 8, 1, 5, 1, 0, 3, 2, 7,\n",
      "        8, 7, 0, 4, 3, 4, 4, 7, 7, 9, 4, 5, 2, 4, 5, 0, 1, 7, 0, 7, 2, 0, 0, 3,\n",
      "        5, 1, 1, 4, 3, 2, 9, 8])\n",
      "tensor([1, 0, 1, 4, 8, 5, 4, 0, 4, 0, 4, 9, 3, 8, 5, 4, 8, 2, 2, 8, 4, 4, 4, 3,\n",
      "        8, 7, 5, 2, 8, 9, 2, 9, 5, 9, 2, 1, 0, 4, 1, 9, 7, 1, 7, 3, 5, 8, 7, 2,\n",
      "        5, 1, 5, 2, 0, 0, 0, 1, 2, 4, 4, 8, 0, 3, 2, 8, 3, 5, 4, 0, 3, 0, 5, 1,\n",
      "        8, 3, 1, 8, 5, 8, 2, 4, 0, 3, 7, 8, 1, 3, 9, 0, 2, 8, 1, 4, 8, 8, 1, 0,\n",
      "        8, 7, 7, 5, 4, 7, 7, 0, 3, 8, 1, 9, 9, 0, 3, 1, 2, 5, 5, 3, 8, 9, 4, 0,\n",
      "        9, 5, 3, 7, 5, 1, 5, 4])\n",
      "tensor([2, 3, 4, 5, 7, 1, 3, 4, 4, 5, 5, 3, 4, 7, 3, 3, 7, 8, 8, 2, 5, 4, 9, 7,\n",
      "        3, 2, 9, 3, 3, 5, 5, 0, 9, 1, 4, 3, 5, 2, 4, 1, 4, 0, 0, 3, 0, 3, 0, 8,\n",
      "        4, 7, 5, 5, 7, 0, 7, 9, 4, 3, 2, 9, 1, 9, 1, 8, 8, 8, 5, 8, 3, 8, 9, 3,\n",
      "        8, 0, 2, 1, 8, 4, 4, 0, 0, 9, 7, 3, 1, 5, 1, 3, 5, 0, 8, 2, 1, 7, 3, 0,\n",
      "        8, 2, 9, 3, 9, 0, 0, 4, 1, 1, 8, 2, 9, 1, 4, 9, 7, 8, 2, 2, 2, 9, 7, 8,\n",
      "        5, 0, 9, 0, 0, 0, 8, 1])\n",
      "tensor([3, 4, 7, 5, 8, 2, 5, 2, 8, 9, 1, 9, 1, 8, 1, 5])\n",
      "74.29\n"
     ]
    }
   ],
   "source": [
    "correct = 0\n",
    "total = 0\n",
    "\n",
    "with torch.no_grad():\n",
    "    for data in test_loader:\n",
    "        images, labels = data\n",
    "        outputs = net(images)\n",
    "        _, predicted = torch.max(outputs.data, 1)\n",
    "        total += labels.size(0)\n",
    "        correct += (predicted == labels).sum().item()\n",
    "\n",
    "print(100*correct/total)"
   ]
  }
 ],
 "metadata": {
  "kernelspec": {
   "display_name": "Python 3",
   "language": "python",
   "name": "python3"
  },
  "language_info": {
   "codemirror_mode": {
    "name": "ipython",
    "version": 3
   },
   "file_extension": ".py",
   "mimetype": "text/x-python",
   "name": "python",
   "nbconvert_exporter": "python",
   "pygments_lexer": "ipython3",
   "version": "3.11.1"
  }
 },
 "nbformat": 4,
 "nbformat_minor": 2
}
