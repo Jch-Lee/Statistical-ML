{
 "cells": [
  {
   "cell_type": "markdown",
   "metadata": {},
   "source": [
    "### transforms"
   ]
  },
  {
   "cell_type": "code",
   "execution_count": 2,
   "metadata": {},
   "outputs": [],
   "source": [
    "import torch\n",
    "import torchvision.transforms as transforms\n",
    "from torchvision import datasets\n",
    "from torch.utils.data import DataLoader"
   ]
  },
  {
   "cell_type": "markdown",
   "metadata": {},
   "source": [
    "* dataloader의 인자로 들어갈 transform을 미리 정의가능\n",
    "* Compose를 통해 리스트 안에 순서대로 전처리 진행\n",
    "* ToTensor()은 torchvision이 PIL image 형태로만 입력을 받기 때문에 데이터 처리를 위해 Tensor형으로 변환 필요"
   ]
  },
  {
   "cell_type": "code",
   "execution_count": 3,
   "metadata": {},
   "outputs": [],
   "source": [
    "mnist_transform = transforms.Compose([transforms.ToTensor(),\n",
    "                                     transforms.Normalize(mean=(0.5,), std=(1.0,))])"
   ]
  },
  {
   "cell_type": "code",
   "execution_count": 4,
   "metadata": {},
   "outputs": [],
   "source": [
    "trainset = datasets.MNIST(root=\"C:/Users/jongcheol/OneDrive/바탕 화면/Semester2\",\n",
    "                          train=True,\n",
    "                          download=False,\n",
    "                          transform=mnist_transform)\n",
    "\n",
    "testset = datasets.MNIST(root=\"C:/Users/jongcheol/OneDrive/바탕 화면/Semester2\",\n",
    "                          train=False,\n",
    "                          download=False,\n",
    "                          transform=mnist_transform)"
   ]
  },
  {
   "cell_type": "markdown",
   "metadata": {},
   "source": [
    "### DataLoader\n",
    "* DataLoader는 데이터 전체를 보관했다가 실제 모델 학습을 할 때, batch_size 크기만큼 데이터를 가져온다."
   ]
  },
  {
   "cell_type": "code",
   "execution_count": 5,
   "metadata": {},
   "outputs": [],
   "source": [
    "train_loader = DataLoader(trainset, batch_size=8,\n",
    "                          shuffle=True, num_workers=2)\n",
    "test_loader = DataLoader(testset, batch_size=8,\n",
    "                         shuffle=False, num_workers=2)"
   ]
  },
  {
   "cell_type": "code",
   "execution_count": 6,
   "metadata": {},
   "outputs": [
    {
     "data": {
      "text/plain": [
       "(torch.Size([8, 1, 28, 28]), torch.Size([8]))"
      ]
     },
     "execution_count": 6,
     "metadata": {},
     "output_type": "execute_result"
    }
   ],
   "source": [
    "dataiter = iter(train_loader)\n",
    "images, labels = next(dataiter)\n",
    "images.shape, labels.shape"
   ]
  },
  {
   "cell_type": "markdown",
   "metadata": {},
   "source": [
    "* shape: (B, C, H, W)\n",
    "* 즉, 28*28 흑백(Channel=1)이미지가 8장있다는 뜻"
   ]
  },
  {
   "cell_type": "code",
   "execution_count": 7,
   "metadata": {},
   "outputs": [
    {
     "data": {
      "text/plain": [
       "torch.Size([28, 28])"
      ]
     },
     "execution_count": 7,
     "metadata": {},
     "output_type": "execute_result"
    }
   ],
   "source": [
    "torch_image = torch.squeeze(images[0])\n",
    "torch_image.shape"
   ]
  },
  {
   "cell_type": "markdown",
   "metadata": {},
   "source": [
    "* images[0]의 shape: (1,28,28)"
   ]
  },
  {
   "cell_type": "code",
   "execution_count": 8,
   "metadata": {},
   "outputs": [
    {
     "data": {
      "text/plain": [
       "115"
      ]
     },
     "execution_count": 8,
     "metadata": {},
     "output_type": "execute_result"
    }
   ],
   "source": [
    "torch.randint(200, size=(1,)).item()"
   ]
  },
  {
   "cell_type": "code",
   "execution_count": 9,
   "metadata": {},
   "outputs": [
    {
     "data": {
      "image/png": "[encoded data removed]",
      "text/plain": [
       "<Figure size 1200x600 with 8 Axes>"
      ]
     },
     "metadata": {},
     "output_type": "display_data"
    }
   ],
   "source": [
    "import matplotlib.pyplot as plt\n",
    "\n",
    "figure = plt.figure(figsize=(12,6))\n",
    "cols, rows = 4, 2\n",
    "\n",
    "for i in range(1, cols*rows+1):\n",
    "    sample_idx = torch.randint(len(trainset), size=(1,)).item()\n",
    "    img, label = trainset[sample_idx]\n",
    "    figure.add_subplot(rows, cols, i)\n",
    "    plt.title(label)\n",
    "    plt.axis('off')\n",
    "    plt.imshow(img.squeeze(), cmap='gray')\n",
    "plt.show()"
   ]
  },
  {
   "cell_type": "markdown",
   "metadata": {},
   "source": [
    "### 신경망 구성\n",
    "* 레이어(layer)\n",
    "* 모듈(module): 한 개 이상의 레이어가 모여서 구성\n",
    "* 모델(model): 한 개 이상의 모듈이 모여서 구성"
   ]
  },
  {
   "cell_type": "code",
   "execution_count": 10,
   "metadata": {},
   "outputs": [],
   "source": [
    "import torch.nn as nn"
   ]
  },
  {
   "cell_type": "markdown",
   "metadata": {},
   "source": [
    "### Linear 계층"
   ]
  },
  {
   "cell_type": "code",
   "execution_count": 11,
   "metadata": {},
   "outputs": [
    {
     "name": "stdout",
     "output_type": "stream",
     "text": [
      "tensor([[-1.7059e+00,  1.5555e+00,  1.2066e-01,  ...,  1.2432e+00,\n",
      "         -7.7447e-01, -1.1305e+00],\n",
      "        [-1.5203e+00,  1.6409e-01,  3.1092e-02,  ..., -1.0897e+00,\n",
      "         -1.7260e+00, -6.4786e-01],\n",
      "        [-4.8407e-01,  8.2133e-01, -2.2948e-01,  ...,  2.4540e-01,\n",
      "         -2.6013e-01,  1.1208e+00],\n",
      "        ...,\n",
      "        [ 8.0907e-01,  5.9586e-01, -2.3108e+00,  ...,  1.7157e+00,\n",
      "          5.8441e-01, -1.4506e+00],\n",
      "        [-1.3590e+00,  1.7146e+00, -1.1419e-01,  ..., -3.7819e-01,\n",
      "          3.8042e-02,  4.2145e-04],\n",
      "        [-6.1352e-01,  1.2838e+00,  7.5407e-01,  ..., -4.3586e-01,\n",
      "          1.0700e+00, -1.0942e+00]])\n",
      "Linear(in_features=20, out_features=30, bias=True)\n",
      "tensor([[-0.7481,  0.4431, -0.9769,  ...,  0.0483, -0.1227, -0.8420],\n",
      "        [-0.1150, -0.2110, -0.7076,  ...,  0.8830, -0.7841, -0.0308],\n",
      "        [-0.6025,  0.8807, -0.3287,  ..., -0.6465, -0.6332, -0.0689],\n",
      "        ...,\n",
      "        [-1.4539,  0.4757, -0.2855,  ..., -0.3788, -0.3172, -0.3714],\n",
      "        [ 0.3785,  0.4467, -0.8119,  ...,  0.8151, -0.5497, -0.4740],\n",
      "        [-0.6030, -0.1497, -0.3571,  ...,  0.0592, -0.6039,  0.6430]],\n",
      "       grad_fn=<AddmmBackward0>)\n",
      "torch.Size([128, 30])\n"
     ]
    }
   ],
   "source": [
    "input = torch.randn(128, 20)\n",
    "print(input)\n",
    "\n",
    "m = nn.Linear(20, 30)\n",
    "    # 입력 피처 수, 출력 피처 수\n",
    "print(m)\n",
    "\n",
    "output = m(input)\n",
    "print(output)\n",
    "print(output.size())"
   ]
  },
  {
   "cell_type": "markdown",
   "metadata": {},
   "source": [
    "### Conv2d 계층"
   ]
  },
  {
   "cell_type": "code",
   "execution_count": 12,
   "metadata": {},
   "outputs": [
    {
     "name": "stdout",
     "output_type": "stream",
     "text": [
      "torch.Size([20, 16, 50, 100])\n"
     ]
    }
   ],
   "source": [
    "input = torch.randn(20, 16, 50, 100)\n",
    "print(input.size())"
   ]
  },
  {
   "cell_type": "code",
   "execution_count": 13,
   "metadata": {},
   "outputs": [
    {
     "name": "stdout",
     "output_type": "stream",
     "text": [
      "Conv2d(16, 33, kernel_size=(3, 5), stride=(2, 1), padding=(4, 2), dilation=(3, 1))\n"
     ]
    }
   ],
   "source": [
    "m = nn.Conv2d(16, 33, 3, stride=2)\n",
    "m = nn.Conv2d(16, 33, (3,5), stride=(2,1), padding=(4,2))\n",
    "m = nn.Conv2d(16, 33, (3,5), stride=(2,1),\n",
    "               padding=(4,2), dilation=(3,1))\n",
    "print(m)"
   ]
  },
  {
   "cell_type": "code",
   "execution_count": 14,
   "metadata": {},
   "outputs": [
    {
     "name": "stdout",
     "output_type": "stream",
     "text": [
      "torch.Size([20, 33, 26, 100])\n"
     ]
    }
   ],
   "source": [
    "output = m(input)\n",
    "print(output.size())"
   ]
  },
  {
   "cell_type": "markdown",
   "metadata": {},
   "source": [
    "### 컨볼루션 레이어 자세히 보기"
   ]
  },
  {
   "cell_type": "code",
   "execution_count": 15,
   "metadata": {},
   "outputs": [
    {
     "data": {
      "text/plain": [
       "Conv2d(1, 20, kernel_size=(5, 5), stride=(1, 1))"
      ]
     },
     "execution_count": 15,
     "metadata": {},
     "output_type": "execute_result"
    }
   ],
   "source": [
    "nn.Conv2d(in_channels=1,\n",
    "          out_channels=20,\n",
    "          kernel_size=5,\n",
    "          stride=1)"
   ]
  },
  {
   "cell_type": "code",
   "execution_count": 16,
   "metadata": {},
   "outputs": [
    {
     "data": {
      "text/plain": [
       "Conv2d(1, 20, kernel_size=(5, 5), stride=(1, 1))"
      ]
     },
     "execution_count": 16,
     "metadata": {},
     "output_type": "execute_result"
    }
   ],
   "source": [
    "layer = nn.Conv2d(1,20,5,1).to(torch.device('cpu'))\n",
    "layer"
   ]
  },
  {
   "cell_type": "code",
   "execution_count": 17,
   "metadata": {},
   "outputs": [
    {
     "name": "stdout",
     "output_type": "stream",
     "text": [
      "torch.Size([20, 1, 5, 5])\n"
     ]
    }
   ],
   "source": [
    "weight = layer.weight\n",
    "print(weight.shape)"
   ]
  },
  {
   "cell_type": "code",
   "execution_count": 18,
   "metadata": {},
   "outputs": [
    {
     "data": {
      "image/png": "[encoded data removed]",
      "text/plain": [
       "<Figure size 640x480 with 2 Axes>"
      ]
     },
     "metadata": {},
     "output_type": "display_data"
    }
   ],
   "source": [
    "plt.imshow(weight[0, 0, :, :].detach().numpy(),\n",
    "            'grey')\n",
    "plt.colorbar()\n",
    "plt.show()"
   ]
  },
  {
   "cell_type": "code",
   "execution_count": 19,
   "metadata": {},
   "outputs": [
    {
     "name": "stdout",
     "output_type": "stream",
     "text": [
      "torch.Size([8, 1, 28, 28])\n",
      "torch.Size([1, 28, 28])\n",
      "torch.Size([1, 28, 28])\n",
      "torch.Size([28, 28])\n"
     ]
    }
   ],
   "source": [
    "print(images.shape)\n",
    "print(images[0].shape)\n",
    "print(images[0].size())\n",
    "\n",
    "input_image = torch.squeeze(images[0])\n",
    "print(input_image.size())"
   ]
  },
  {
   "cell_type": "code",
   "execution_count": 25,
   "metadata": {},
   "outputs": [
    {
     "name": "stdout",
     "output_type": "stream",
     "text": [
      "torch.Size([1, 28, 28])\n",
      "torch.Size([1, 1, 28, 28])\n"
     ]
    },
    {
     "data": {
      "text/plain": [
       "(1, 20, 24, 24)"
      ]
     },
     "execution_count": 25,
     "metadata": {},
     "output_type": "execute_result"
    }
   ],
   "source": [
    "print(images[0].shape)\n",
    "input_data = torch.unsqueeze(images[0], dim=0)\n",
    "print(input_data.shape)\n",
    "\n",
    "output_data = layer(input_data)\n",
    "output = output_data.data\n",
    "output_arr = output.numpy()\n",
    "output_arr.shape"
   ]
  },
  {
   "cell_type": "code",
   "execution_count": 28,
   "metadata": {},
   "outputs": [
    {
     "data": {
      "text/plain": [
       "<matplotlib.image.AxesImage at 0x25d6a97a090>"
      ]
     },
     "execution_count": 28,
     "metadata": {},
     "output_type": "execute_result"
    },
    {
     "data": {
      "image/png": "[encoded data removed]",
      "text/plain": [
       "<Figure size 1500x3000 with 3 Axes>"
      ]
     },
     "metadata": {},
     "output_type": "display_data"
    }
   ],
   "source": [
    "plt.figure(figsize=(15,30))\n",
    "\n",
    "plt.subplot(131)\n",
    "plt.title('input')\n",
    "plt.imshow(input_image, 'grey')\n",
    "\n",
    "plt.subplot(132)\n",
    "plt.title('Weight')\n",
    "plt.imshow(weight[0,0,:,:].detach().numpy(), 'jet')\n",
    "\n",
    "plt.subplot(133)\n",
    "plt.title('Output')\n",
    "plt.imshow(output_arr[0,0,:,:], 'grey')"
   ]
  },
  {
   "cell_type": "markdown",
   "metadata": {},
   "source": [
    "### 풀링 레이어"
   ]
  },
  {
   "cell_type": "code",
   "execution_count": 35,
   "metadata": {},
   "outputs": [
    {
     "data": {
      "text/plain": [
       "torch.Size([1, 20, 12, 12])"
      ]
     },
     "execution_count": 35,
     "metadata": {},
     "output_type": "execute_result"
    }
   ],
   "source": [
    "pool = nn.MaxPool2d(2, 2)\n",
    "pooled = pool(output)\n",
    "pooled.shape"
   ]
  },
  {
   "cell_type": "code",
   "execution_count": 36,
   "metadata": {},
   "outputs": [
    {
     "data": {
      "text/plain": [
       "(1, 20, 12, 12)"
      ]
     },
     "execution_count": 36,
     "metadata": {},
     "output_type": "execute_result"
    }
   ],
   "source": [
    "pool_arr = pooled.numpy()\n",
    "pool_arr.shape"
   ]
  },
  {
   "cell_type": "code",
   "execution_count": 38,
   "metadata": {},
   "outputs": [
    {
     "data": {
      "text/plain": [
       "<matplotlib.image.AxesImage at 0x25d6ae9b050>"
      ]
     },
     "execution_count": 38,
     "metadata": {},
     "output_type": "execute_result"
    },
    {
     "data": {
      "image/png": "[encoded data removed]",
      "text/plain": [
       "<Figure size 1000x1500 with 2 Axes>"
      ]
     },
     "metadata": {},
     "output_type": "display_data"
    }
   ],
   "source": [
    "plt.figure(figsize=(10,15))\n",
    "\n",
    "plt.subplot(121)\n",
    "plt.title('Input')\n",
    "plt.imshow(input_image, 'gray')\n",
    "\n",
    "plt.subplot(122)\n",
    "plt.title('Output')\n",
    "plt.imshow(pool_arr[0,0,:,:], 'gray')"
   ]
  },
  {
   "cell_type": "markdown",
   "metadata": {},
   "source": [
    "### Dense 층"
   ]
  },
  {
   "cell_type": "code",
   "execution_count": 39,
   "metadata": {},
   "outputs": [
    {
     "data": {
      "text/plain": [
       "torch.Size([1, 784])"
      ]
     },
     "execution_count": 39,
     "metadata": {},
     "output_type": "execute_result"
    }
   ],
   "source": [
    "flatten = input_image.view(-1, 28*28)\n",
    "flatten.shape"
   ]
  },
  {
   "cell_type": "code",
   "execution_count": 40,
   "metadata": {},
   "outputs": [
    {
     "data": {
      "text/plain": [
       "torch.Size([1, 10])"
      ]
     },
     "execution_count": 40,
     "metadata": {},
     "output_type": "execute_result"
    }
   ],
   "source": [
    "lin = nn.Linear(784, 10)(flatten)\n",
    "lin.shape"
   ]
  },
  {
   "cell_type": "code",
   "execution_count": 41,
   "metadata": {},
   "outputs": [
    {
     "data": {
      "image/png": "[encoded data removed]",
      "text/plain": [
       "<Figure size 640x480 with 2 Axes>"
      ]
     },
     "metadata": {},
     "output_type": "display_data"
    }
   ],
   "source": [
    "plt.imshow(lin.detach().numpy(), 'jet')\n",
    "plt.colorbar()\n",
    "plt.show()"
   ]
  },
  {
   "cell_type": "markdown",
   "metadata": {},
   "source": [
    "### 비선형 활성화 함수"
   ]
  },
  {
   "cell_type": "code",
   "execution_count": 44,
   "metadata": {},
   "outputs": [
    {
     "name": "stdout",
     "output_type": "stream",
     "text": [
      "tensor([[0.0864, 0.0919, 0.1166, 0.0815, 0.1158, 0.1021, 0.0920, 0.0671, 0.1217,\n",
      "         0.1250]])\n",
      "tensor(1.0000)\n"
     ]
    }
   ],
   "source": [
    "with torch.no_grad():\n",
    "    flatten = input_image.view(-1, 28*28)\n",
    "    lin = nn.Linear(784, 10)(flatten)\n",
    "    softmax = nn.Softmax(dim=1)\n",
    "    soft = softmax(lin)\n",
    "\n",
    "print(soft)\n",
    "print(soft.sum())"
   ]
  },
  {
   "cell_type": "code",
   "execution_count": 45,
   "metadata": {},
   "outputs": [
    {
     "data": {
      "text/plain": [
       "torch.Size([4, 3, 28, 28])"
      ]
     },
     "execution_count": 45,
     "metadata": {},
     "output_type": "execute_result"
    }
   ],
   "source": [
    "inputs = torch.randn(4,3,28,28).to('cuda')\n",
    "inputs.shape"
   ]
  },
  {
   "cell_type": "code",
   "execution_count": 46,
   "metadata": {},
   "outputs": [
    {
     "data": {
      "text/plain": [
       "torch.Size([4, 3, 28, 28])"
      ]
     },
     "execution_count": 46,
     "metadata": {},
     "output_type": "execute_result"
    }
   ],
   "source": [
    "layer = nn.Conv2d(3,20,5,1).to('cuda')\n",
    "ReLU = nn.ReLU()\n",
    "output = ReLU(inputs)\n",
    "output.shape"
   ]
  }
 ],
 "metadata": {
  "kernelspec": {
   "display_name": "Python 3",
   "language": "python",
   "name": "python3"
  },
  "language_info": {
   "codemirror_mode": {
    "name": "ipython",
    "version": 3
   },
   "file_extension": ".py",
   "mimetype": "text/x-python",
   "name": "python",
   "nbconvert_exporter": "python",
   "pygments_lexer": "ipython3",
   "version": "3.11.1"
  }
 },
 "nbformat": 4,
 "nbformat_minor": 2
}
