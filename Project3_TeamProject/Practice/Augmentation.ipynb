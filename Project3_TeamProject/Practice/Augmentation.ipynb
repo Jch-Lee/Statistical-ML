{
 "cells": [
  {
   "cell_type": "code",
   "execution_count": 3,
   "metadata": {},
   "outputs": [
    {
     "name": "stdout",
     "output_type": "stream",
     "text": [
      "Batch image size: torch.Size([32, 3, 32, 32]), Batch labels size: torch.Size([32])\n"
     ]
    }
   ],
   "source": [
    "from torchvision import transforms\n",
    "from torchvision.datasets import ImageFolder\n",
    "from torch.utils.data import DataLoader, ConcatDataset\n",
    "\n",
    "# 원본 데이터 전처리 (증강 없음)\n",
    "original_transform = transforms.Compose([\n",
    "    transforms.Resize((32, 32)),                           # 모든 이미지를 동일한 크기로 맞춤\n",
    "    transforms.ToTensor(),\n",
    "    transforms.Normalize(mean=[0.485, 0.456, 0.406], std=[0.229, 0.224, 0.225])\n",
    "])\n",
    "\n",
    "# 증강 데이터 전처리\n",
    "augmented_transform = transforms.Compose([\n",
    "    transforms.RandomResizedCrop(32),                      # 랜덤 크롭 후 32x32 크기로 조정\n",
    "    transforms.RandomHorizontalFlip(),                     # 좌우 반전\n",
    "    transforms.ColorJitter(brightness=0.2, contrast=0.2, saturation=0.2, hue=0.1),  # 밝기, 대비, 채도, 색조 변화\n",
    "    transforms.RandomRotation(15),                         # -15도 ~ 15도 범위 내에서 랜덤 회전\n",
    "    transforms.ToTensor(),\n",
    "    transforms.Normalize(mean=[0.485, 0.456, 0.406], std=[0.229, 0.224, 0.225])\n",
    "])\n",
    "\n",
    "# 두 데이터셋을 각각 생성\n",
    "original_dataset = ImageFolder(root='C:/Users/USER/Desktop/Semester2/Statistical-ML/Project3_TeamProject/train_data', transform=original_transform)\n",
    "augmented_dataset = ImageFolder(root='C:/Users/USER/Desktop/Semester2/Statistical-ML/Project3_TeamProject/train_data', transform=augmented_transform)\n",
    "\n",
    "# 두 데이터셋 결합\n",
    "combined_dataset = ConcatDataset([original_dataset, augmented_dataset])\n",
    "\n",
    "# DataLoader 생성\n",
    "train_loader = DataLoader(combined_dataset, batch_size=32, shuffle=True, num_workers=0)\n",
    "\n",
    "# 확인용 코드: 한 배치 불러오기\n",
    "images, labels = next(iter(train_loader))\n",
    "print(f\"Batch image size: {images.size()}, Batch labels size: {labels.size()}\")\n"
   ]
  },
  {
   "cell_type": "code",
   "execution_count": 4,
   "metadata": {},
   "outputs": [
    {
     "data": {
      "text/plain": [
       "8000"
      ]
     },
     "execution_count": 4,
     "metadata": {},
     "output_type": "execute_result"
    }
   ],
   "source": [
    "len(combined_dataset)"
   ]
  }
 ],
 "metadata": {
  "kernelspec": {
   "display_name": "Python 3",
   "language": "python",
   "name": "python3"
  },
  "language_info": {
   "codemirror_mode": {
    "name": "ipython",
    "version": 3
   },
   "file_extension": ".py",
   "mimetype": "text/x-python",
   "name": "python",
   "nbconvert_exporter": "python",
   "pygments_lexer": "ipython3",
   "version": "3.11.1"
  }
 },
 "nbformat": 4,
 "nbformat_minor": 2
}
