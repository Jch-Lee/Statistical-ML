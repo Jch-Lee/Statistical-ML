{
 "cells": [
  {
   "cell_type": "code",
   "execution_count": 13,
   "metadata": {},
   "outputs": [],
   "source": [
    "import torch\n",
    "import torch.nn as nn\n",
    "from torchvision import models, transforms, datasets\n",
    "from torch.utils.data import DataLoader, ConcatDataset, Subset\n",
    "from sklearn.model_selection import StratifiedKFold\n",
    "from sklearn.metrics import accuracy_score\n",
    "import numpy as np\n",
    "\n",
    "# 1. 장치 설정 (GPU 사용 가능 시 GPU 사용)\n",
    "device = torch.device(\"cuda\" if torch.cuda.is_available() else \"cpu\")\n",
    "\n",
    "# 2. 데이터 전처리 설정 (크기 및 정규화 통일)\n",
    "transform = transforms.Compose([\n",
    "    transforms.Resize((224, 224)),  # MobileNet 모델은 224x224 입력 크기 사용\n",
    "    transforms.ToTensor()\n",
    "])\n",
    "\n",
    "# 3. 사용자 데이터셋 불러오기\n",
    "trainset_path = 'C:/Users/jongcheol/OneDrive/바탕 화면/Semester2/train_data'\n",
    "user_dataset = datasets.ImageFolder(root=trainset_path, transform=transform)\n",
    "\n",
    "# 4. CIFAR-10 데이터셋 불러오기 (훈련 데이터만 사용)\n",
    "cifar10_dataset = datasets.CIFAR10(root='./data', train=True, download=False, transform=transform)\n",
    "\n",
    "# 5. 사용자 데이터셋과 CIFAR-10 데이터셋 통합\n",
    "combined_dataset = ConcatDataset([user_dataset, cifar10_dataset])\n",
    "combined_labels = np.concatenate((np.array([label for _, label in user_dataset.samples]),\n",
    "                                  np.array(cifar10_dataset.targets)))\n",
    "\n",
    "# 6. K-Fold Cross Validation 설정\n",
    "k = 5\n",
    "kf = StratifiedKFold(n_splits=k, shuffle=True, random_state=42)\n",
    "fold_accuracies_mobilenet = []  # MobileNet v2 각 폴드 정확도 저장"
   ]
  },
  {
   "cell_type": "code",
   "execution_count": 14,
   "metadata": {},
   "outputs": [
    {
     "name": "stdout",
     "output_type": "stream",
     "text": [
      "사용자 데이터셋 이미지 수: 4000\n",
      "CIFAR-10 데이터셋 이미지 수: 50000\n",
      "합쳐진 데이터셋 이미지 수: 54000\n",
      "데이터셋이 제대로 합쳐졌습니다. 총 이미지 수는 54,000장입니다.\n"
     ]
    }
   ],
   "source": [
    "# CIFAR-10의 학습 데이터는 50,000장이고, 사용자 데이터셋의 이미지 수를 계산\n",
    "user_data_size = len(user_dataset)    # 사용자 데이터셋의 이미지 수\n",
    "cifar10_data_size = len(cifar10_dataset)  # CIFAR-10 학습 데이터셋의 이미지 수\n",
    "\n",
    "# 합쳐진 combined_dataset의 전체 이미지 수\n",
    "combined_data_size = len(combined_dataset)\n",
    "\n",
    "# 데이터셋 개수 출력\n",
    "print(f\"사용자 데이터셋 이미지 수: {user_data_size}\")\n",
    "print(f\"CIFAR-10 데이터셋 이미지 수: {cifar10_data_size}\")\n",
    "print(f\"합쳐진 데이터셋 이미지 수: {combined_data_size}\")\n",
    "\n",
    "# 이미지 수가 54,000장인지 확인\n",
    "if combined_data_size == 54000:\n",
    "    print(\"데이터셋이 제대로 합쳐졌습니다. 총 이미지 수는 54,000장입니다.\")\n",
    "else:\n",
    "    print(f\"데이터셋이 제대로 합쳐지지 않았습니다. 총 이미지 수는 {combined_data_size}장입니다.\")"
   ]
  },
  {
   "cell_type": "markdown",
   "metadata": {},
   "source": [
    "CIFAR-10 클래스 순서:\n",
    "['airplane', 'automobile', 'bird', 'cat', 'deer', 'dog', 'frog', 'horse', 'ship', 'truck']\n"
   ]
  },
  {
   "cell_type": "code",
   "execution_count": 12,
   "metadata": {},
   "outputs": [
    {
     "name": "stdout",
     "output_type": "stream",
     "text": [
      "CIFAR-10 클래스 순서: ['airplane', 'automobile', 'bird', 'cat', 'deer', 'dog', 'frog', 'horse', 'ship', 'truck']\n",
      "사용자 데이터셋 클래스 순서: ['airplane', 'automobile', 'bird', 'cat', 'deer', 'dog', 'frog', 'horse', 'ship', 'truck']\n"
     ]
    }
   ],
   "source": [
    "# CIFAR-10의 클래스 순서\n",
    "cifar10_classes = ['airplane', 'automobile', 'bird', 'cat', 'deer', 'dog', 'frog', 'horse', 'ship', 'truck']\n",
    "\n",
    "# 사용자 데이터셋 클래스 확인\n",
    "user_dataset_classes = user_dataset.classes  # ImageFolder에서 자동 생성된 클래스 리스트\n",
    "\n",
    "print(\"CIFAR-10 클래스 순서:\", cifar10_classes)\n",
    "print(\"사용자 데이터셋 클래스 순서:\", user_dataset_classes)\n"
   ]
  },
  {
   "cell_type": "code",
   "execution_count": 19,
   "metadata": {},
   "outputs": [
    {
     "name": "stdout",
     "output_type": "stream",
     "text": [
      "\n",
      "=== MobileNet v2 Fold 1 시작 ===\n"
     ]
    },
    {
     "name": "stderr",
     "output_type": "stream",
     "text": [
      "c:\\Users\\jongcheol\\AppData\\Local\\Programs\\Python\\Python311\\Lib\\site-packages\\torchvision\\models\\_utils.py:208: UserWarning: The parameter 'pretrained' is deprecated since 0.13 and may be removed in the future, please use 'weights' instead.\n",
      "  warnings.warn(\n",
      "c:\\Users\\jongcheol\\AppData\\Local\\Programs\\Python\\Python311\\Lib\\site-packages\\torchvision\\models\\_utils.py:223: UserWarning: Arguments other than a weight enum or `None` for 'weights' are deprecated since 0.13 and may be removed in the future. The current behavior is equivalent to passing `weights=None`.\n",
      "  warnings.warn(msg)\n"
     ]
    },
    {
     "name": "stdout",
     "output_type": "stream",
     "text": [
      "MobileNet v2 Fold [1], Epoch [1/25], Loss: 1.4359\n",
      "MobileNet v2 Fold [1], Epoch [2/25], Loss: 0.9679\n",
      "MobileNet v2 Fold [1], Epoch [3/25], Loss: 0.7715\n",
      "MobileNet v2 Fold [1], Epoch [4/25], Loss: 0.6588\n",
      "MobileNet v2 Fold [1], Epoch [5/25], Loss: 0.5672\n",
      "MobileNet v2 Fold [1], Epoch [6/25], Loss: 0.4973\n",
      "MobileNet v2 Fold [1], Epoch [7/25], Loss: 0.4355\n",
      "MobileNet v2 Fold [1], Epoch [8/25], Loss: 0.3860\n",
      "MobileNet v2 Fold [1], Epoch [9/25], Loss: 0.3354\n",
      "MobileNet v2 Fold [1], Epoch [10/25], Loss: 0.2984\n",
      "MobileNet v2 Fold [1], Epoch [11/25], Loss: 0.2595\n",
      "MobileNet v2 Fold [1], Epoch [12/25], Loss: 0.2323\n",
      "MobileNet v2 Fold [1], Epoch [13/25], Loss: 0.2067\n",
      "MobileNet v2 Fold [1], Epoch [14/25], Loss: 0.1876\n",
      "MobileNet v2 Fold [1], Epoch [15/25], Loss: 0.1659\n",
      "MobileNet v2 Fold [1], Epoch [16/25], Loss: 0.1549\n",
      "MobileNet v2 Fold [1], Epoch [17/25], Loss: 0.1414\n",
      "MobileNet v2 Fold [1], Epoch [18/25], Loss: 0.1287\n",
      "MobileNet v2 Fold [1], Epoch [19/25], Loss: 0.1232\n",
      "MobileNet v2 Fold [1], Epoch [20/25], Loss: 0.1099\n",
      "MobileNet v2 Fold [1], Epoch [21/25], Loss: 0.1052\n",
      "MobileNet v2 Fold [1], Epoch [22/25], Loss: 0.1052\n",
      "MobileNet v2 Fold [1], Epoch [23/25], Loss: 0.0946\n",
      "MobileNet v2 Fold [1], Epoch [24/25], Loss: 0.0876\n",
      "MobileNet v2 Fold [1], Epoch [25/25], Loss: 0.0911\n",
      "MobileNet v2 Fold 1 Accuracy: 85.17%\n",
      "\n",
      "=== MobileNet v2 Fold 2 시작 ===\n"
     ]
    },
    {
     "name": "stderr",
     "output_type": "stream",
     "text": [
      "c:\\Users\\jongcheol\\AppData\\Local\\Programs\\Python\\Python311\\Lib\\site-packages\\torchvision\\models\\_utils.py:208: UserWarning: The parameter 'pretrained' is deprecated since 0.13 and may be removed in the future, please use 'weights' instead.\n",
      "  warnings.warn(\n",
      "c:\\Users\\jongcheol\\AppData\\Local\\Programs\\Python\\Python311\\Lib\\site-packages\\torchvision\\models\\_utils.py:223: UserWarning: Arguments other than a weight enum or `None` for 'weights' are deprecated since 0.13 and may be removed in the future. The current behavior is equivalent to passing `weights=None`.\n",
      "  warnings.warn(msg)\n"
     ]
    },
    {
     "name": "stdout",
     "output_type": "stream",
     "text": [
      "MobileNet v2 Fold [2], Epoch [1/25], Loss: 1.4363\n",
      "MobileNet v2 Fold [2], Epoch [2/25], Loss: 0.9778\n",
      "MobileNet v2 Fold [2], Epoch [3/25], Loss: 0.7764\n",
      "MobileNet v2 Fold [2], Epoch [4/25], Loss: 0.6640\n",
      "MobileNet v2 Fold [2], Epoch [5/25], Loss: 0.5801\n",
      "MobileNet v2 Fold [2], Epoch [6/25], Loss: 0.5046\n",
      "MobileNet v2 Fold [2], Epoch [7/25], Loss: 0.4457\n",
      "MobileNet v2 Fold [2], Epoch [8/25], Loss: 0.3938\n",
      "MobileNet v2 Fold [2], Epoch [9/25], Loss: 0.3516\n",
      "MobileNet v2 Fold [2], Epoch [10/25], Loss: 0.3126\n",
      "MobileNet v2 Fold [2], Epoch [11/25], Loss: 0.2717\n",
      "MobileNet v2 Fold [2], Epoch [12/25], Loss: 0.2431\n",
      "MobileNet v2 Fold [2], Epoch [13/25], Loss: 0.2115\n",
      "MobileNet v2 Fold [2], Epoch [14/25], Loss: 0.1983\n",
      "MobileNet v2 Fold [2], Epoch [15/25], Loss: 0.1748\n",
      "MobileNet v2 Fold [2], Epoch [16/25], Loss: 0.1612\n",
      "MobileNet v2 Fold [2], Epoch [17/25], Loss: 0.1491\n",
      "MobileNet v2 Fold [2], Epoch [18/25], Loss: 0.1313\n",
      "MobileNet v2 Fold [2], Epoch [19/25], Loss: 0.1242\n",
      "MobileNet v2 Fold [2], Epoch [20/25], Loss: 0.1223\n",
      "MobileNet v2 Fold [2], Epoch [21/25], Loss: 0.1080\n",
      "MobileNet v2 Fold [2], Epoch [22/25], Loss: 0.1079\n",
      "MobileNet v2 Fold [2], Epoch [23/25], Loss: 0.1017\n",
      "MobileNet v2 Fold [2], Epoch [24/25], Loss: 0.0957\n",
      "MobileNet v2 Fold [2], Epoch [25/25], Loss: 0.0906\n",
      "MobileNet v2 Fold 2 Accuracy: 85.42%\n",
      "\n",
      "=== MobileNet v2 Fold 3 시작 ===\n"
     ]
    },
    {
     "name": "stderr",
     "output_type": "stream",
     "text": [
      "c:\\Users\\jongcheol\\AppData\\Local\\Programs\\Python\\Python311\\Lib\\site-packages\\torchvision\\models\\_utils.py:208: UserWarning: The parameter 'pretrained' is deprecated since 0.13 and may be removed in the future, please use 'weights' instead.\n",
      "  warnings.warn(\n",
      "c:\\Users\\jongcheol\\AppData\\Local\\Programs\\Python\\Python311\\Lib\\site-packages\\torchvision\\models\\_utils.py:223: UserWarning: Arguments other than a weight enum or `None` for 'weights' are deprecated since 0.13 and may be removed in the future. The current behavior is equivalent to passing `weights=None`.\n",
      "  warnings.warn(msg)\n"
     ]
    },
    {
     "name": "stdout",
     "output_type": "stream",
     "text": [
      "MobileNet v2 Fold [3], Epoch [1/25], Loss: 1.4387\n",
      "MobileNet v2 Fold [3], Epoch [2/25], Loss: 0.9624\n",
      "MobileNet v2 Fold [3], Epoch [3/25], Loss: 0.7562\n",
      "MobileNet v2 Fold [3], Epoch [4/25], Loss: 0.6437\n",
      "MobileNet v2 Fold [3], Epoch [5/25], Loss: 0.5658\n",
      "MobileNet v2 Fold [3], Epoch [6/25], Loss: 0.4912\n",
      "MobileNet v2 Fold [3], Epoch [7/25], Loss: 0.4255\n",
      "MobileNet v2 Fold [3], Epoch [8/25], Loss: 0.3758\n",
      "MobileNet v2 Fold [3], Epoch [9/25], Loss: 0.3294\n",
      "MobileNet v2 Fold [3], Epoch [10/25], Loss: 0.2905\n",
      "MobileNet v2 Fold [3], Epoch [11/25], Loss: 0.2552\n",
      "MobileNet v2 Fold [3], Epoch [12/25], Loss: 0.2253\n",
      "MobileNet v2 Fold [3], Epoch [13/25], Loss: 0.1994\n",
      "MobileNet v2 Fold [3], Epoch [14/25], Loss: 0.1823\n",
      "MobileNet v2 Fold [3], Epoch [15/25], Loss: 0.1597\n",
      "MobileNet v2 Fold [3], Epoch [16/25], Loss: 0.1493\n",
      "MobileNet v2 Fold [3], Epoch [17/25], Loss: 0.1314\n",
      "MobileNet v2 Fold [3], Epoch [18/25], Loss: 0.1266\n",
      "MobileNet v2 Fold [3], Epoch [19/25], Loss: 0.1212\n",
      "MobileNet v2 Fold [3], Epoch [20/25], Loss: 0.1051\n",
      "MobileNet v2 Fold [3], Epoch [21/25], Loss: 0.1066\n",
      "MobileNet v2 Fold [3], Epoch [22/25], Loss: 0.0958\n",
      "MobileNet v2 Fold [3], Epoch [23/25], Loss: 0.0918\n",
      "MobileNet v2 Fold [3], Epoch [24/25], Loss: 0.0899\n",
      "MobileNet v2 Fold [3], Epoch [25/25], Loss: 0.0837\n",
      "MobileNet v2 Fold 3 Accuracy: 85.01%\n",
      "\n",
      "=== MobileNet v2 Fold 4 시작 ===\n"
     ]
    },
    {
     "name": "stderr",
     "output_type": "stream",
     "text": [
      "c:\\Users\\jongcheol\\AppData\\Local\\Programs\\Python\\Python311\\Lib\\site-packages\\torchvision\\models\\_utils.py:208: UserWarning: The parameter 'pretrained' is deprecated since 0.13 and may be removed in the future, please use 'weights' instead.\n",
      "  warnings.warn(\n",
      "c:\\Users\\jongcheol\\AppData\\Local\\Programs\\Python\\Python311\\Lib\\site-packages\\torchvision\\models\\_utils.py:223: UserWarning: Arguments other than a weight enum or `None` for 'weights' are deprecated since 0.13 and may be removed in the future. The current behavior is equivalent to passing `weights=None`.\n",
      "  warnings.warn(msg)\n"
     ]
    },
    {
     "name": "stdout",
     "output_type": "stream",
     "text": [
      "MobileNet v2 Fold [4], Epoch [1/25], Loss: 1.4553\n",
      "MobileNet v2 Fold [4], Epoch [2/25], Loss: 0.9912\n",
      "MobileNet v2 Fold [4], Epoch [3/25], Loss: 0.7898\n",
      "MobileNet v2 Fold [4], Epoch [4/25], Loss: 0.6607\n",
      "MobileNet v2 Fold [4], Epoch [5/25], Loss: 0.5666\n",
      "MobileNet v2 Fold [4], Epoch [6/25], Loss: 0.4983\n",
      "MobileNet v2 Fold [4], Epoch [7/25], Loss: 0.4344\n",
      "MobileNet v2 Fold [4], Epoch [8/25], Loss: 0.3803\n",
      "MobileNet v2 Fold [4], Epoch [9/25], Loss: 0.3322\n",
      "MobileNet v2 Fold [4], Epoch [10/25], Loss: 0.2961\n",
      "MobileNet v2 Fold [4], Epoch [11/25], Loss: 0.2525\n",
      "MobileNet v2 Fold [4], Epoch [12/25], Loss: 0.2263\n",
      "MobileNet v2 Fold [4], Epoch [13/25], Loss: 0.2032\n",
      "MobileNet v2 Fold [4], Epoch [14/25], Loss: 0.1774\n",
      "MobileNet v2 Fold [4], Epoch [15/25], Loss: 0.1612\n",
      "MobileNet v2 Fold [4], Epoch [16/25], Loss: 0.1470\n",
      "MobileNet v2 Fold [4], Epoch [17/25], Loss: 0.1373\n",
      "MobileNet v2 Fold [4], Epoch [18/25], Loss: 0.1280\n",
      "MobileNet v2 Fold [4], Epoch [19/25], Loss: 0.1172\n",
      "MobileNet v2 Fold [4], Epoch [20/25], Loss: 0.1138\n",
      "MobileNet v2 Fold [4], Epoch [21/25], Loss: 0.1001\n",
      "MobileNet v2 Fold [4], Epoch [22/25], Loss: 0.0997\n",
      "MobileNet v2 Fold [4], Epoch [23/25], Loss: 0.0988\n",
      "MobileNet v2 Fold [4], Epoch [24/25], Loss: 0.0860\n",
      "MobileNet v2 Fold [4], Epoch [25/25], Loss: 0.0824\n",
      "MobileNet v2 Fold 4 Accuracy: 84.25%\n",
      "\n",
      "=== MobileNet v2 Fold 5 시작 ===\n"
     ]
    },
    {
     "name": "stderr",
     "output_type": "stream",
     "text": [
      "c:\\Users\\jongcheol\\AppData\\Local\\Programs\\Python\\Python311\\Lib\\site-packages\\torchvision\\models\\_utils.py:208: UserWarning: The parameter 'pretrained' is deprecated since 0.13 and may be removed in the future, please use 'weights' instead.\n",
      "  warnings.warn(\n",
      "c:\\Users\\jongcheol\\AppData\\Local\\Programs\\Python\\Python311\\Lib\\site-packages\\torchvision\\models\\_utils.py:223: UserWarning: Arguments other than a weight enum or `None` for 'weights' are deprecated since 0.13 and may be removed in the future. The current behavior is equivalent to passing `weights=None`.\n",
      "  warnings.warn(msg)\n"
     ]
    },
    {
     "name": "stdout",
     "output_type": "stream",
     "text": [
      "MobileNet v2 Fold [5], Epoch [1/25], Loss: 1.4253\n",
      "MobileNet v2 Fold [5], Epoch [2/25], Loss: 0.9670\n",
      "MobileNet v2 Fold [5], Epoch [3/25], Loss: 0.7607\n",
      "MobileNet v2 Fold [5], Epoch [4/25], Loss: 0.6466\n",
      "MobileNet v2 Fold [5], Epoch [5/25], Loss: 0.5625\n",
      "MobileNet v2 Fold [5], Epoch [6/25], Loss: 0.4884\n",
      "MobileNet v2 Fold [5], Epoch [7/25], Loss: 0.4302\n",
      "MobileNet v2 Fold [5], Epoch [8/25], Loss: 0.3735\n",
      "MobileNet v2 Fold [5], Epoch [9/25], Loss: 0.3333\n",
      "MobileNet v2 Fold [5], Epoch [10/25], Loss: 0.2936\n",
      "MobileNet v2 Fold [5], Epoch [11/25], Loss: 0.2492\n",
      "MobileNet v2 Fold [5], Epoch [12/25], Loss: 0.2278\n",
      "MobileNet v2 Fold [5], Epoch [13/25], Loss: 0.2019\n",
      "MobileNet v2 Fold [5], Epoch [14/25], Loss: 0.1770\n",
      "MobileNet v2 Fold [5], Epoch [15/25], Loss: 0.1610\n",
      "MobileNet v2 Fold [5], Epoch [16/25], Loss: 0.1457\n",
      "MobileNet v2 Fold [5], Epoch [17/25], Loss: 0.1381\n",
      "MobileNet v2 Fold [5], Epoch [18/25], Loss: 0.1279\n",
      "MobileNet v2 Fold [5], Epoch [19/25], Loss: 0.1155\n",
      "MobileNet v2 Fold [5], Epoch [20/25], Loss: 0.1138\n",
      "MobileNet v2 Fold [5], Epoch [21/25], Loss: 0.1015\n",
      "MobileNet v2 Fold [5], Epoch [22/25], Loss: 0.1025\n",
      "MobileNet v2 Fold [5], Epoch [23/25], Loss: 0.0942\n",
      "MobileNet v2 Fold [5], Epoch [24/25], Loss: 0.0864\n",
      "MobileNet v2 Fold [5], Epoch [25/25], Loss: 0.0888\n",
      "MobileNet v2 Fold 5 Accuracy: 85.80%\n",
      "\n",
      "=== MobileNet v2 최종 K-Fold 평균 정확도 ===\n",
      "MobileNet v2 Average 5-Fold Accuracy: 85.13%\n"
     ]
    }
   ],
   "source": [
    "# 7. MobileNet v2 Cross Validation 학습 및 평가\n",
    "for fold, (train_idx, val_idx) in enumerate(kf.split(np.zeros(len(combined_labels)), combined_labels)):\n",
    "    print(f\"\\n=== MobileNet v2 Fold {fold + 1} 시작 ===\")\n",
    "\n",
    "    # Fold별 데이터셋 분리\n",
    "    train_subset = Subset(combined_dataset, train_idx)\n",
    "    val_subset = Subset(combined_dataset, val_idx)\n",
    "    train_loader = DataLoader(train_subset, batch_size=32, shuffle=True, num_workers=0)\n",
    "    val_loader = DataLoader(val_subset, batch_size=32, shuffle=False, num_workers=0)\n",
    "\n",
    "    # MobileNet v2 모델 설정\n",
    "    mobilenet_v2 = models.mobilenet_v2(pretrained=False)\n",
    "    num_classes = 10  # CIFAR-10과 동일하게 10개 클래스\n",
    "    mobilenet_v2.classifier[1] = nn.Linear(mobilenet_v2.classifier[1].in_features, num_classes)\n",
    "    mobilenet_v2 = mobilenet_v2.to(device)\n",
    "\n",
    "    # 손실 함수 및 옵티마이저 설정\n",
    "    criterion = nn.CrossEntropyLoss()\n",
    "    optimizer = torch.optim.Adam(mobilenet_v2.parameters(), lr=0.001)\n",
    "\n",
    "    # MobileNet v2 학습\n",
    "    num_epochs = 25  # 예시로 10 에포크\n",
    "    mobilenet_v2.train()\n",
    "    for epoch in range(num_epochs):\n",
    "        running_loss = 0.0\n",
    "        for images, labels in train_loader:\n",
    "            images, labels = images.to(device), labels.to(device)\n",
    "\n",
    "            optimizer.zero_grad()\n",
    "            outputs = mobilenet_v2(images)\n",
    "            loss = criterion(outputs, labels)\n",
    "            loss.backward()\n",
    "            optimizer.step()\n",
    "\n",
    "            running_loss += loss.item()\n",
    "        print(f\"MobileNet v2 Fold [{fold + 1}], Epoch [{epoch+1}/{num_epochs}], Loss: {running_loss / len(train_loader):.4f}\")\n",
    "\n",
    "    # MobileNet v2 검증\n",
    "    mobilenet_v2.eval()\n",
    "    val_preds, val_labels = [], []\n",
    "    with torch.no_grad():\n",
    "        for images, labels in val_loader:\n",
    "            images = images.to(device)\n",
    "            outputs = mobilenet_v2(images)\n",
    "            _, preds = torch.max(outputs, 1)\n",
    "            val_preds.extend(preds.cpu().numpy())\n",
    "            val_labels.extend(labels.numpy())\n",
    "\n",
    "    # MobileNet v2 검증 정확도 계산 및 저장\n",
    "    fold_accuracy_mobilenet = accuracy_score(val_labels, val_preds)\n",
    "    fold_accuracies_mobilenet.append(fold_accuracy_mobilenet)\n",
    "    print(f\"MobileNet v2 Fold {fold + 1} Accuracy: {fold_accuracy_mobilenet * 100:.2f}%\")\n",
    "\n",
    "# 최종 K-Fold 평균 정확도 출력\n",
    "print(\"\\n=== MobileNet v2 최종 K-Fold 평균 정확도 ===\")\n",
    "print(f\"MobileNet v2 Average {k}-Fold Accuracy: {np.mean(fold_accuracies_mobilenet) * 100:.2f}%\")"
   ]
  }
 ],
 "metadata": {
  "kernelspec": {
   "display_name": "Python 3",
   "language": "python",
   "name": "python3"
  },
  "language_info": {
   "codemirror_mode": {
    "name": "ipython",
    "version": 3
   },
   "file_extension": ".py",
   "mimetype": "text/x-python",
   "name": "python",
   "nbconvert_exporter": "python",
   "pygments_lexer": "ipython3",
   "version": "3.11.1"
  }
 },
 "nbformat": 4,
 "nbformat_minor": 2
}
